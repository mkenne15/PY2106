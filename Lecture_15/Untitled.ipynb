{
 "cells": [
  {
   "cell_type": "code",
   "execution_count": 3,
   "id": "587f6af7-c18a-4729-a633-8d993556c71a",
   "metadata": {
    "tags": []
   },
   "outputs": [],
   "source": [
    "import numpy as np\n",
    "import matplotlib.pyplot as plt\n",
    "import astropy.units as u\n",
    "import astropy.constants as c\n",
    "from astropy.modeling import models"
   ]
  },
  {
   "cell_type": "code",
   "execution_count": 34,
   "id": "6d844112-4c98-4aca-8434-9a3529f28873",
   "metadata": {},
   "outputs": [
    {
     "data": {
      "image/png": "[encoded data removed]",
      "text/plain": [
       "<Figure size 432x288 with 1 Axes>"
      ]
     },
     "metadata": {
      "needs_background": "light"
     },
     "output_type": "display_data"
    }
   ],
   "source": [
    "from astropy.modeling.models import BlackBody\n",
    "from astropy import units as u\n",
    "from astropy.visualization import quantity_support\n",
    "\n",
    "bb = BlackBody(temperature=5778*u.K)\n",
    "wav = np.arange(1000, 1100000) * u.AA\n",
    "flux = bb(wav)\n",
    "\n",
    "with quantity_support():\n",
    "    plt.figure()\n",
    "    plt.loglog(wav, flux)\n",
    "    plt.show()"
   ]
  },
  {
   "cell_type": "markdown",
   "id": "44bf8f48-8af1-448e-9086-3703c89b8853",
   "metadata": {},
   "source": [
    "# Blackbody Radiation"
   ]
  },
  {
   "cell_type": "markdown",
   "id": "a8eeb771-84d5-4b58-a9c8-b6af3ccbbbd5",
   "metadata": {},
   "source": [
    "Blackbody = a physical body that absorbs all electromagnetic radiation incident on it. \"A perfect absorber/emitter of radiation\" - which means the efficiency of absorption/emissions is 1.\n",
    "\n",
    "The distribution of the emitted radiation with frequency/wavlenegth is determined by the object's temperature $T$, accround to the Planck blackbody radiation law (see the website for the full derivation, combines information from PY2102 and PY2104).\n",
    "\n",
    "$$\n",
    "    u(\\omega,T)d\\omega = \\frac{\\hbar \\omega^3 d\\omega}{2 \\pi^2 c^2 \\left(\\exp\\left[\\frac{\\hbar \\omega}{kT}\\right]-1\\right)}\n",
    "$$\n",
    "\n",
    "This gives emitted energy density as a function of $\\omega$. This gives the spectrum of an object. The peak of this function occurs at\n",
    "\n",
    "$$\n",
    "    \\frac{du}{d\\omega} = 0\n",
    "$$\n",
    "\n",
    "which has the solution\n",
    "\n",
    "$$\n",
    "    (3-\\beta \\hbar \\omega)\\exp(\\beta \\hbar \\omega) = 3\n",
    "$$\n",
    "\n",
    "where $\\beta = 1/kT$. This is a transcendental equation, and must be either solved graphically or numerically. The solution is \n",
    "\n",
    "$$\n",
    "    \\frac{\\hbar \\omega_{\\rm peak}}{kT} = \\frac{h \\nu_{\\rm peak}}{kT} = 2.822\n",
    "$$\n",
    "which is the Wien displacement law. This relates the frequency at which a blackbody peaks with the temperature of the object. This peak moves towards higher frequencies for objects with higher temperatures.\n",
    "\n",
    "Also, note that the blackbody curve for a higher T lies completely above the blackbody curve for a lower T. Consider\n",
    "\n",
    "$$\n",
    "    \\frac{u(\\omega,T_1)}{u(\\omega,T_2)} = \\frac{\\left(\\exp\\left[\\frac{\\hbar \\omega}{kT_2}\\right]-1\\right)}{\\left(\\exp\\left[\\frac{\\hbar \\omega}{kT_1}\\right]-1\\right)}\n",
    "$$\n",
    "\n",
    "which is always $>1$ if $T_1>T_2$.\n",
    "\n",
    "Now, let's look at the equation in a bit more detail\n",
    "\n",
    "## Low-frequency limit for Black-body radiation\n",
    "Consider first the condition $\\frac{\\hbar \\omega}{kT}<<1$, which means that $\\exp\\left[\\frac{\\hbar \\omega}{kT}\\right] \\sim 1+\\frac{\\hbar \\omega}{kT}$. This means that\n",
    "$$\n",
    "    u(\\omega,T)d\\omega = \\frac{\\hbar \\omega^3 d\\omega}{2 \\pi^2 c^2 \\left(\\frac{\\hbar \\omega}{kT}\\right)}\n",
    "$$\n",
    "$$\n",
    "    u(\\omega,T)d\\omega = \\frac{k T \\omega^2 d\\omega}{2 \\pi^2 c^2}\n",
    "$$\n",
    "This is known as the Rayleigh Jeans (classical) limit. When first dervied, it was quickly shown that it couldn't be fully correct. To understand why, consider the limit $\\omega \\rightarrow \\infty$, then $u(\\omega,T)\\rightarrow \\infty$. This is known as the \"ultraviolet catastrophe\", as it sugested that objects emitted infinite energy!\n",
    "\n",
    "## High-frequency limit for Black-body radiation\n",
    "Consider now the condition $\\frac{\\hbar \\omega}{kT}>>1$, which means that $\\exp\\left[\\frac{\\hbar \\omega}{kT}\\right] >>1$. This means that\n",
    "$$\n",
    "    u(\\omega,T)d\\omega = \\frac{\\hbar \\omega^3 }{2 \\pi^2 c^2} \\exp\\left[-\\frac{\\hbar \\omega}{kT}\\right]d\\omega\n",
    "$$\n",
    "\n",
    "## Total Energy density of Black-body radiation\n",
    "Ok, so we know the shape of the spectrum now, and the two limits of it. Next, we want to ask the question - what is the total energy density of black body radation? To do this, we must integrate over $\\omega$.\n",
    "$$\n",
    "    u(T) = \\int_0^{\\infty} u(\\omega,T)d\\omega\n",
    "$$\n",
    "$$\n",
    "    u(T) = \\int_0^{\\infty} \\frac{\\hbar \\omega^3 d\\omega}{2 \\pi^2 c^2 \\left(\\exp\\left[\\frac{\\hbar \\omega}{kT}\\right]-1\\right)}\n",
    "$$\n",
    "Can tackle this using substitution of variables. Let $x=\\frac{\\hbar \\omega}{kT}$, and $dx=\\frac{\\hbar d\\omega}{kT}$. We then get\n",
    "$$\n",
    "    u(T) = \\frac{\\hbar}{2 \\pi^2 c^2} \\left[\\frac{kT}{\\hbar}\\right]^4 \\int_0^{\\infty} \\frac{x^3 dx}{e^x-1}\n",
    "$$\n",
    "That last term is a definite integral (can be looked up or thrown into a integral solver), and is $\\frac{\\pi^4}{15}$. So, we get\n",
    "$$\n",
    "    u(T) = \\frac{\\pi^2 k^4}{15 \\hbar^3 c^2} T^4 = aT^4 \n",
    "$$\n",
    "This gives you the tnergy radiated per unit are per unit time by a black body surface.\n",
    "\n",
    "Now, consider a small area $\\Delta A$ on the wall of a cavity filled with black body radiation. If it's in equilibrium, then the energy absorbed by $\\Delta A$ should be the same as the energy emitted by $\\Delta A$. So, in order to find out how much energy that area is emitting, we are first going to calculate how much energy is absorbed by the surface, and assuem they are equal.\n",
    "\n",
    "First, let's find energy absorbed. This is given by the number of photons hitting $\\Delta A$. Total volume with photons capable of hitting $\\Delta A$ in time $\\Delta t$ - a half sphere of radius $c \\Delta t$.\n",
    "\n",
    "\n",
    "Now, consider a volume element in the half-sphere. Photons travelling isotropically (all directions). As such, the fraction that will hit $\\Delta A$ is:\n",
    "$$\n",
    "    fraction = \\frac{\\Delta A \\cos(\\theta)}{4 \\pi r^2}\n",
    "$$\n",
    "The total energy in the volume element is:\n",
    "$$\n",
    "    dE = u(T)dV\n",
    "$$\n",
    "$$\n",
    "    dE = u(T)r^2\\sin(\\theta)drd\\theta d\\phi\n",
    "$$\n",
    "Therefore\n",
    "$$\n",
    "    dE_{\\rm abs} = u(T) r^2 \\sin \\theta dr d\\theta d\\phi \\frac{\\Delta A \\cos(\\theta)}{4 \\pi r^2}\n",
    "$$\n",
    "The total energy absorbed by $\\Delta A$ in time $\\Delta t$ is then given by integrating over the volume:\n",
    "$$\n",
    "    E_{\\rm abs} = \\int^{c \\Delta t}_{0} \\int^{\\pi/2}_{0} \\int^{2\\pi}_{0} \\frac{u(T) \\Delta A}{4\\pi } \\cos \\theta \\sin \\theta dr d\\theta d\\phi\n",
    "$$\n",
    "\n",
    "$$\n",
    "    E_{\\rm abs} = \\frac{u(T) \\Delta A}{4\\pi }  \\int^{c \\Delta t}_{0} dr \\int^{\\pi/2}_{0} \\cos \\theta \\sin \\theta  d\\theta \\int^{2\\pi}_{0}  d\\phi\n",
    "$$\n",
    "The first integral is just $c\\Delta t$, the last is $2\\pi$, and the middle one can be done using the substitution $x=\\sin\\theta$. Doing this gives\n",
    "$$\n",
    "    E_{\\rm abs} = \\frac{1}{4} c \\; u(T) \\Delta A \\Delta t = E_{\\rm emit}\n",
    "$$\n",
    "This is the energy absorbed/smitted by an area $\\Delta A$ in time $\\Delta t$. So now, the energy emitted per unit time per unit area by a black body surface is\n",
    "$$\n",
    "    \\frac{L}{A} = \\frac{c}{4} u(T) = \\frac{1}{4} c \\; a \\; T^4 = \\sigma T^4\n",
    "$$\n",
    "where $\\sigma$ is the Stefan Boltzmann constant. Accounting for efficiency:\n",
    "$$\n",
    "    \\frac{L}{A} = \\epsilon \\sigma T^4\n",
    "$$\n",
    "where $0<\\epsilon<1$, 1 for a perfect Black body."
   ]
  },
  {
   "cell_type": "code",
   "execution_count": null,
   "id": "a08c8d4d-ee8a-442c-a4bf-40a732bc0700",
   "metadata": {},
   "outputs": [],
   "source": []
  }
 ],
 "metadata": {
  "kernelspec": {
   "display_name": "Python 3 (ipykernel)",
   "language": "python",
   "name": "python3"
  },
  "language_info": {
   "codemirror_mode": {
    "name": "ipython",
    "version": 3
   },
   "file_extension": ".py",
   "mimetype": "text/x-python",
   "name": "python",
   "nbconvert_exporter": "python",
   "pygments_lexer": "ipython3",
   "version": "3.8.10"
  }
 },
 "nbformat": 4,
 "nbformat_minor": 5
}
