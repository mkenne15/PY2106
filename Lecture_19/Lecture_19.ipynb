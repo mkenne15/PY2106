{
 "cells": [
  {
   "cell_type": "markdown",
   "id": "7b06940c-b1c9-429d-b2d6-dae7500ef411",
   "metadata": {},
   "source": [
    "# Terrestrial versus Gas Giant Planets"
   ]
  },
  {
   "cell_type": "markdown",
   "id": "7d4f0530-7aa8-48c5-8c81-1097e3605959",
   "metadata": {},
   "source": [
    "So why do we have these two types of planets? And how does this feed into a model of forming the solar system? First, let's propose a model.\n",
    "- As the protosolar nebula contracted and formed a disc, heavier elements condensed out first.\n",
    "- Water had not yet condensed when terrestrial planest formed. It's suspected most water on Earth comes from collisions with cometary nuclei.\n",
    "- Water could condense beyond some distance from Sun, near orbit of Jupiter (as shown below, where we've calculated the irradiation temperature for different distances from the Sun, and found where the snow line (condenseation temperature for water = 150 k) lies."
   ]
  },
  {
   "cell_type": "code",
   "execution_count": 40,
   "id": "f66013c1-e3c5-44e8-a292-7b48f2c5a53a",
   "metadata": {},
   "outputs": [
    {
     "data": {
      "image/png": "[encoded data removed]",
      "text/plain": [
       "<Figure size 576x360 with 1 Axes>"
      ]
     },
     "metadata": {
      "needs_background": "light"
     },
     "output_type": "display_data"
    }
   ],
   "source": [
    "import numpy as np\n",
    "import matplotlib.pyplot as plt\n",
    "import astropy.units as u\n",
    "import astropy.constants as c\n",
    "\n",
    "distances = [5.791e7,1.082e8,1.496e8,2.2794e8,7.7833e8,1.4294e9,2.870990e9,4.504e9]*u.km\n",
    "temp = 1/2**(1/4)*5770*u.K*np.sqrt(u.solRad/distances)\n",
    "\n",
    "temp_ab = 1/2**(1/4)*5770*u.K*np.sqrt(u.solRad/(3.2*u.au))\n",
    "\n",
    "Spec_Type = [\"Me\", \"V\", \"E\", \"Ma\", \"J\", \"S\", \"U\", \"N\"]\n",
    "\n",
    "plt.figure(figsize=[8,5])\n",
    "plt.loglog(distances.to(u.au),temp.to(u.K),'C0.')\n",
    "for i, spec in enumerate(Spec_Type):\n",
    "    plt.text(distances.to(u.au).value[i],temp.to(u.K)[i].value,spec,fontsize=15)\n",
    "plt.loglog(3.2*u.au,temp_ab.to(u.K),'C4o')\n",
    "plt.text(3.2,temp_ab.to(u.K).value+15,\"Asteroid Belt\",fontsize=13)\n",
    "plt.xlabel(r\"Distance (AU)\",fontsize=15)\n",
    "plt.ylabel(r\"Irradiation temp (K)\",fontsize=15)\n",
    "plt.axvline(4.95,linestyle='--',color='C1')\n",
    "plt.axvline(29,linestyle='-.',color='C2')\n",
    "plt.savefig(\"Figures/Temperature_profile_solar_system.png\")\n",
    "plt.show()"
   ]
  },
  {
   "cell_type": "markdown",
   "id": "fb27ed51-dd56-43ef-9558-5e7df8abfbfa",
   "metadata": {},
   "source": [
    "- When fusion began in the centre of the Sun, it led to a very strong solar wind. This pushed matter not bound in the inner planets away from the Sun.\n",
    "- Water pushed beyond the snow line. There, it condensed onto Jupiter, increasing it's mass. This enabled Jupiter to caputre H and He, further increasing its mass."
   ]
  },
  {
   "cell_type": "markdown",
   "id": "20e3ba9b-39ee-42fb-9340-bf3ae35818e4",
   "metadata": {},
   "source": [
    "# Protoplanetary discs"
   ]
  },
  {
   "cell_type": "markdown",
   "id": "dca1e653-6345-40c8-a2f3-457ab397951c",
   "metadata": {},
   "source": [
    "![HLTau](Figures/HL_Tau_protoplanetary_disk.jpg){:height=\"36PX\"}\n",
    "![Sim](Figures/Protoplanetary_Disk_Simulated_Spiral_Arm_vs_Observational_Data.jpg)"
   ]
  },
  {
   "cell_type": "markdown",
   "id": "74d870ed-2ca2-4cf5-8111-f41426ea72d7",
   "metadata": {},
   "source": [
    "# Quirks of planets"
   ]
  },
  {
   "cell_type": "markdown",
   "id": "69754ec8-51a3-4e09-b929-0888ae37cf3f",
   "metadata": {},
   "source": [
    "## Mercury\n",
    "- Its rotation is studied using rader signals transmiteed by the Arecibo radio telescope (which has since collapsed) in 1965, using the Doppler effect. The rotational period is $P_{\\rm rot}=58.65$ d.\n",
    "- This is exactly 2/3 of the orbital period of the planet ($P_{\\rm orb}=87.97$ d). Since Mercury feels the strongest tidal force at perihelion (point of closest approach to the Sun), this means that the tidal bulges always line up with the Sun at this time (as there is 1.5 rotations per orbit, see figure).\n",
    "- Gravitational influence of other planets causes the perihelion to shift in a counter clockwise rotation by 574\"/century. Newtonian gravity can only explain 531\"/century - the remainig 43\"/century explained using Eintein's theory of general relativity.\n",
    "\n",
    "## Mars and the asteroid belt (between Mars and Jupiter)\n",
    "- Mars has a low mass of 0.107 $M_{\\oplus}$.\n",
    "- To explain this, it may be that Jupiter became very massive before Mars finished forming, which perturbed orbits of planetesimals near Mars.\n",
    "- This would meant the \"missing mass\" of Mars has endde up in the asteroid belt.\n",
    "- Numerical simulations suggest mars rotational axis may vary chaotically with tilts between 11-49$^{\\rm o}$ on timescales as short as a few million years (due to its low mass and gravitational influence of other planets).\n",
    "\n",
    "## Venus\n",
    "- Also studied using radar signals sent from Earth, but also using Doppler shifts of reflected sunlight.\n",
    "- Venus rotates in a retrograde direction, with $P_{\\rm rot}=243$ d and $P_{\\rm orb}=224.7$d.\n",
    "- Main gas in atmosphere is C02 (96.4%). At the base of its atmosphere, it has $T=740$ K and a pressure of 90 atm.\n",
    "- This temperature is 2-3 times higher than the irradiation temperature we get when we use the formula from last weeek - due to the greenhouse effect.\n",
    "- Surface accurately mapped by the Magellan spacecraft. The frequency of the radio signals sent to Earth were Doppler shifted depending on the speed of the spacecraft as it passed over regions of higher/lower mean density.\n",
    "- It also potentially has traces of phosphine in its upper atmosphere (which **may** be due to life).\n",
    "\n",
    "## Gas Giants\n",
    "All planets produce heat due to the decay of radioactive nuclei, including the terrestrial planets, but the Gas Giants show excess heat on top of this. This is partly dueto the gravitational potential energy realeased by gases as the collapse onto the planets during their formation:\n",
    "$$\n",
    "    <K>=-\\frac{1}{2}<U>\n",
    "$$\n",
    "$$\n",
    "    <E> = \\frac{1}{2}<U>\n",
    "$$\n",
    "Now, using $<U>=-\\frac{3}{5}\\frac{GM^2}{r}=-\\frac{16}{15}\\pi^2 G \\rho^2 r^5$. Also, say that the cooling time scale is given by the total energy divided by the loss rate:\n",
    "$$\n",
    "    \\tau _{\\rm cool} = \\frac{\\rm total \\: energy}{\\rm energy \\: loss \\: rate} \\sim \\frac{V}{A} \\sim \\frac{r^3}{r^2} \\sim {r}\n",
    "$$\n",
    "Jupiter's heat production can be explained in this way - that is, the excess we see matches what we'd expect from this cooling time for an object of Jupiter's radius. However, Saturn's heat production is too high.\n",
    "- The action of the virial theorem continus as He sinks slowly through the H$_2$ atmosphere."
   ]
  },
  {
   "cell_type": "code",
   "execution_count": null,
   "id": "80fe069b-4dbe-4797-9d1b-ea93ffca4ae2",
   "metadata": {},
   "outputs": [],
   "source": []
  }
 ],
 "metadata": {
  "kernelspec": {
   "display_name": "Python 3 (ipykernel)",
   "language": "python",
   "name": "python3"
  },
  "language_info": {
   "codemirror_mode": {
    "name": "ipython",
    "version": 3
   },
   "file_extension": ".py",
   "mimetype": "text/x-python",
   "name": "python",
   "nbconvert_exporter": "python",
   "pygments_lexer": "ipython3",
   "version": "3.8.10"
  }
 },
 "nbformat": 4,
 "nbformat_minor": 5
}
