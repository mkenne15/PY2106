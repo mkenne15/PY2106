{
 "cells": [
  {
   "cell_type": "markdown",
   "id": "f1f733c3-5006-4c17-9606-c3c54614bd42",
   "metadata": {},
   "source": [
    "# Special Relativity"
   ]
  },
  {
   "cell_type": "markdown",
   "id": "223e5bd9-7f96-488f-b5f7-f34a52526b23",
   "metadata": {},
   "source": [
    "## Lorentz Transformations"
   ]
  },
  {
   "cell_type": "markdown",
   "id": "cda74283-bb20-4fcb-b833-1f4d533d7c0c",
   "metadata": {},
   "source": [
    "Let's start by considering 2 intertial reference frames, **S** and **S'**.  The **S'** prime moves in the positive $x$ direction with a constant velocity $u$ relative to **S**. An object has coordinates:\n",
    "$$\n",
    "S': (x',y',z') {\\rm \\: at \\:} t'\n",
    "$$\n",
    "$$\n",
    "S: (x,y,z) {\\rm \\: at \\:} t\n",
    "$$\n",
    "Finally, we'll choose the origins of our frames to coincide at $t'=t=0$.\n",
    "\n",
    "The $y$ and $z$ coordintes are not affected by the motion, since we've chosen our frame to only have a velocity in the $x$ direction. This is something we are always free to do, as it simply requires a rotation of the frames. As such,\n",
    "$$\n",
    "    y=y'; \\: z=z'\n",
    "$$\n",
    "The transformations between these frames are thus given by the Lorentz Transformations:\n",
    "$$\n",
    "\\begin{align}\n",
    "    x' &= \\gamma (x-ut)\\\\\n",
    "    y' &= y \\\\\n",
    "    z' &= z \\\\\n",
    "    t' &= \\gamma (t-\\frac{u x}{c^2}) \\\\\n",
    "\\end{align}\n",
    "$$\n",
    "where\n",
    "$$\n",
    "    \\gamma = \\frac{1}{\\sqrt{1-\\frac{u^2}{c^2}}}\n",
    "$$\n",
    "We can get the inverse transformations very simply by switching the primed variables and unprimed variables, and replacing $u$ with $-u$.\n",
    "$$\n",
    "\\begin{align}\n",
    "    x &= \\gamma (x'+ut') \\\\\n",
    "    y &= y' \\\\\n",
    "    z &= z' \\\\\n",
    "    t &= \\gamma (t'+\\frac{u x'}{c^2}) \\\\\n",
    "\\end{align}\n",
    "$$\n",
    "\n",
    "## Time Dialation\n",
    "So how we use these relations? Consider first a time interval $\\Delta t'$ measured by a clock which is at rest in the **S'** frame. The reason that it's at rest is important because it let's us set $\\Delta x' = 0$ (that is, the clock does not move in the primed frame over this interval. If we want to figure out how much time has passed in **S**, then we can use:\n",
    "$$\n",
    "\\begin{align}\n",
    "    t_2 - t_1 &= \\gamma \\left( (t_2'-t_1')+\\frac{u (x'_2-x'_1)}{c^2} \\right) \\\\\n",
    "    \\Delta t &= \\gamma \\left( (\\Delta t')+\\frac{u \\Delta x'}{c^2} \\right) \\\\\n",
    "    \\Delta t &= \\gamma \\Delta t' \\\\\n",
    "\\end{align}\n",
    "$$\n",
    "This leads us to the equation for \"time dialation\"\n",
    "$$\n",
    "    \\Delta t = \\frac{\\Delta t' }{\\sqrt{1-\\frac{u^2}{c^2}}}\n",
    "$$\n",
    "We should also note that the clock has moved in **S**:\n",
    "$$\n",
    "\\begin{align}\n",
    "    x_2 - x_1 &= \\gamma ((x'_2-x'_1)+u(t'_2-t'_1))\\\\\n",
    "    \\Delta x  &= \\gamma u\\Delta t'\\\\\n",
    "\\end{align}\n",
    "$$\n",
    "It's important to remember that this is only true for a clock which is at rest in the **S'** frame! If it weren't at rest, then the $\\Delta x'$ frame being 0 would not be true. Now, a quick discussion of what this equation actually means. Since $\\sqrt{1-u^2/c^2} \\leq 1$, then $\\gamma \\geq 1$. As such, $\\Delta t \\geq \\Delta t'$. Because the clock is at rest in **S'**, this means the time measured by the clock in **S**, where the clock is moving, is longer."
   ]
  },
  {
   "cell_type": "markdown",
   "id": "e505fb51-1e89-4a3f-a46c-b15917eb53ea",
   "metadata": {},
   "source": [
    "<div class=\"alert alert-block alert-info\">\n",
    "    <b>Proper Time</b>\n",
    "\n",
    "The shortest time interval is measured by a clock which is at rest relative to two events (\"proper time\").\n",
    "    \n",
    "</div>"
   ]
  },
  {
   "cell_type": "markdown",
   "id": "28863eea-e86d-467c-a38c-21915495a765",
   "metadata": {},
   "source": [
    "## Length Contraction\n",
    "Now, consider an object which is travelling at velocity u, while we are stationary. In this scenario, the object is moving with the **S'** frame, and we are in the **S** frame. We want to measure the length of the object. To do so, we must measure the positions of two ends, $x_2$ and $x_1$ at the same time in the **S** frame (so that $t_2$ = $t_1$, $\\Delta t = 0$). We can use\n",
    "$$\n",
    "\\begin{align}\n",
    "    x_2'-x_1' &= \\gamma ((x_2-x_1)-u(t_2-t_1))\\\\\n",
    "    \\Delta x' &= \\gamma \\Delta x\\\\\n",
    "    \\Delta x &= \\frac{\\Delta x '}{\\gamma}\\\\\n",
    "\\end{align}\n",
    "$$\n",
    "Which leads to \"length contraction\":\n",
    "$$\n",
    "    \\Delta x = \\sqrt{(1-\\frac{u^2}{c^2})} \\Delta x'\n",
    "$$\n",
    "Since $\\gamma \\geq 1$, then $\\Delta x \\leq \\Delta x'$. Since we are in the unprimed frame, then we measure the object to be shorter than it actually is."
   ]
  },
  {
   "cell_type": "markdown",
   "id": "a71b2107-10ad-4375-80b9-6720a5882445",
   "metadata": {},
   "source": [
    "<div class=\"alert alert-block alert-info\">\n",
    "    <b>Proper Length</b>\n",
    "\n",
    "The longest length of an object is measured in the frame in which it is at rest (\"proper length\")\n",
    "</div>"
   ]
  },
  {
   "cell_type": "markdown",
   "id": "f94d6368-9c77-41df-9109-9fda1bef65b4",
   "metadata": {},
   "source": [
    "## Example: Cosmic rays\n",
    "Cosmic rays are very energetic particles which enter Earth's atmosphere and subsequently react with atoms to produce muons. These muons decay after an average life time of  $\\tau = 2.2\\times10^{-6}$s as measured in the lab, where the muons are at rest.\n",
    "This means that the number of muons (N) in a sample at time $t$ should go as:\n",
    "$$\n",
    "    N(t) = N_0 \\exp(-t/\\tau)\n",
    "$$\n",
    "where $N_0$ is the initial number of muons.\n",
    "Now, a detector on top of a mountain has measured the rate of muons at a height of 1907 m above sea level to be $563$ muons/hr, travelling downward with a velocity of $u=0.9952 c$. What is the muon rate at sea level?\n",
    "First, the time for the muons to reach sea level is:\n",
    "$$\n",
    "    t = \\frac{1907 {\\rm m}}{0.9925(3\\times10^8 {\\rm m/s})} = 6.39\\times10^{-6} {\\rm s}\n",
    "$$\n",
    "If this sample of muons were at rest, then after this amount of time, we would expect to have\n",
    "$$\n",
    "    N(t) = 563 \\exp(-\\frac{6.39\\times10^{-6}}{2.2\\times10^{-6}}) \\sim 31\n",
    "$$\n",
    "left. However, the rate at sea level has been found to be 407 muons/hr - so, we need to use the above relations to figure out what's occuring here.\n",
    "Since the muons are moving, their lifetime in our frame is different to what it is in the rest frame. Now, assuming we are in the unprimed frame, and the muons are travelling in the primed frame with a velocity u=0.9952:\n",
    "$$\n",
    "    \\tau=\\gamma\\tau'= 10.22(2.2\\times10^{-6}) = 2.24\\times10^{-5} {\\rm s}\n",
    "$$\n",
    "So now using the above expression, but with this new life time:\n",
    "$$\n",
    "    N(t) = 563 \\exp(-\\frac{6.39\\times10^{-6}}{2.24\\times10^{-5}}) \\sim 423\n",
    "$$\n",
    "which is much closer to the observed value.\n",
    "\n",
    "We can look at this from a different angle as well. Imagine an observer alongside the muons wants to measure the distance between the top of the mountain and sea level, which we are now going to call the unprimed frame - what is the distance between the top of the mountain and sealevel? In the rest frame of mountain (the primed frame), this is 1907 m. However, to an observer in the muon frame, the mountain is moving with a velocity of $0.9952$. And so the distance is contracted to:\n",
    "$$\n",
    "    \\Delta x = \\frac{\\Delta x'}{\\gamma} = \\frac{1907}/{10.22} = 189 m\n",
    "$$\n",
    "The time to reach sea level in the muon rest frame is then:\n",
    "$$\n",
    "    t = \\frac{189 {\\rm m}}{0.9925(3\\times10^8 {\\rm m/s})} = 6.3\\times10^{-7} {\\rm s}\n",
    "$$\n",
    "And so, the number of muons left by then is:\n",
    "$$\n",
    "    N(t) = 563 \\exp(-\\frac{6.3\\times10^{-7}}{2.2\\times10^{-6}}) \\sim 423\n",
    "$$\n",
    "\n",
    "So this demonstrates quite nicely that the time dialation in one frame is equivalent to length contraction in the other frame."
   ]
  },
  {
   "cell_type": "code",
   "execution_count": null,
   "id": "52b5e3e3-55cd-47ac-a451-1b19b2bf6397",
   "metadata": {},
   "outputs": [],
   "source": []
  }
 ],
 "metadata": {
  "kernelspec": {
   "display_name": "Python 3 (ipykernel)",
   "language": "python",
   "name": "python3"
  },
  "language_info": {
   "codemirror_mode": {
    "name": "ipython",
    "version": 3
   },
   "file_extension": ".py",
   "mimetype": "text/x-python",
   "name": "python",
   "nbconvert_exporter": "python",
   "pygments_lexer": "ipython3",
   "version": "3.8.10"
  }
 },
 "nbformat": 4,
 "nbformat_minor": 5
}
