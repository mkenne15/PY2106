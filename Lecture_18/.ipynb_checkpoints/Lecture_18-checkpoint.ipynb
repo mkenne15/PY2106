{
 "cells": [
  {
   "cell_type": "code",
   "execution_count": 22,
   "id": "75b169db-7eb0-4482-92e7-4f5fde7bee05",
   "metadata": {},
   "outputs": [],
   "source": [
    "import numpy as np\n",
    "import astropy.units as u\n",
    "import astropy.constants as c\n",
    "import matplotlib.pyplot as plt"
   ]
  },
  {
   "cell_type": "markdown",
   "id": "7f1233c0-b1b0-4354-98a7-25e546ccabd9",
   "metadata": {},
   "source": [
    "# The Solar System"
   ]
  },
  {
   "cell_type": "markdown",
   "id": "082350a1-56a8-4c20-989a-6c567ec25dd9",
   "metadata": {},
   "source": [
    "In the last lecture, we briefly looked at the structure of the solar system, noticing that most of the solar systems mass is contained within the Sun. Additionally, by looking at the escape velocity for a gas at temperature T, we could see why the atmosphere's of the Gas Giants can retain the likes of Hydrogen and Helium, while the terrestrial planets only hold on to heavier elements.\n",
    "\n",
    "Next, let's look at the distribution of angular momentum throughout the solar system, to see if that helps in building up a model for the formation of the solar system.\n",
    "\n",
    "## Mass and Angular momentum distribution\n",
    "There are two types of angular momentum associated with motion in the solar system:\n",
    "- Rotational (Earth spinning around its axis), with a momentum of inertia of $I=\\frac{2}{5}mr^2$, and $J_{\\rm rot}=I\\omega_{\\rm rot}$\n",
    "- Orbital (Earth moving around the Sun), with a momentum of inertia of $I=md^2$ if we treat the body as a point source, and $J_{\\rm orb}=I\\omega_{\\rm orb}$\n",
    "\n",
    "Let's look at the various bodies within the solar system, and how much of the solar systems angular momentum the contain.\n",
    "\n",
    "### The Sun\n",
    "There is a very small amount of orbital momentum as it orbits the solar system barycenter, and for this calculation we're going to neglect it. For the rotational angular momentum, $J_{\\rm rot}$, then $m=M_{\\odot}=2\\times 10^{30}$ kg, $r=R_{\\odot}=7\\times 10^8$ m, and has a rotational period of 26 days ($2.25\\times10^6$ s), which means\n",
    "\n",
    "$$\n",
    "    \\omega_{\\rm rot,\\odot} = \\frac{2\\pi}{2.25\\times10^6}= 2.80 \\times 10^{-6} {\\rm rad/s}\n",
    "$$\n",
    "\n",
    "This gives a rotational angular momentum of the Sun of \n",
    "\n",
    "$$\n",
    "    J_{\\rm rot,\\odot}=\\frac{2}{5}M_{\\odot} R_{\\odot}^2 \\omega_{\\rm rot,\\odot} = 1.07\\times10^{42} {\\rm J \\; s}\n",
    "$$"
   ]
  },
  {
   "cell_type": "code",
   "execution_count": 8,
   "id": "ff4972fa-57cb-4ea5-b0a0-93746b5982dc",
   "metadata": {},
   "outputs": [
    {
     "name": "stdout",
     "output_type": "stream",
     "text": [
      "The Sun's rotational angular momentum is 1.0767197674333849e+42 J s\n"
     ]
    }
   ],
   "source": [
    "m = u.solMass\n",
    "r = u.solRad\n",
    "P = 26*u.day\n",
    "\n",
    "omega = (2*np.pi/P)\n",
    "J = 2/5 * m * r**2 * omega\n",
    "print(f\"The Sun's rotational angular momentum is {J.to(u.J*u.s)}\")"
   ]
  },
  {
   "cell_type": "markdown",
   "id": "e5cbfd4e-f9a9-45dc-a5f9-d4cde330762b",
   "metadata": {},
   "source": [
    "### The Earth\n",
    "So planets have both significant orbital and rotational angular momentum. To put the angular momentum of the Sun into context, let's look at the angular momentum of the Earth. Here, $m=M_{\\oplus}=6\\times10^24$ kg, $r=R_{\\oplus}=6.4\\times 10^6$ m, $P_{\\rm rot} = 1$ day, $\\omega_{\\rm rot} = 7.3\\times10^-5$ rad/s. This means \n",
    "$$\n",
    "    J_{\\rm rot,\\oplus} = \\frac{2}{5}M_{\\oplus} R_{\\oplus}^2 \\omega_{\\rm rot,\\oplus} = 7.06\\times10^{33} {\\rm J \\; s}\n",
    "$$\n",
    "which means the ratio of the Earth's rotational angular momentum to the Sun is\n",
    "$$\n",
    "    \\frac{J_{\\rm rot,\\oplus}}{J_{\\rm rot,\\odot}} = \\frac{7.06\\times10^{33}}{1.07\\times10^{42}}=6.7\\times 10^{-9}\n",
    "$$\n",
    "meaning the Earth's rotational angular momentum is negligible compared to that of the Sun."
   ]
  },
  {
   "cell_type": "code",
   "execution_count": 18,
   "id": "45c4186e-1f62-4528-b97c-0acb7b76138a",
   "metadata": {},
   "outputs": [
    {
     "name": "stdout",
     "output_type": "stream",
     "text": [
      "The Earth's rotational angular momentum is 7.067092438108647e+33 J s\n"
     ]
    }
   ],
   "source": [
    "m = u.earthMass\n",
    "r = u.earthRad\n",
    "P = 1*u.day\n",
    "\n",
    "omega = (2*np.pi/P)\n",
    "J = 2/5 * m * r**2 * omega\n",
    "print(f\"The Earth's rotational angular momentum is {J.to(u.J*u.s)}\")"
   ]
  },
  {
   "cell_type": "markdown",
   "id": "a2f598bb-33df-4139-a89f-e8af4d6c7c4d",
   "metadata": {},
   "source": [
    "The orbital angular momentum of the Earth, with a $P_{\\rm orb}=365.25$ days, and $d=1$ AU. This gives an orbital angular momentum of \n",
    "$$\n",
    "    J_{\\rm orb,\\oplus} = M_{\\oplus} d^2 \\omega_{\\rm orb,\\oplus} = 2.66\\times10^{40} {\\rm J \\; s}\n",
    "$$"
   ]
  },
  {
   "cell_type": "code",
   "execution_count": 19,
   "id": "3ca166be-e49e-4d63-b7b8-8175d20c4762",
   "metadata": {},
   "outputs": [
    {
     "name": "stdout",
     "output_type": "stream",
     "text": [
      "The Earth's orbital angular momentum is 2.661084907751392e+40 J s\n"
     ]
    }
   ],
   "source": [
    "m = u.earthMass\n",
    "d = u.au\n",
    "P = u.year\n",
    "\n",
    "omega = (2*np.pi/P)\n",
    "J = m * d**2 * omega\n",
    "print(f\"The Earth's orbital angular momentum is {J.to(u.J*u.s)}\")"
   ]
  },
  {
   "cell_type": "markdown",
   "id": "73bc258a-d653-4fc9-8db2-e260d411f01f",
   "metadata": {},
   "source": [
    "So the ratio of Earth's orbital to Earth's rotational angular momentum is:\n",
    "$$\n",
    "    \\frac{J_{\\rm orb,\\oplus}}{J_{\\rm rot,\\oplus}} = 2.66\\times10^{40}/7.06\\times10^{33} = 3.7\\times10^6\n",
    "$$\n",
    "meaning the rotational angular momentum of the Earth is negligible.\n",
    "\n",
    "However, the ratio of the Earth's orbital angular momentum to the Sun's rotational angular momentum is \n",
    "$$\n",
    "    \\frac{J_{\\rm orb,\\oplus}}{J_{\\rm rot,\\odot}} = 2.66\\times10^{40}/1.07\\times10^{42} = 0.024\n",
    "$$\n",
    "That's 2.5%, which is an appreciable amount!\n",
    "\n",
    "So, this is true for all of the planets - their rotational angular momentum scales with the square of their radius, while their orbital angular momentum scales with the squrea of their distance to the Sun. For all of these, $d>>R$, meaning the orbital angular momentum is always much, much higher than the rotational angular momentum.\n",
    "\n",
    "So, with that knowledge, let's focus on the orbital angular momentum:\n",
    "$$\n",
    "    J_{\\rm orb} = m d^2 \\omega\n",
    "$$\n",
    "The gas giants have much larger masses, and much larger distances, and similar orbital periods, so we should expect a large fraction of the angular momentum of the solar system to lie with them.\n",
    "\n",
    "So if you go and calculate the orbital angular momenta for all of the gas giants, you'll get that the total is $J_{\\rm orb, giants} = 3.07\\times10^{43}$ J s. This accounts for 96% of the total angular momentum of the solar system."
   ]
  },
  {
   "cell_type": "markdown",
   "id": "5b09f4f2-dd2c-4cc1-8b7d-cf1307062591",
   "metadata": {},
   "source": [
    "<div class=\"alert alert-block alert-info\">\n",
    "    <b>Summary</b>\n",
    "\n",
    "The orbital motion of the Gas Giants contain 96.5% of the total angular momentum of the solar system, and yet the planets only contain 0.13% of the solar systems mass.\n",
    "    \n",
    "</div>"
   ]
  },
  {
   "cell_type": "markdown",
   "id": "4f34538c-a472-4632-a788-95f85424248f",
   "metadata": {},
   "source": [
    "So any theory for explaining the formation of the solar system must reproduce these observables.\n",
    "\n",
    "# Solar System Formation\n",
    "The general picture of formation of the solar system suggests that it was formed from the collapse of a giant dust cloud (called a protosolar nebula, more on this in 3rd year) which was mostly composed of hydrogen. A key feature of this model is that the total angular momentum of the system must be conserved.\n",
    "\n",
    "There is some direct observational evidence for this feature:\n",
    "- The direction of the Sun's rotation, and of the rotation and orbital motion of (nearly) all the planets coincide (\"prograde\" direction).\n",
    "- The rotation axes of nearly all planets are within 25-30$^{\\rm o}$ of being perpendicular to their orbital planes\n",
    "- The planets orbital planes all coincide to within 7$^{\\rm o}$ (most are even within 1-3$^{\\rm o}$)\n",
    "\n",
    "So, since the angular momentum for the Sun's rotation, the planet's rotation, and the planet's orbital motion all have the same direction, then is was likely the angular momentum for the protosolar nebula.\n",
    "\n",
    "Now, not all observational evidence does support this model:\n",
    "- Venus and Uranus' rotations are \"retrograde\" (that is, they rotate opposite to everything else)\n",
    "- Uranus' rotational axis is inclined 98$^{\\rm o}$ to it's orbital plane (that is, it's rotating on it's side)\n",
    "- Earth, Mars, Saturn, and Neptune have angles between their orbital and rotational planes of 23-29$^{\\rm o}$\n",
    "\n",
    "A proposed solution to all of these issues is that these planets collided with planetesimals during formation.\n",
    "\n",
    "So if we look at the specific angular momentum for various star types (where the specific angular momentum $=J/M$, we get the following plot. This shows that for spectral types earlier than F, a nice linear relationship is followed, while for spectral types later than F, there appears to be missing angular momenta from the stars. Finally, the angular momentum of the Sun plus the planets matches the linear relationship. This suggests that planet formation around stars with a spectral type later than F seems quite common."
   ]
  },
  {
   "cell_type": "code",
   "execution_count": 57,
   "id": "e04b8401-1865-4207-86fc-dd85c8efc58f",
   "metadata": {},
   "outputs": [
    {
     "data": {
      "image/png": "[encoded data removed]",
      "text/plain": [
       "<Figure size 432x288 with 1 Axes>"
      ]
     },
     "metadata": {
      "needs_background": "light"
     },
     "output_type": "display_data"
    }
   ],
   "source": [
    "M = [0.0,0.04, 0.17, 0.21, 0.3, 0.45, 0.58, 0.77, 0.88, 1.26, 1.38]\n",
    "L = [15, 15.75, 16.2, 16.7, 17.05, 17.25, 17.5, 17.65, 17.6, 17.85, 18.05]\n",
    "Spec_Type = [\"Sun\",\"G0\", \"F5\", \"F0\", \"A5\", \"A0\", \"B8\", \"B5\", \"B3\", \"B0\", \"O8\"]\n",
    "M_r = np.arange(0.0,1.6,0.1)\n",
    "\n",
    "plt.plot(M,L,'C0.')\n",
    "plt.plot(M_r,16.9+M_r*0.8,'C1--')\n",
    "plt.plot(0.0,17.1,'C2s')\n",
    "plt.text(0.0,17.1+0.05, 'Sol. Sys')\n",
    "plt.axvline(0.28,linestyle='--',color='k',alpha=0.5)\n",
    "for i, spec in enumerate(Spec_Type):\n",
    "    plt.text(M[i]+0.03,L[i],spec)\n",
    "plt.xlabel(r\"Log(M/M$_{\\rm \\odot}$)\")\n",
    "plt.ylabel(r\"Log(J/M) (cm$^2$ s$^{-1}$)\")\n",
    "plt.xlim(-0.05,1.5)\n",
    "plt.show()"
   ]
  },
  {
   "cell_type": "code",
   "execution_count": null,
   "id": "ade8207e-1f7a-4357-9562-fc70a1699225",
   "metadata": {},
   "outputs": [],
   "source": []
  }
 ],
 "metadata": {
  "kernelspec": {
   "display_name": "Python 3 (ipykernel)",
   "language": "python",
   "name": "python3"
  },
  "language_info": {
   "codemirror_mode": {
    "name": "ipython",
    "version": 3
   },
   "file_extension": ".py",
   "mimetype": "text/x-python",
   "name": "python",
   "nbconvert_exporter": "python",
   "pygments_lexer": "ipython3",
   "version": "3.8.10"
  }
 },
 "nbformat": 4,
 "nbformat_minor": 5
}
