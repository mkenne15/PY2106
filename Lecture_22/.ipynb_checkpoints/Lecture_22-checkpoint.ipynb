{
 "cells": [
  {
   "cell_type": "markdown",
   "id": "0255cd1c-2dff-4635-a7b8-cb7da5c92a9e",
   "metadata": {},
   "source": [
    "# Relativistic Velocity Transformations"
   ]
  },
  {
   "cell_type": "markdown",
   "id": "c9ef90bd-8691-4138-8bc6-06ade48edc8e",
   "metadata": {},
   "source": [
    "Use the Lorentz transformations to write the differential relations:\n",
    "\\begin{align}\n",
    "    dx &= \\frac{dx' + udt'}{\\sqrt{1-u^2/c^2}}\\\\\n",
    "    dy &= dy'\\\\\n",
    "    dz &= dz'\\\\\n",
    "    dt &= \\frac{dt'+dx'u/c^2}{\\sqrt{1-u^2/c^2}}\n",
    "\\end{align}\n",
    "Can use these to get the velocity transformations. For example:\n",
    "$$\n",
    "    v_x = \\frac{dx}{dt} = \\frac{dx' + udt'}{dt'+dx'u/c^2}\n",
    "$$\n",
    "Divide top and bottom by $dt'$; also recognise that $\\frac{dx'}{dt'}=v_x'$:\n",
    "\\begin{align}\n",
    "    v_x &= \\frac{v_x' + u}{1+v_x'u/c^2}\\\\\n",
    "    v_y &= \\frac{v_y'}{\\left(1+v_x'u/c^2\\right) \\gamma}\\\\\n",
    "    v_z &= \\frac{v_z'}{\\left(1+v_x'u/c^2\\right) \\gamma}\\\\\n",
    "\\end{align}\n",
    "Here, $v_x'$, $v_y'$,$v_z'$ are the components of the velocity $\\textbf{v'}$ of an object in the S' frame, and $v_x$, $v_y$,$v_z$ are the components of the velocity $\\textbf{v}$ in the S frame. So, S' moves with a velocity $\\textbf{u}$ with the respect to S in the positive x direction.\n",
    "\n",
    "$v_y$ and $v_z$ transform in the same way because they are both perpendicular to the velocity $\\textbf{u}$ between S and S'. We can write these in a morecompact form by considering just 2 components of $\\textbf{v}$ - one which is parallel to $\\textbf{u}$ and one which is perpendicular to $\\textbf{u}$:\n",
    "\\begin{align}\n",
    "    v_\\parallel &= \\frac{v_\\parallel' + u}{1+v_\\parallel'u/c^2}\\\\\n",
    "    v_\\perp &= \\frac{v_\\perp'}{\\gamma \\left(1+v_\\parallel'u/c^2\\right)}\\\\\n",
    "\\end{align}\n",
    "Find the relationship between angles along which an object moves:\n",
    "$$\n",
    "   \\tan \\phi = \\frac{v_\\perp}{v_\\parallel} = \\frac{v_\\perp'}{\\gamma \\left( v_\\parallel' + u \\right)}\\\\\n",
    "$$\n",
    "Now if we note that $v_\\perp'=v'\\sin \\phi'$ and $v_\\parallel'=v'\\cos \\phi'$\n",
    "$$\n",
    "   \\tan \\phi = \\frac{v'\\sin \\phi'}{\\gamma \\left( v'\\cos \\phi' + u \\right)}\\\\\n",
    "$$\n",
    "$\\phi'$ is the direction of motion in $S'$, while $\\phi$ is the direction of motion in $S$, all relative to $u$.\n",
    "\n",
    "So, how do we use and interpret these expressions? What does this apparent change in the direction mean? Consider a photon, which means that $v'=c$. This gives:\n",
    "$$\n",
    "   \\tan \\phi = \\frac{\\sin \\phi'}{\\gamma \\left( \\cos \\phi' + u/c \\right)}\\\\\n",
    "$$\n",
    "Now, consider a photon emitted at $90^{\\rm o}$ to the velocity $\\textbf{u}$ in the S' frame. For this setup, $\\sin \\phi'=1$ and $\\cos \\phi'=0$. And so\n",
    "\\begin{align}\n",
    "   \\tan \\phi &= \\frac{1}{\\gamma u/c} = \\frac{1}{\\gamma \\beta}\\\\\n",
    "   \\cos \\phi &= \\frac{1}{\\sqrt{\\tan^2 \\phi +1}} = \\beta\\\\\n",
    "   \\sin \\phi &= \\sqrt{1-\\cos^2 \\phi} = \\frac{1}{\\gamma}\n",
    "\\end{align}\n",
    "This tells us what the apparent direction of motion a photon will have for an observer in the S frame, assuming the photon was emitted at an angle of $90^{\\rm o}$ in the S' frame. So, since $\\gamma>1$, then $\\frac{1}{\\gamma}<1$. This means:\n",
    "\\begin{align}\n",
    "    \\sin \\phi &= \\frac{1}{\\gamma}\\\\\n",
    "    \\sin \\phi &< 1\\\\\n",
    "    \\phi &< 90^{\\rm o}\n",
    "\\end{align}\n",
    "The photon is observed in the observer's (S) frame to travel at a smaller angle to the direction of source motion.\n",
    "A source's radiation (the photons it emits) is concentrated in the forward direction of its motion. Independant of $\\beta$, all photons with $0^{\\rm o} <\\phi'<90^{\\rm o}$ will be concentrated in a smaller angle in the S frame."
   ]
  }
 ],
 "metadata": {
  "kernelspec": {
   "display_name": "Python 3 (ipykernel)",
   "language": "python",
   "name": "python3"
  },
  "language_info": {
   "codemirror_mode": {
    "name": "ipython",
    "version": 3
   },
   "file_extension": ".py",
   "mimetype": "text/x-python",
   "name": "python",
   "nbconvert_exporter": "python",
   "pygments_lexer": "ipython3",
   "version": "3.8.10"
  }
 },
 "nbformat": 4,
 "nbformat_minor": 5
}
