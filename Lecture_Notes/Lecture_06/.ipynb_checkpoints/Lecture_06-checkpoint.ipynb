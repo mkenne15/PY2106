{
 "cells": [
  {
   "cell_type": "code",
   "execution_count": 2,
   "id": "b8924e6d-6424-4674-a1e0-3270e3b06b4f",
   "metadata": {
    "tags": []
   },
   "outputs": [],
   "source": [
    "import numpy as np\n",
    "import astropy.units as u\n",
    "import astropy.constants as c"
   ]
  },
  {
   "cell_type": "markdown",
   "id": "ca3bdb1a-d44e-4fd8-b251-83b71e055805",
   "metadata": {},
   "source": [
    "# Maximum and Minimum orbital separations"
   ]
  },
  {
   "cell_type": "markdown",
   "id": "4f33f80e-e456-4458-9eaa-1c59201dae7b",
   "metadata": {},
   "source": [
    "## Roche Limit\n",
    "Given that tidal forces cause tidal bulges to appear in a body, then an obvious question that arises is:\"are tidal forces ever strong enough to tear a body apart?\". This is the key question that we will be covering in this next topic.\n",
    "\n",
    "The condition for a body to be disrupted due to tidal forces  is that the tidal acceleration must larger than the accelration due to self-gravity. Formally, this is given by:\n",
    "$$\n",
    "    a_{\\rm tidal} > a_{\\rm self-gravity}\n",
    "$$\n",
    "The **Roche limit** is the smallest orbit which is stable against this effect.\n",
    "\n",
    "### Method 1\n",
    "As a starting point, let's consider a small body of mass $m$ and radius $R_{\\rm m}$, which is separated from some larger, stable body of mass $M$ by a distance $d$. We want to figure out when the tidal force experienced by the small body is large enough that its self-gravity cannot resist the pull of the larger body. We can substitute in for those accelration terms using the expressions for $F_{\\rm tidal}$ and $F_{\\rm self-gravity}$. This gives\n",
    "$$\n",
    "    \\frac{2GMR_{\\rm m}}{d^3} > \\frac{G m}{R_{\\rm m}^2}\n",
    "$$\n",
    "For this, we find that\n",
    "$$\n",
    "    d<\\left(\\frac{2M}{m}\\right) ^{1/3} R_{\\rm m}\n",
    "$$\n",
    "So if the separation is less than this value, then the orbiting body will be torn asunder. We can rewrite this in terms of densities also (which is more convient in particular examples). **From here on out, we're going to assume a Planet-Moon system, and we'll use P for Planet and m for moon.** The densities of these bodies is given by\n",
    "$$\n",
    "    M_{\\rm P} = \\rho _{\\rm p} \\frac{4}{3} \\pi R_{\\rm P}^3, \\: \\; \\; m_{\\rm m} = \\rho _{\\rm m} \\frac{4}{3} \\pi R_{\\rm m}^3\n",
    "$$\n",
    "and so\n",
    "$$\n",
    "    \\frac{2M}{m} = 2 \\frac{\\rho _{\\rm P} R_{\\rm P}^3}{\\rho _{\\rm m} R_{\\rm m}^3}\n",
    "$$\n",
    "giving us\n",
    "$$\n",
    "    d< 2^{1/3} \\left( \\frac{\\rho _{\\rm P}}{\\rho _{\\rm m}}\\right) ^{1/3} R_{\\rm p}.\n",
    "$$\n",
    "\n",
    "### Method 2\n",
    "Ok, the above was a very simplified way of looking at this. Let's try make it more complicated and include centripetal acceleration due to orbital motion. Consider a mass element on the side of the orbiting moon facing the planet (as below).\n",
    "\n",
    "![Tidal_Friction](Figures/Centripetal_motion.png)\n",
    "\n",
    "In this case, we need to ask the question \"when is the gravitational acceleration felt by the mass element larger than the centripetal acceleration?\"\n",
    "$$\n",
    "    \\frac{G M}{(d-R_{\\rm m})^2} - \\frac{Gm}{R_{\\rm m}^2} > \\omega^2(d-R_{\\rm m})\n",
    "$$\n",
    "where $\\omega$ is the angular velocity of the moon, and is given by:\n",
    "$$\n",
    "    m \\omega^2 d = \\frac{GMm}{d^2}\n",
    "$$\n",
    "$$\n",
    "    \\omega^2 = \\frac{GM}{d^3}\n",
    "$$\n",
    "Using this expression the Roche Limit condition becomes\n",
    "$$\n",
    "    \\frac{G M}{d^2} \\left( 1-\\frac{R_{\\rm m}}{d} \\right)^{-2} - \\frac{Gm}{R_{\\rm m}^2} > \\frac{GM}{d^3}(d-R_{\\rm m})\n",
    "$$\n",
    "which simplifies to (ssuming $R_{\\rm m}<<d$)\n",
    "$$\n",
    "    d < 3^{1/3} \\left(\\frac{M}{m}\\right)^{1/3}R_{\\rm m}\n",
    "$$\n",
    "$$\n",
    "    d < 3^{1/3} \\left( \\frac{\\rho _{\\rm P}}{\\rho _{\\rm m}}\\right) ^{1/3} R_{\\rm p}.\n",
    "$$\n",
    "which is very similar to what we derived with our simple approximation - the only difference is the leading constant, which is $2^{1/3}=1.26$ in the simplest case, and $3^{1/3}=1.44$ when we account for centripetal force.\n",
    "\n",
    "### Method 3\n",
    "Derived by Roche in 1850, where he assumed the bodies were \"fluid, prolate spheroids\" (so similar to a rugby ball), and got the same dependance as above, but with a constant of 2.45. For actual problems, this coefficient is what should be used.\n",
    "\n",
    "### Example: Saturns rings\n",
    "The average density of Saturn is 710 kg/m$^3$, its radius is $6.03\\times 10^7$ m. The moon Titan has a density of 1880 kg/m$^3$. The Roche limit for a moon with Titan's density (and using the coefficient of 2.45) is \n",
    "$$\n",
    "    d_{\\rm min} = 2.45 \\left( \\frac{\\rho _{\\rm Saturn}}{\\rho _{\\rm Titan}}\\right) ^{1/3} R_{\\rm Saturn}\n",
    "$$\n",
    "$$\n",
    "    d_{\\rm min} = 107,000 \\: {\\rm km}\n",
    "$$\n",
    "Since Titan exists, and has not been disrupted, we would expect it to lie outside this distance. Indeed, Titan's actual distance from Saturn is $1.22\\times10^6$ km.\n",
    "\n",
    "But what about Saturn's rings? They extend from 88,000 km to 136,000 km, while all major moons are located oustide this distance. This suggests that the rings may be from a moon whose density was similar to Titan, which was then tidally disrupted."
   ]
  },
  {
   "cell_type": "code",
   "execution_count": 10,
   "id": "55505b97-0b38-4598-818e-9ecb8dbcbecf",
   "metadata": {},
   "outputs": [
    {
     "name": "stdout",
     "output_type": "stream",
     "text": [
      "106786.63373076545 km\n"
     ]
    }
   ],
   "source": [
    "rho_sat = 710*u.kg/u.m**3\n",
    "R_sat = 6.03e7*u.m\n",
    "rho_titan = 1880*u.kg/u.m**3\n",
    "a_min = 2.45*(rho_sat/rho_titan)**(1/3)*(R_sat)\n",
    "print(a_min.to(u.km))"
   ]
  },
  {
   "cell_type": "markdown",
   "id": "6f7a5667-da77-47a1-ae2e-82057db25a07",
   "metadata": {},
   "source": [
    "### Example: Phobos\n",
    "Phobos, Mars moon, has a density of $\\rho=1900$ kg m$^{-3}$, while Mars has a density of $\\rho=3900$ kg m$^{-3}$ and a radius of $3397$ km. The Roche limit is thus\n",
    "$$\n",
    "    d_{\\rm min} = 2.45 \\left( \\frac{\\rho _{\\rm Mars}}{\\rho _{\\rm Phobos}}\\right) ^{1/3} R_{\\rm Mars}\n",
    "$$\n",
    "$$\n",
    "    d_{\\rm min} = 10,600 \\: {\\rm km}.\n",
    "$$\n",
    "And yet, the semimajor axis of Phobos' orbit is 9400 km - so it lies within the Roche limit. Why hasn't it been tidally disrupted? (Consider the caveats of what we've discussed above, mainly what forces we have included and neglected)."
   ]
  },
  {
   "cell_type": "code",
   "execution_count": 7,
   "id": "1fcd380c-3a8a-4b3d-9cdd-54b7e1beb4ea",
   "metadata": {},
   "outputs": [
    {
     "name": "stdout",
     "output_type": "stream",
     "text": [
      "10577.068084828958 km\n"
     ]
    }
   ],
   "source": [
    "rho_mars = 3900*u.kg/u.m**3\n",
    "R_mars = 3397*u.km\n",
    "rho_phobos = 1900*u.kg/u.m**3\n",
    "a_min = 2.45*(rho_mars/rho_phobos)**(1/3)*(R_mars)\n",
    "print(a_min.to(u.km))"
   ]
  },
  {
   "cell_type": "markdown",
   "id": "f1ce316d-417a-4261-910e-4852ab46fece",
   "metadata": {},
   "source": [
    "## Hill Radius/Instability Limit\n",
    "If an orbiting body is too far away from its companion, perturbations due to the other bodies can become important, causing the  body to escape if the distance exceeds the instability limit. Consider the setup below.\n",
    "\n",
    "![Tidal_Friction](Figures/Instability_limit.png)\n",
    "\n",
    "The escape condition for m is\n",
    "$$\n",
    "    \\frac{GM_2}{(D-d)^2}-\\frac{GM_2}{D^2} > \\frac{G M_1}{d^2}\n",
    "$$\n",
    "You can think of this as a tug of war. On the left, we have the acceleration felt by orbiting body ($m$) and the primary mass ($M_1$) feel due to the perburing body ($M_2$, and on the right we have the gravitational accleration the orbiting body feels towards the primary. Doing some rearranging, and assuming $d<<D$, we get\n",
    "$$\n",
    "    \\frac{M_2}{D_2} (1+\\frac{2d}{D})-\\frac{M_2}{D_2} > \\frac{M_1}{d^2}\n",
    "$$\n",
    "$$\n",
    "    d > \\left(\\frac{M_1}{2M_2}\\right)^{1/3}D\n",
    "$$\n",
    "\n",
    "### Example: Sun, Moon, Earth system\n",
    "\n",
    "Ok, let's set this example up as: $M_1=M_{\\oplus}=5.97\\times10^{24}$ kg, $M_2=M_{\\odot}=2\\times10^{30}$ kg, $D=1$ AU. We get\n",
    "\n",
    "$$\n",
    "    d > \\left(\\frac{M_\\oplus}{2M_\\odot}\\right)^{1/3} D\n",
    "$$\n",
    "$$\n",
    "    d > 1.71\\times10^9 \\; {\\rm m}\n",
    "$$\n",
    "The actual distance between the Earth and the Moon is $3.84\\times10^8$m, which is 0.22$d$. So the moon is stable against the perturbing effect of the Sun!"
   ]
  },
  {
   "cell_type": "code",
   "execution_count": 7,
   "id": "938c71d0-b8a1-49c4-8ef5-e071aee4ad5d",
   "metadata": {},
   "outputs": [
    {
     "name": "stdout",
     "output_type": "stream",
     "text": [
      "Instability limit is d>1.713132e+09 m\n"
     ]
    }
   ],
   "source": [
    "M1 = 1*c.M_earth\n",
    "M2 = 1*u.solMass\n",
    "D = 1*u.au\n",
    "d_min = (M1/(2*M2))**(1/3)*(D)\n",
    "print(\"Instability limit is d>{:e}\".format(d_min.to(u.m)))"
   ]
  },
  {
   "cell_type": "markdown",
   "id": "aa3157fb-a3bb-4723-9521-2310a4c13716",
   "metadata": {},
   "source": [
    "# Interaction of radiation and matter"
   ]
  },
  {
   "cell_type": "markdown",
   "id": "a7911e1d-a8a4-4fc0-a926-80f8f63999b4",
   "metadata": {},
   "source": [
    "The next section of the course is going to focus on the light which comes from objects within the Universe, such that we can better understand the data we see in our telescopes. To do this, we need to rely on some results from both quantum mechanics and thermodynamics, which I'll highlight as we need them.\n",
    "\n",
    "## Emission and absorption of photons\n",
    "One of the key results of quantum mechanics is that photons are quantised particles. The effect of this on atoms, ions, and molecules is very important. Consider a 2 level atom as shown below, where the difference between the energy levels is $\\Delta E=h \\nu = \\hbar \\omega$. If the frequency ($\\nu$) of an incoming photon is such that the energy of the photon is equal to this energy difference, then an electron in the lower level $E_i$ can absorb that photon and be excited into the higher energy level $E_j$, meaning the photon is absorbed.\n",
    "\n",
    "Alternatively, an electron which is already in the excited state $E_j$ can spontaneously drop down to the lower state $E_i$, emitting a photon in the process.\n",
    "\n",
    "Following Heisenberg's uncertainty principle, there is a relation between the uncertainty in the  energy of an excited ($\\Delta E$) and how long the electron remains in that excited state $\\Delta t$:\n",
    "$$\n",
    "    \\Delta E \\Delta t \\geq \\hbar\n",
    "$$\n",
    "The uncertainty in the energy level can also be expressed as an error in the frequency through\n",
    "$$\n",
    "    \\Delta E_i = (\\delta \\omega_i) \\hbar\n",
    "$$\n",
    "while the uncertainty in the time spent in each level can be written as the state's expected lifetime, $\\tau$:\n",
    "$$\n",
    "    \\Delta t_j = \\tau_j\n",
    "$$\n",
    "Thus, we get that\n",
    "\\begin{align}\n",
    "    \\Delta E_i &\\geq \\frac{\\hbar}{\\Delta t_i}\\\\\n",
    "    (\\delta \\omega_i) \\hbar &\\geq \\frac{\\hbar}{\\tau}\\\\\n",
    "    (\\delta \\nu_i) &\\geq \\frac{1}{2\\pi \\tau}\n",
    "\\end{align}\n",
    "Now, the uncertainty in the error between both levels is simply the sum of the uncertainties in each level, giving\n",
    "\\begin{align}\n",
    "    \\Delta E  &= \\Delta E_i + \\Delta E_j\\\\\n",
    "    \\delta \\nu_i & = \\delta \\nu_i + \\delta \\nu_j\\\\\n",
    "    \\delta \\nu  & \\geq  \\frac{1}{2\\pi}\\left(\\frac{1}{\\tau_i}+\\frac{1}{\\tau_j}\\right)\n",
    "\\end{align}"
   ]
  },
  {
   "cell_type": "code",
   "execution_count": null,
   "id": "137be4f3-7e73-404a-a750-8529abeb2586",
   "metadata": {},
   "outputs": [],
   "source": []
  }
 ],
 "metadata": {
  "kernelspec": {
   "display_name": "Python 3 (ipykernel)",
   "language": "python",
   "name": "python3"
  },
  "language_info": {
   "codemirror_mode": {
    "name": "ipython",
    "version": 3
   },
   "file_extension": ".py",
   "mimetype": "text/x-python",
   "name": "python",
   "nbconvert_exporter": "python",
   "pygments_lexer": "ipython3",
   "version": "3.8.10"
  }
 },
 "nbformat": 4,
 "nbformat_minor": 5
}
