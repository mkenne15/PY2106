{
 "cells": [
  {
   "cell_type": "markdown",
   "id": "f90c5366-5413-498f-9568-5a8334658722",
   "metadata": {},
   "source": [
    "# Orbital Mechanics"
   ]
  },
  {
   "cell_type": "markdown",
   "id": "b20c3b95-545c-45fc-a541-277b4a978476",
   "metadata": {},
   "source": [
    "##  Kepler's 3rd Law\n",
    "In todays lecture, we are going to derive Kepler's 3rd law of planetary motion. To do this, recall Kepler's 2nd law:\n",
    "$$\n",
    "    \\frac{{\\rm d} A}{{\\rm d} t} = \\frac{L}{2m}\n",
    "$$\n",
    "The area of an ellipse is $A=\\pi a b$, such that if the orbital period of the planet is $P$, we can say\n",
    "$$\n",
    "    \\frac{\\pi a b}{P} = \\frac{L}{2m}.\n",
    "$$\n",
    "Substituting $b^2 = a^2(1-e^2)$, we get\n",
    "$$\n",
    "    \\frac{\\pi^2 a^4 (1-e^2)}{P^2} = \\frac{L^2}{4m^2}.\n",
    "$$\n",
    "Additionally, in the last lecture we found an the expression relating $L$, $a$, and $e$:\n",
    "$$\n",
    "    \\frac{L^2}{m^2} = GMa(1-e^2)\n",
    "$$\n",
    "Substituting this in and tidying up gives\n",
    "$$\n",
    "    \\frac{P^2}{a^3} = \\frac{4 \\pi^2 }{GM}\n",
    "$$\n",
    "which is Kepler's 3rd Law for planets. This expression is valid whenever working with objects in the Solar system, simply because the Sun is significantly more massive than any other object in the solar system. \n",
    "\n",
    "In deriving all of the above, we have assumed that the angular momentum of the entire system is contained within the planet of mass $m$, which isn't exactly true (the Sun will contain a little bit, as we'll see later on). Below follows a more careful treatment. Consider 2 objects of masses $M_1$ and $M_2$, orbiting each other with velocities $v_1$ and $v_2$ and at distances $r_1$ and $r_2$ from the centre of mass of the system.\n",
    "\n",
    "![Keplers3rd](Figures/Keplers_3rd_law.png)\n",
    "\n",
    "If their orbits are circular, then\n",
    "$$\n",
    "    P = \\frac{2\\pi r_1}{v_1} = \\frac{2\\pi r_2}{v_2}\n",
    "$$\n",
    "The centripetal forces felt by both objects is thus\n",
    "\n",
    "\\begin{align}\n",
    "    F_1 = \\frac{M_1 v_1^2}{r_1} = \\frac{4 \\pi^2 M_1 r_1}{P^2} &= \\frac{GM_1M_2}{(r_1+r_2)^2}\\\\\n",
    "    F_2 = \\frac{M_2 v_2^2}{r_2} = \\frac{4 \\pi^2 M_2 r_2}{P^2} &= \\frac{GM_1M_2}{(r_1+r_2)^2}\\\\\n",
    "\\end{align}\n",
    "where that last term comes from the fact that both objects feel the same gravitational attraction to each other. From these equations, we can derive the following useful relations\n",
    "\\begin{align}\n",
    "    r_1 M_1 &= r_2 M_2\\\\\n",
    "    r_2 &= \\frac{M_1 (r_1+r_2)}{M_1+M_2}\\\\\n",
    "\\end{align}\n",
    "Using these in combination with\n",
    "$$\n",
    "    \\frac{4 \\pi^2 M_2 r_2}{P^2} = \\frac{GM_1M_2}{(r_1+r_2)^2}\n",
    "$$\n",
    "Gives\n",
    "$$\n",
    "    \\frac{P^2}{a^3} = \\frac{4 \\pi^2 }{G(M_1+M_2)}\n",
    "$$\n",
    "where $M_1$ is the mass of object 1 and $M_2$ is the mass of object 2 and $a=r_1+r_2$. This more general expressions applies for any Keplerian orbit, regardless of the ratio of the masses (and so is useful for binary star systems, planet/moon systems etc).\n",
    "\n",
    "> **_Example:_** The orbital period of the Earth around the Sun is 365.256 days, while the semi-major axis of the Earth's orbit is $1 \\:{\\rm AU} = 1.496\\times10^{11}$ m. What is the mass of the Sun?\n",
    "\n",
    "Using the above equation, and assuming that the mass of the Earth is much larger than the mass of the Sun, then we get\n",
    "$$\n",
    "    M_{\\odot} = \\frac{4 \\pi^2 a^3}{G P^2} = 1.99\\times10^{30} \\: {\\rm kg}\n",
    "$$"
   ]
  },
  {
   "cell_type": "markdown",
   "id": "ee3aabd1-a78c-47b5-a912-2a2e31153c0b",
   "metadata": {},
   "source": [
    "## Orbital Energetics\n",
    "Now that we've discussed Kepler's laws in detail, it's worth considering the energetics of orbiting bodies. The total energy of a test mass $m$ in orbit around an object of mass $M$ is given by\n",
    "$$\n",
    "    E = K + U = \\frac{1}{2} mv^2 - \\frac{GMm}{r}\n",
    "$$\n",
    "The kinetic energy can also be written as \n",
    "$$\n",
    "    K = \\frac{1}{2} m \\left( \\frac{GMm}{L}\\right)^2 (1+e^2 +2e \\cos \\theta)\n",
    "$$\n",
    "and the potential as\n",
    "$$\n",
    "    U = -\\frac{G^2 M^2 m^3}{L^2}(1+e \\cos \\theta)\n",
    "$$\n",
    "which gives that\n",
    "$$\n",
    "    E= \\left( \\frac{G M m}{L} \\right)^2 \\frac{m}{2} (e^2-1)\n",
    "$$\n",
    "This is a useful equation as all of the terms on the left are positive. So, if $e<1$, the total energy is negative (that is $K<|U|$). If $e>1$, the total energy is positive, and so the body $m$ is not gravitationally bound to $M$. Finally, if $e=0$, the orbit is marginally unbound - as the body moves to $r \\to \\infty$, $v \\to 0$. This is a useful scenario to consider further. Taking the first equation for $E$ and letting $e=0$, we get\n",
    "$$\n",
    "    \\frac{1}{2} mv^2  \\frac{GMm}{r}\n",
    "$$\n",
    "which gives\n",
    "$$\n",
    "    v_{\\rm esc} = \\sqrt{\\frac{2GM}{r}}\n",
    "$$\n",
    "As such, if a body has $v>v_{\\rm esc}$ when at some distance $r$, then it's on an open orbit. If it's less than this, then it's in a closed orbit.\n",
    "\n",
    "We can also rearrange for $e$ to get\n",
    "$$\n",
    "    e = \\left( 1+\\frac{2EL^2}{G^2M^2m^3} \\right)^{1/2}\n",
    "$$\n",
    "This means that if you know the total energy of an orbiting body, you can estimate the eccentricity of the orbit.\n",
    "\n",
    "## The vis-viva equation\n",
    "\n",
    "Returning to our equation for an ellipse, we know that\n",
    "$$\n",
    "    r = \\frac{a(1-e^2)}{1+e \\cos \\theta}\n",
    "$$\n",
    "and we also know that\n",
    "$$\n",
    "    K = \\frac{1}{2} m \\left( \\frac{GMm}{L}\\right)^2 (1+e^2 +2e \\cos \\theta)\n",
    "$$\n",
    "Combining these equations, we can arrive at an expression which relates the velocity $v$ of an object as a function of $r$\n",
    "$$\n",
    "    v^2 = \\frac{G^2 M^2 m^2}{L^2} \\left(1+e^2+\\frac{2}{r}[a(1-e^2)-r]\\right)\n",
    "$$\n",
    "Simplifying this equation will give the relation\n",
    "$$\n",
    "    v^2 = GM \\left(\\frac{2}{r} - \\frac{1}{a}\\right)\n",
    "$$\n",
    "This is the vis-viva equation, which is going to turn into an incredibly useful equation. The term \"vis-viva\" means living force, and was coined by Gottfried Leibniz. Note that if you subsitute using Kepler's 3rd law, you can rewrite this equation as \n",
    "$$\n",
    "    v = \\frac{2 \\pi a}{P} \\left( \\frac{2 a}{r} - 1\\right)^{1/2}\n",
    "$$\n",
    "\n",
    "## Hyperbolic orbits\n",
    "Before proceeding, it's worth chatting a bit more about hyperbolic orbits, and how they differ from elliptical ones. Let's do this by studying an example."
   ]
  },
  {
   "cell_type": "markdown",
   "id": "2f48ab72-2804-4311-a366-39690f52af21",
   "metadata": {},
   "source": [
    "> **_Example:_** The minimum distance of an asteroid from the Sun is 1/3 of Earth’s orbital radius. Its velocity at that point is three times the orbital velocity of Earth. In what type of orbit is the asteroid and what is its eccentricity?\n",
    "\n",
    "First, let's calculate $a$ using the vis-viva equation."
   ]
  },
  {
   "cell_type": "code",
   "execution_count": 9,
   "id": "a5a94a86-e036-40d1-aed8-d062a61a74cd",
   "metadata": {},
   "outputs": [
    {
     "name": "stdout",
     "output_type": "stream",
     "text": [
      "89.3557630967746 km / s\n",
      "72.95729712875158 km / s\n",
      "-0.33329556376437197 AU\n",
      "0.5773284625069967 AU\n"
     ]
    }
   ],
   "source": [
    "import numpy as np\n",
    "import astropy.constants as c\n",
    "import astropy.units as u\n",
    "\n",
    "### Calculate Earth's orbital velocity\n",
    "v_E = 2*np.pi*(1*u.au)/(1*u.yr)\n",
    "\n",
    "v = 3*v_E\n",
    "r = 1/3*u.au\n",
    "v_esc = np.sqrt(2*c.G*1*u.solMass/r)\n",
    "print(v.to(u.km/u.s))\n",
    "print(v_esc.to(u.km/u.s))\n",
    "\n",
    "a = 1/ (2/r - v**2/(c.G*1*u.solMass))\n",
    "print(a.to(u.au))\n",
    "b = np.sqrt(a**2*(e**2-1))\n",
    "print(b.to(u.au))"
   ]
  },
  {
   "cell_type": "markdown",
   "id": "82b098ea-8ced-49fc-ba78-54ae990f5af7",
   "metadata": {},
   "source": [
    "So the semi-major axis is negative. What exactly does this mean? Well, let's calculate the eccentricity next, which we can do using\n",
    "$$\n",
    "    v_{pe} = \\left[\\frac{GM}{a}\\frac{1+e}{1-e}\\right]^{1/2}\n",
    "$$"
   ]
  },
  {
   "cell_type": "code",
   "execution_count": 5,
   "id": "f48ee495-c31a-4a9c-95e3-f7928c21f54e",
   "metadata": {},
   "outputs": [
    {
     "data": {
      "text/latex": [
       "$2.0001133 \\; \\mathrm{}$"
      ],
      "text/plain": [
       "<Quantity 2.00011332>"
      ]
     },
     "execution_count": 5,
     "metadata": {},
     "output_type": "execute_result"
    }
   ],
   "source": [
    "e = (v**2*a/(c.G*1*u.solMass) - 1)/(v**2*a/(c.G*1*u.solMass) + 1)\n",
    "e.to(u.dimensionless_unscaled)"
   ]
  },
  {
   "cell_type": "markdown",
   "id": "bf588b9d-f74b-4090-b344-48f53ec1d61e",
   "metadata": {},
   "source": [
    "So the orbit is hyperbolic. This gives us another powerful insight - if the semi-major axis of our orbit is negative when calculated using the vis-viva equation, then the orbit is hyperbolic. This also means that $b$, which in an elliptical orbit was the length of the semiminor axis, has a different definition. For a hyperbolic orbit, $b$ is known as the impact parameter, and is the minimum distance between the focus and the path the object would have travelled if the object were unperturbed by any force. The equation for b is \n",
    "\n",
    "$$\n",
    "    b^2 = a^2(e^2-1)\n",
    "$$\n",
    "\n",
    "This numerical curiosity is a consequence of our definition of the equation of an ellipse. However, it's important to note that in a question, the semimajor axis will always be be given as a positive number, and it'll be up to you to prove whether the orbit is open or closed (as shown above).\n",
    "\n",
    "![Ellipse_vs_hyperbola](Figures/Ellipse_Definitions.png)"
   ]
  },
  {
   "cell_type": "markdown",
   "id": "fd84da51-9471-4bd5-89aa-52e68baa4442",
   "metadata": {},
   "source": [
    "## Transfer Orbits\n",
    "The vis-viva equation is particularly useful for discussing transfer orbits - that is, the route you need to take to get from one orbit to another. This is particularly useful when considering how to get from one planet to another. The below diagram shows a transfer orbit called a Hohmann transfer orbit.\n",
    "\n",
    "![Hohmann](Figures/Hohmann_Transfer.png)\n",
    "\n",
    "For this transfer, a spacecraft starts in a near-circular orbit around the Sun at the distance of the Earth. The spacecraft then initiates a burn that places the Earth at the perihelion of its orbit, and Mars at the aphelion of the orbit. Finally, when the spacecraft reaches Mars, it initiates another burn which circularises its orbit.\n",
    "\n",
    "Let's work through an example of how this works.\n",
    "\n",
    "> **_Example:_** What is the change in velocity required by the spacecraft during the first burn to setup the transfer orbit and the second burn in order to leave the transfer orbit?\n",
    "\n",
    "First, the semimajor axis of the required orbit will be the maximum distance between the orbits of Mars and Earth orbits over 2:\n",
    "$$\n",
    "    a = \\frac{a_{\\oplus}+a_{\\rm mars}}{2} = 1.26 \\: {\\rm AU}.\n",
    "$$\n",
    "The orbital period of the transfer orbit is\n",
    "$$\n",
    "    P = \\sqrt{\\frac{4 \\pi^2 }{GM_{\\odot}}{a^3}} = 1.41 \\: {\\rm years}.\n",
    "$$\n",
    "Assuming a circulatar orbit for the Earth, then we can calculate the average velocity of the Earth in its orbit, which is\n",
    "$$\n",
    "    v_{\\oplus} = \\frac{2 \\pi a_{\\oplus}}{P_{\\oplus}} = 29.8 \\: {\\rm km s^{-1}}\n",
    "$$\n",
    "Similarly for Mars, we find\n",
    "$$\n",
    "    v_{\\rm mars} = \\frac{2 \\pi a_{\\rm mars}}{P_{\\rm mars}} = 24.0 \\: {\\rm km s^{-1}}\n",
    "$$\n",
    "The required velocities for the transfer orbit at perihelion and aphelion are given by the vis-viva equation:\n",
    "\\begin{align}\n",
    "    v_{\\rm pe} &= \\frac{2 \\pi a}{P} \\left( \\frac{2 a}{a_{\\oplus}} - 1\\right)^{1/2} = 32.9 \\: {\\rm km \\: s^{-1}}\\\\\n",
    "    v_{\\rm ap} &= \\frac{2 \\pi a}{P} \\left( \\frac{2 a}{a_{\\rm mars}} - 1\\right)^{1/2} = 21.7  \\: {\\rm km \\: s^{-1}}\\\\\n",
    "\\end{align}\n",
    "\n",
    "So, if our spacecraft is initially in the same orbit around the Sun as the Earth is, then it needs to increase it's velocity by $\\Delta v = 32.9-29.8=3.1  \\: {\\rm km \\: s^{-1}}$ in order to move into the transfer orbit. When it then reaches aphelion, it will be travelling at a velocity of $21.7  \\: {\\rm km \\: s^{-1}}$, which is slower than Mars is moving in this same orbit. As such, it requires a $\\Delta v = 24.0-21.7=2.3  \\: {\\rm km \\: s^{-1}}$ in order to circularise the orbit."
   ]
  },
  {
   "cell_type": "code",
   "execution_count": null,
   "id": "6cdd3784-e655-479f-b27f-4d2333d2778f",
   "metadata": {},
   "outputs": [],
   "source": []
  }
 ],
 "metadata": {
  "kernelspec": {
   "display_name": "Python 3 (ipykernel)",
   "language": "python",
   "name": "python3"
  },
  "language_info": {
   "codemirror_mode": {
    "name": "ipython",
    "version": 3
   },
   "file_extension": ".py",
   "mimetype": "text/x-python",
   "name": "python",
   "nbconvert_exporter": "python",
   "pygments_lexer": "ipython3",
   "version": "3.8.10"
  }
 },
 "nbformat": 4,
 "nbformat_minor": 5
}
