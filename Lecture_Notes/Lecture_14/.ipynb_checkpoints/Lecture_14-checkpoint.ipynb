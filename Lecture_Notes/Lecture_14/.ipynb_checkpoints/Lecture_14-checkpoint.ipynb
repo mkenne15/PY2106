{
 "cells": [
  {
   "cell_type": "code",
   "execution_count": 1,
   "id": "6f017c4c-ab82-4dad-9eec-cda18ba414cb",
   "metadata": {},
   "outputs": [],
   "source": [
    "import numpy as np\n",
    "import astropy.constants as c\n",
    "import astropy.units as u\n",
    "import matplotlib.pyplot as plt"
   ]
  },
  {
   "cell_type": "markdown",
   "id": "46f1c801-0cb0-462f-b2aa-4ccf32a0cccd",
   "metadata": {},
   "source": [
    "# Looking for exoplanets"
   ]
  },
  {
   "cell_type": "markdown",
   "id": "53945e21-575e-4890-8938-a5800e6f3fd4",
   "metadata": {},
   "source": [
    "## Transit method\n",
    "\n",
    "Again, consider two bodies which are oribting their centre-of-mass. If the orbital plane lies close to the observers line of sight, then at some stage, the planet will start to pass in directly between the observer and the star. If the cross section of the planet is $\\pi R_2^2$, and the cross section of the star is $\\pi R_1^2$, then the change in flux to the planet blocking part of the star is\n",
    "$$\n",
    "    \\frac{\\delta F}{F} = \\left(\\frac{R_2}{R_1}\\right)^2\n",
    "$$\n",
    "For Jupiter and the Sun, this leads to a maximum decrease in the flux observed from the Sun of\n",
    "$$\n",
    "    \\frac{\\delta F}{F} = 0.01\n",
    "$$\n",
    "Below shows a schematic of the different phases associated with a transit light curve. From top to bottom, they are: pre-eclipse, first contact, second contact, third contact, fourth contact, and post-eclipse. The dashed line marks the orbital plane.\n",
    "\n",
    "![Transit](Figures/Transit.png)\n",
    "\n",
    "These different features allow us to measure several important quantities associated with the planet and the host star. First, the decrease in flux tells us about the relative sizes of the exoplanet and the star:\n",
    "$$\n",
    "    \\frac{R_2}{R_1} = \\left(\\frac{\\delta F}{F}\\right)^{1/2}\n",
    "$$\n",
    "If we measure the time between successive transits, then we know the orbital period. Using Kepler's 3rd Law, and assuming that the mass of the star is much larger than the mass of the planet, then we can calculate the semi-major axis of the orbit using\n",
    "$$\n",
    "    \\frac{P^2}{a^3} = \\frac{4 \\pi^2 }{G M_1}\n",
    "$$\n",
    "If we then assume a circular orbit, we can estimate the planets velocity to be\n",
    "$$\n",
    "    v_{2} = \\frac{2 \\pi a}{P}\n",
    "$$\n",
    "Now, the next few results assume that we are seeing the transit edge-on (That is, the observers plane coincides with the orbital plane). If this is true, then between the time of first contact ($t_1$) and second contact ($t_2$), the planet will have moved a distance equal to its diameter. As such, the radius of the planet can be calculated using\n",
    "$$\n",
    "    R_{2} = \\frac{1}{2} v_2 (t_2-t_1)\n",
    "$$\n",
    "The time between the first and third contact means the planet will have travelled a distance equal to the diameter of the star, which allows the radius of the star to be estimated. This methods is biased towards planets with large radii (as this affects the change in flux) and short orbital periods (as the shorter the period, the higher the probability of randomly discovering a transit with a survey telescope)."
   ]
  },
  {
   "cell_type": "markdown",
   "id": "6591c5ae-da4c-49ca-9818-5940c34d1c4c",
   "metadata": {},
   "source": [
    "# Stars"
   ]
  },
  {
   "cell_type": "markdown",
   "id": "85fdb163-dcd6-4093-86dc-8bf5dd21de1e",
   "metadata": {},
   "source": [
    "## Parallax\n",
    "The next section of the course is briefly going cover the basic properties of stars. Before proceeding, an important ingredient we need in order to understand the stellar population in the Milky Way is the distance to any star. To determine the distance, consider the setup below, where an astronomer observes a star at two different times, separated by 6 months. During this time, the Earth has moved in its orbit.\n",
    "\n",
    "![Parallax](Figures/Parallax.png)\n",
    "\n",
    "The change in the position of the star relative to some fixed, background stars, can then be used to estimate the distance to the star, as we know that Earth lies 1 astronomical unit (1 AU $=1.49\\times10^{11}$ m) away from the Sun. As such, an object which exhibits a parallax of $\\theta=1\"$ has to be a distance\n",
    "\n",
    "$$\n",
    "    D = \\frac{1.49\\times10^{11} \\: {\\rm m}}{\\tan(\\theta)} \\approx \\frac{1.49\\times10^{11} \\: {\\rm m}}{\\theta} = 3.0856\\times10^{16}{\\rm m} \\equiv 1 {\\rm pc}.\n",
    "$$\n",
    "\n",
    "A much easier expression to remember is then that\n",
    "\n",
    "$$\n",
    "    D = \\frac{1}{\\theta}\n",
    "$$\n",
    "\n",
    "when $\\theta$ is given in arcseconds, and D will be given in parsecs. \n",
    "\n",
    "## Luminosity\n",
    "\n",
    "With this tool in hand, we can now discuss how bright we expect stars to be. The flux arriving at the Earth from a star located at a distance $d$ from us will be\n",
    "$$\n",
    "    F = \\frac{L}{4\\pi D^2}\n",
    "$$\n",
    "Thus, if we measure both the flux and distance to an object, we can calculate its luminosity via\n",
    "$$\n",
    "    L = 4\\pi D^2 F\n",
    "$$\n",
    "For example, Sirius exhibits a parallax of $0.374$\", and the measured flux from it is $F=1.2\\times10^{-7}$W m${-2}$. The distance is then\n",
    "$$\n",
    "    d = \\frac{1}{\\theta} = 2.67 {\\rm pc}\n",
    "$$\n",
    "meaning the luminosity of Sirius is\n",
    "$$\n",
    "    L = 1.02\\times 10^{28} {\\rm W}\n",
    "$$\n",
    "Given that the Sun has a luminosity of $L_{\\odot} = 3.828\\times 10^{26}$ W, this means that the luminosity of Sirius is\n",
    "$$\n",
    "    L = 26.7 L_{\\odot}.\n",
    "$$\n",
    "Instead of fluxes, optical astronomers tend to use magnitudes when discussing how bright objects are in the sky."
   ]
  },
  {
   "cell_type": "markdown",
   "id": "ab156c7b-9ea4-4bd7-8006-4a22656aad2a",
   "metadata": {},
   "source": [
    "### Apparent Magnitude\n",
    "The term apparent magnitude comes from Hipparchus, who catalogued the visible stars. He assigned the brightest stars a magnitude of 1, and the faintest stars as a magnitude of 6. So, what does a magnitude actually represent? The conversion between flux and magnitude is\n",
    "\n",
    "$$\n",
    "    m=-2.5\\log_{10}\\left(\\frac{F}{C}\\right)\n",
    "$$\n",
    "\n",
    "where C is a normalising constant. Now, consider an an object which is 100 brighter than another object ($F_2=100F_1$). If we calculate $m_1-m_2$, then the above expression becomes\n",
    "\n",
    "$$\n",
    "    m_1 - m_2=-2.5\\log_{10}\\left(\\frac{F_1}{F_2}\\right)\n",
    "$$\n",
    "\n",
    "we find that it is 5. This means that an object which is 100 times brighter will have a magnitude which is 5 less - the magnitude system is an inverted scale (the more positive a magnitude is, the fainter it is).\n",
    "\n",
    "The Sun has a magnitude of -27, while the faintest objects observable in the night sky have a magnitude of $\\sim$ +30. The naked eye can see as faint as magnitude $+6$ if conditions are exceptional. **Apparent magnitudes** are typically written as $m$."
   ]
  },
  {
   "cell_type": "markdown",
   "id": "b70db4f3-8683-49dd-8528-328fe0bf4a8e",
   "metadata": {},
   "source": [
    "\n",
    "### Absolute Magnitude\n",
    "\n",
    "A useful quantity that can be derived using the above equation is the absolute magnitude of a source, which typically written as $M$. This is the magnitude a source would have if it were at a distance of 10 pc from the Sun. To calculate what $M$ is, we use:\n",
    "$$\n",
    "    m-M=-2.5\\log_{10}\\left(\\frac{F}{C}\\right)+2.5\\log_{10}\\left(\\frac{F_{10}}{C}\\right)\n",
    "$$\n",
    "where $F_{10}$ is the flux we would see if the object were at 10pc. This simplifies to\n",
    "$$\n",
    "    m-M=-2.5\\log_{10}\\left(\\frac{F}{F_{10}}\\right)\n",
    "$$\n",
    "Finally, remembering that $F=\\frac{L}{4 \\pi D^2}$, so $F_{10}=\\frac{L}{4 \\pi 10^2}$, we can simplify this further to\n",
    "$$\n",
    "    m-M=5\\log_{10}\\left(\\frac{D ({\\rm pc})}{10 ({\\rm pc})}\\right)\n",
    "$$\n",
    "So, if we know the distance to a source and its apparent magnitude, we can immediately calculate its absolute magnitude.\n",
    "\n",
    "<div class=\"alert alert-block alert-info\">\n",
    "    <b>Example: Apparent magnitude of the Sun</b>\n",
    "    \n",
    "The Sun has an apparent magnitude of -26.74, and lies $1.49\\times10^{11}$ m ($=4.848\\times10^{-6}$ pc) from Earth. What is its absolute magnitude?\n",
    "    \n",
    "Using the above formula, we find\n",
    "$$\n",
    "    -26.74-M=5\\log_{10}\\left(\\frac{4.848\\times10^{-6}}{10}\\right)\\\\\n",
    "    M=4.83\n",
    "$$\n",
    "</div>"
   ]
  },
  {
   "cell_type": "markdown",
   "id": "0a3d7c03-b0d9-4074-a5e8-2993335dbf29",
   "metadata": {},
   "source": [
    "### Observing Filters\n",
    "\n",
    "Before going any further, we need to discuss the constant in the equation.\n",
    "$$\n",
    "    m=-2.5\\log_{10}\\left(\\frac{F}{C}\\right)\n",
    "$$\n",
    "\n",
    "If we measued the flux ($F=\\int_0^{\\infty} F_{\\rm \\lambda} d\\lambda$) coming from a star across the entire electromagnetic spectrum, the magnitudes we calculate are called **bolometric magnitudes**. However, stars are typically observed using different filters, which cover different parts of the spectrum. The below figure shows the sensitivity curves ($S$) for the SDSS (Sloan Digital Sky Survey) filters.\n",
    "\n",
    "![SDSS_filters](Figures/Response_Curves.png)\n",
    "\n",
    "These transmission curves tell us which part of the spectrum we are sensitive too when using them. For example, when using the $u$ filter, we are sensitive to light from $\\sim 3000-4000$ Å. \n",
    "\n",
    "As such, the u-band magnitude of the source, $m_u \\equiv u$, is given by \n",
    "\n",
    "$$\n",
    "    u=-2.5\\log_{10}\\left(\\frac{\\int_0^{\\infty} S_u F_{\\rm \\lambda} d\\lambda}{C_u}\\right)\\\\\n",
    "    u=-2.5\\log_{10}\\left(\\int_0^{\\infty} S_u F_{\\rm \\lambda} d\\lambda\\right)+C_u\n",
    "$$\n",
    "\n",
    "Here, $C_u$ is a constant for the u band filter. Similar constants ($C_g$,$C_r$,$C_i$,$C_z$) exist for each band ($g$,$r$,$i$,$z$). For the **AB** system, which SDSS uses, the constants are chosen such that a star with magnitude 0 has a flux density of 3.631$\\times10^{-20}$ erg cm$^{-2}$ s$^{-1}$ Hz$^{-1}$. In Carroll and Ostlie, they use the Johnson set of filters. For this system, the constants use the **Vega** system, in which Vega has a magnitude of 0 in each band.\n",
    "\n",
    "If the distance to the source is known, and $m_u$ measured, then the absolute magnitude in the u-band $M_u$ can be calculated."
   ]
  },
  {
   "cell_type": "markdown",
   "id": "12c9d315-8004-4706-9e86-6e6dd9c52e1c",
   "metadata": {},
   "source": [
    "### Colours\n",
    "\n",
    "Consider a blackbody which is observed using the same filters as above, and which we know the distance to. Each filter is sensitive to a different part of the spectrum, meaning the same source will appear with different fluxes in each band. The different in absolute magnitudes between the g and i bands will be\n",
    "$$\n",
    "    g-i=-2.5\\log_{10}\\frac{F_{\\rm g} C_{\\rm i}}{F_{\\rm i} C_{\\rm g}}\n",
    "$$\n",
    "where the $C$s in the above equation are the normalising constants for each band above, and for simplicity we have let $F_g= \\int_0^{\\infty} S_g F_{\\rm \\lambda} d\\lambda$ etc. This means \n",
    "$$\n",
    "    g-i = -2.5\\log_{10}\\frac{F_{\\rm g}}{F_{\\rm i}} + C_{\\rm g-i}\n",
    "$$\n",
    "where $C_{\\rm g-i}=C_{\\rm g}-C_{\\rm i}$\n",
    "\n",
    "So, imagine we can measure both $m_{\\rm u}$ and $m_{\\rm r}$ for a bunch of stars. What does this tell us? Consider the code below. It produces two Figures - one with a blackbody of temperature 5000 kelvin and one with a temperature of 8000 kelvin."
   ]
  },
  {
   "cell_type": "code",
   "execution_count": null,
   "id": "57624a51-3854-4513-9965-f3b495068d35",
   "metadata": {},
   "outputs": [],
   "source": []
  }
 ],
 "metadata": {
  "kernelspec": {
   "display_name": "Python 3 (ipykernel)",
   "language": "python",
   "name": "python3"
  },
  "language_info": {
   "codemirror_mode": {
    "name": "ipython",
    "version": 3
   },
   "file_extension": ".py",
   "mimetype": "text/x-python",
   "name": "python",
   "nbconvert_exporter": "python",
   "pygments_lexer": "ipython3",
   "version": "3.8.10"
  }
 },
 "nbformat": 4,
 "nbformat_minor": 5
}
