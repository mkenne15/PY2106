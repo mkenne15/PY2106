{
 "cells": [
  {
   "cell_type": "code",
   "execution_count": 4,
   "id": "b8924e6d-6424-4674-a1e0-3270e3b06b4f",
   "metadata": {
    "tags": []
   },
   "outputs": [],
   "source": [
    "import numpy as np\n",
    "import astropy.units as u\n",
    "import astropy.constants as c"
   ]
  },
  {
   "cell_type": "markdown",
   "id": "b9e6a14e-7e21-4e18-8f2d-c4c7bac05d42",
   "metadata": {
    "tags": []
   },
   "source": [
    "# Tidal Friction\n",
    "\n",
    "So now let's consider the effects of rotation of the body. Consider the situation below, where tidal bulges have developed at points A and B, and because of friction between the Earth's surface and the ocean, the ocean's bulges are rotated along with the Earth's surface.\n",
    "\n",
    "![Tidal_Friction](Figures/Figure_3.png)\n",
    "\n",
    "The forces acting on the moon because of bulges A and B are shown as green arrows.\n",
    "\n",
    "- The force due to bulge A is dominant - meaning the moon is sped up in its orbit.\n",
    "- The moons force on the dial bulges acts to slow down Earth's rotation -> This is tidal friction\n",
    "\n",
    "The Earth's rotation is slowing, ehich means there is a loss of angular momentum. However, angular momentum within the Earth-Moon system is conserved. So, **the moon must be gaining angular momentum**.\n",
    "\n",
    "## Where does this angular momentum go?\n",
    "Assume the moon (mass m) is moving in a circular orbit, of radius r. The angular momentum of the moon is then:\n",
    "$$\n",
    "    L=mrv\n",
    "$$\n",
    "To find v, let's equate the gravitational force experienced by the moon with the centripetal force\n",
    "$$\n",
    "    \\frac{GM_{\\oplus}m}{r^2}=\\frac{mv^2}{r}\\\\\n",
    "    v=\\left(\\frac{GM_{\\oplus}}{r}\\right) ^{1/2}\n",
    "$$\n",
    "This means the angular momentum is given by\n",
    "$$\n",
    "    L=\\left(GM_{\\oplus}\\right)^{1/2}mr^{1/2}\n",
    "$$\n",
    "The first three terms are constants, so $L\\propto r^{1/2}$. So if L increases (which it must if the total L of the Earth-Moon system is conserved), then r increases. Which means the Moon moves further away!\n",
    "\n",
    "Earth's rotation is slowing at a rate of about 0.0016 s/century (small but measureable). So the moon is drifting away!\n",
    "\n",
    "Let's now also consider the effects of the tidal forces on the Moon by the Earth.\n",
    "\n",
    "$$\n",
    "    \\Delta F\\sim\\frac{GMmR}{r^3}\n",
    "$$\n",
    "Just to make sure we know what's what, $M$ is the mass of the body causing the tidal force, $R$ is the radius of the body feeling the tidal force, and $r$ is the distance between them. If we then look at the ratio of the tidal forces felt by the Moon and the Earth, we get:\n",
    "$$\n",
    "    \\frac{M_{\\oplus}R_{\\rm m}}{M_{\\rm m}R_{\\oplus}}\\sim22\n",
    "$$\n",
    "Tidal friction is much stronger on the Moon versus on the Earth. This means the Moons rotation slows faster than the Earths, and is why the Moon is now tidal locked into a synchronous rotation (the same side always faces us).\n",
    "\n",
    "**Synchronous rotation** is very common - seen in binary stars, and in Sun-Mercury system."
   ]
  },
  {
   "cell_type": "markdown",
   "id": "4f33f80e-e456-4458-9eaa-1c59201dae7b",
   "metadata": {},
   "source": [
    "# Roche Limit\n",
    "We next want to ask oursleves the question \"when could tidal distortion destory an object?\". The condition for this is that the tidal acceleration is larger than the accelration due to self-gravity. Formally, this is given by:\n",
    "$$\n",
    "    a_{\\rm tidal} > a_{\\rm self-gravity}\n",
    "$$\n",
    "The **Roche limit** is the smallest orbit which is stable against this effect.\n",
    "\n",
    "## Method 1\n",
    "As a starting point, we're going to say\n",
    "$$\n",
    "    \\frac{2GMR_{\\rm m}}{d^3} > \\frac{G m}{R_{\\rm m}^2}\n",
    "$$\n",
    "where big $M$ is the mass of the large, stable body, and little $m$ is a orbiting body which we are investigating, and separated by a distance $d$. For this, we find that\n",
    "$$\n",
    "    d<\\left(\\frac{2M}{m}\\right) ^{1/3} R_{\\rm m}\n",
    "$$\n",
    "So if the separation is less than this value, then the orbiting body will be torn asunder. We can rewrite this in terms of densities also (which is more convient in particular examples). From here on out, we're going to assume a Planet-Moon system, and we'll use P for Planet and m for moon. The densities of these bodies is given by\n",
    "$$\n",
    "    M_{\\rm P} = \\rho _{\\rm p} \\frac{4}{3} \\pi R_{\\rm P}^3, \\: \\; \\; m_{\\rm m} = \\rho _{\\rm m} \\frac{4}{3} \\pi R_{\\rm m}^3\n",
    "$$\n",
    "and so\n",
    "$$\n",
    "    \\frac{2M}{m} = 2 \\frac{\\rho _{\\rm P} R_{\\rm P}^3}{\\rho _{\\rm m} R_{\\rm m}^3}\n",
    "$$\n",
    "giving us\n",
    "$$\n",
    "    d< 2^{1/3} \\left( \\frac{\\rho _{\\rm P}}{\\rho _{\\rm m}}\\right) ^{1/3} R_{\\rm p}.\n",
    "$$\n",
    "\n",
    "## Method 2\n",
    "Ok, the above was a very simplified way of looking at this. Let's try make it more complicated and include centripetal acceleration due to orbital motion. Consider a mass element on the side of the orbiting moon facing the planet (as below).\n",
    "\n",
    "![Tidal_Friction](Figures/Centripetal_motion.png)\n",
    "\n",
    "In this case, we need to ask the question \"when is the gravitational acceleration felt by the mass element larger than the centripetal acceleration?\"\n",
    "$$\n",
    "    \\frac{G M}{(d-R_{\\rm m})^2} - \\frac{Gm}{R_{\\rm m}^2} > \\omega^2(d-R_{\\rm m})\n",
    "$$\n",
    "where $\\omega$ is the angular velocity of the moon, and is given by:\n",
    "$$\n",
    "    m \\omega^2 d = \\frac{GMm}{d^2}\n",
    "$$\n",
    "$$\n",
    "    \\omega^2 = \\frac{GM}{d^3}\n",
    "$$\n",
    "Using this expression the Roche Limit condition becomes\n",
    "$$\n",
    "    \\frac{G M}{d^2} \\left( 1-\\frac{R_{\\rm m}}{d} \\right)^{-2} - \\frac{Gm}{R_{\\rm m}^2} > \\frac{GM}{d^3}(d-R_{\\rm m})\n",
    "$$\n",
    "which simplifies to (ssuming $R_{\\rm m}<<d$)\n",
    "$$\n",
    "    d < 3^{1/3} \\left(\\frac{M}{m}\\right)^{1/3}R_{\\rm m}\n",
    "$$\n",
    "$$\n",
    "    d < 3^{1/3} \\left( \\frac{\\rho _{\\rm P}}{\\rho _{\\rm m}}\\right) ^{1/3} R_{\\rm p}.\n",
    "$$\n",
    "which is very similar to what we derived with our simple approximation - the only difference is the leading constant, which is $2^{1/3}=1.26$ in the simplest case, and $3^{1/3}=1.44$ when we account for centripetal force.\n",
    "\n",
    "## Method 3\n",
    "Derived by Roche in 1850, where he assumed the bodies were \"fluid, prolate spheroids\" (so similar to a rugby ball), and got the same dependance as above, but with a constant of 2.45. For actual problems, this coefficient is what should be used.\n",
    "\n",
    "## Example: Saturns rings\n",
    "The average density of Saturn is 710 kg/m$^3$, its radius is $6.03\\times 10^7$ m. The moon Titan has a density of 1880 kg/m$^3$. The Roche limit for a moon with Titan's density (and using the coefficient of 2.45) is \n",
    "$$\n",
    "    d_{\\rm min} = 2.45 \\left( \\frac{\\rho _{\\rm Saturn}}{\\rho _{\\rm Titan}}\\right) ^{1/3} R_{\\rm Saturn}\n",
    "$$\n",
    "$$\n",
    "    d_{\\rm min} = 107,000 \\: {\\rm km}\n",
    "$$\n",
    "Since Titan exists, and has not been disrupted, we would expect it to lie outside this distance. Indeed, Titan's actual distance from Saturn is $1.22\\times10^6$ km.\n",
    "\n",
    "But what about Saturn's rings? They extend from 88,000 km to 136,000 km, while all major moons are located oustide this distance. This suggests that the rings may be from a moon whose density was similar to Titna, which was then tidally disrupted."
   ]
  },
  {
   "cell_type": "code",
   "execution_count": 10,
   "id": "55505b97-0b38-4598-818e-9ecb8dbcbecf",
   "metadata": {},
   "outputs": [
    {
     "name": "stdout",
     "output_type": "stream",
     "text": [
      "106786.63373076545 km\n"
     ]
    }
   ],
   "source": [
    "rho_sat = 710*u.kg/u.m**3\n",
    "R_sat = 6.03e7*u.m\n",
    "rho_titan = 1880*u.kg/u.m**3\n",
    "a_min = 2.45*(rho_sat/rho_titan)**(1/3)*(R_sat)\n",
    "print(a_min.to(u.km))"
   ]
  },
  {
   "cell_type": "markdown",
   "id": "f1ce316d-417a-4261-910e-4852ab46fece",
   "metadata": {},
   "source": [
    "# Instability Limit\n",
    "If an orbiting body is too far away from its companion, perturbations due to the other bodies can become important, causing the  body to escape if the distance exceeds the instability limit. Consider the setup below.\n",
    "\n",
    "![Tidal_Friction](Figures/Instability_limit.png)\n",
    "\n",
    "The escape condition for m is\n",
    "$$\n",
    "    \\frac{GM_2}{(D-d)^2}-\\frac{GM_2}{D^2} > \\frac{G M_1}{d^2}\n",
    "$$\n",
    "You can think of this as a tug of war. On the left, we have the differential force between what the orbiting body ($m$) and the companion ($M_1$) feel due to the perburing body, and on the right we have the gravitational accleration the orbiting body feels towards the companion. Doing some rearranging, and assuming $d<<D$, we get\n",
    "$$\n",
    "    \\frac{M_2}{D_2} (1+\\frac{2d}{D})-\\frac{M_2}{D_2} > \\frac{M_1}{d^2}\n",
    "$$\n",
    "$$\n",
    "    d > \\left(\\frac{M_1}{2M_2}\\right)^{1/3}D\n",
    "$$\n",
    "\n",
    "## Example: Sun, Moon, Earth system\n",
    "\n",
    "Ok, let's set this example up as: $M_1=M_{\\oplus}=5.97\\times10^{24}$ kg, $M_2=M_{\\odot}=2\\times10^{30}$ kg, $D=1$ AU. We get\n",
    "\n",
    "$$\n",
    "    d > \\left(\\frac{M_\\oplus}{2M_\\odot}\\right)^{1/3} D\n",
    "$$\n",
    "$$\n",
    "    d > 1.71\\times10^9 \\; {\\rm m}\n",
    "$$\n",
    "The actual distance between the Earth and the Moon is $3.84\\times10^8$m, which is 0.22$d$. So the moon is stable against the perturbing effect of the Sun!"
   ]
  },
  {
   "cell_type": "code",
   "execution_count": 7,
   "id": "938c71d0-b8a1-49c4-8ef5-e071aee4ad5d",
   "metadata": {},
   "outputs": [
    {
     "name": "stdout",
     "output_type": "stream",
     "text": [
      "Instability limit is d>1.713132e+09 m\n"
     ]
    }
   ],
   "source": [
    "M1 = 1*c.M_earth\n",
    "M2 = 1*u.solMass\n",
    "D = 1*u.au\n",
    "d_min = (M1/(2*M2))**(1/3)*(D)\n",
    "print(\"Instability limit is d>{:e}\".format(d_min.to(u.m)))"
   ]
  }
 ],
 "metadata": {
  "kernelspec": {
   "display_name": "Python 3 (ipykernel)",
   "language": "python",
   "name": "python3"
  },
  "language_info": {
   "codemirror_mode": {
    "name": "ipython",
    "version": 3
   },
   "file_extension": ".py",
   "mimetype": "text/x-python",
   "name": "python",
   "nbconvert_exporter": "python",
   "pygments_lexer": "ipython3",
   "version": "3.8.10"
  }
 },
 "nbformat": 4,
 "nbformat_minor": 5
}
