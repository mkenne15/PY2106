{
 "cells": [
  {
   "cell_type": "markdown",
   "id": "36383112-7551-4372-bd9e-d3463694954a",
   "metadata": {},
   "source": [
    "# Introduction"
   ]
  },
  {
   "cell_type": "markdown",
   "id": "19892244-0e50-4c63-8258-fb53452d69b9",
   "metadata": {},
   "source": [
    "In order to understand why we require a theory of special relativity, let's consider the results of a thought experiment by Galileo. Galileo described an enclosed laboratory below the deck of a ship which is moving at uniform velocity. He then argued that no experiment could be performed within the laboratory that told you anything about the velocity of the ship through water.\n",
    "\n",
    "Take two frames of reference (say one at the port where the ship leaves, and which stays at the port, which we will call frame **S**, and one which travels with the laboratory on the ship called **S'**), and we say that the ship is moving in the **x** direction with velocity **u**. The observers measure the same same moving object, recording its position $(x,y,z)$ and $(x',y',z')$ at time $t$ and $t'$. then we can write the Galilean transformation equations:\n",
    "\n",
    "\\begin{align}\n",
    "    x' &= x - u t\\\\\n",
    "    y' &= y\\\\\n",
    "    z' &= z.\n",
    "\\end{align}\n",
    "\n",
    "The velocity transformations are obtained by taking the time derivative of these equations\n",
    "\n",
    "\\begin{align}\n",
    "    v_{x'} &= v_x + u\\\\\n",
    "    v_{y'} &= v_y\\\\\n",
    "    v_{z'} &= v_z\n",
    "\\end{align}\n",
    "\n",
    "or, in vectors, $\\textbf{v'}=\\textbf{v}-\\textbf{u}$ while the acceleration is\n",
    "\n",
    "$$\n",
    "    \\textbf{a'} = \\textbf{a}.\n",
    "$$"
   ]
  },
  {
   "cell_type": "markdown",
   "id": "dd37020f-010b-46ec-b42f-8bc6082efedf",
   "metadata": {},
   "source": [
    "# The determination of the speed of light"
   ]
  },
  {
   "cell_type": "markdown",
   "id": "b3c06e32-164f-47e9-b026-c837fe7e520d",
   "metadata": {},
   "source": [
    "The next step in our journey concerns Maxwells discovery of the speed of light through a vacuum (or what was thought of as the time to be the ether) to be $3\\times10^8$ m s$^{-1}$. This motivated physicists to measure the speed of light on Earth, as the difference should allow you to estimate the velocity of the Earth in its orbit around the Sun. However, results from these experiments showed that the speed of light on Earth was the same as in a vaccum, despite the Earth orbiting the Sun at approximately 30 km s$^{-1}$. This is in direct tension with the Galilean transformations for velocity."
   ]
  },
  {
   "cell_type": "markdown",
   "id": "e5cf5520-4f5f-4c56-ba74-0fa73993c540",
   "metadata": {},
   "source": [
    "# Lorentz Transformations"
   ]
  },
  {
   "cell_type": "markdown",
   "id": "8c97e35f-36e2-428b-b411-f33ef32db244",
   "metadata": {},
   "source": [
    "The solution to these issues came from Albert Einstein, and proposed 2 postulates of special relativity:\n",
    "\n",
    "1. **The principle of relativity**: the laws of physics are the same in all inertial reference frames.\n",
    "2. **The constancy of the speed of light**: light travels through a vacuum at a constant speed that is independent of the motion of the light source.\n",
    "\n",
    "From these, he derived the Lorentz Transformations as follows. Consider two reference frames, **S** and **S'**. The most general set of linear transformation equations between these frames are:\n",
    "\\begin{align}\n",
    "    x' &= a_{11} x + a_{12} y + a_{13} z + a_{14} t\\\\\n",
    "    y' &= a_{21} x + a_{22} y + a_{23} z + a_{24} t\\\\\n",
    "    z' &= a_{31} x + a_{32} y + a_{33} z + a_{34} t\\\\\n",
    "    t' &= a_{41} x + a_{42} y + a_{43} z + a_{44} t.\n",
    "\\end{align}\n",
    "We now need to determine values for all of these coefficients, $a_{ij}$. The first postulate implies that lengths that are perpendicular to $\\textbf{u}$ are unchanged. There are a couple of ways of thinking about this that should convince you that this is true, but I won't put them here (feel free to search them if you are interested). This is useful, as if we choose our frames such that $\\textbf{u}$ is in the x direction only, the $y$ and $z$ are perpendicular to the velocity, meaning $y'=y$ and $z'=z$ (which means $a_{22} = a_{33} = 1$ and , while $a_{21}=a_{23}=a_{24}=a_{31}=a_{32}=a_{34}=0$). Additionally, $a_{42}=a_{43}=0$ due to rotational symmetry around the axis parallel to the velocity.\n",
    "\n",
    "Now, consider the motion of the origin of the **S'** frame. If our clocks are synchronised at $t=t'=0$ when the frames **S** and **S'** are aligned, the x coordinate of the origin of **S'** is given by $x=ut$ in the **S** frame (as its moved this distance in this frame), and by $x'=0$ in the **S'** prime (since it's the origin in this frame). This means that\n",
    "$$\n",
    "    0 = a_{11} ut + a_{12} y + a_{13} z + a_{14} t\n",
    "$$\n",
    "which has a solution when $a_{12}=a_{13}=0$ and $a_{11} u = -a_{14}$. This gives the transformations as \n",
    "\\begin{align}\n",
    "    x' &= a_{11} (x - ut)\\\\\n",
    "    y' &= y\\\\\n",
    "    z' &= z\\\\\n",
    "    t' &= a_{41} x + a_{44} t.\n",
    "\\end{align}\n",
    "\n",
    "Now we require Einstein's second postulate: that the speed of light is the same for everyone in any inertial frame. Suppose that when the origins of the frames coincide at $t=t'=0$, a flashbulb is set off. At a later time t, the observer in frame **S** will measure a spherical wavefront of light with radius $ct$, moving away from the origin at speed $c$, and which satisfies the equation\n",
    "$$\n",
    "    x^2 + y^2 + z^2 = (ct)^2.\n",
    "$$\n",
    "Similarly, the observer in **S'** will measure a distance from the origin of **S'** satisfying\n",
    "$$\n",
    "    x'^2 + y'^2 + z'^2 = (ct')^2.\n",
    "$$\n",
    "Using the transformations for the primed coordinates and plugging them into this relation gives that $a_{11}=a_{44}=1/\\sqrt{1-u^2/c^2}$, and that $a_{41}=-ua_{11}/c^2$. Thus, the transformations are given as\n",
    "\n",
    "\\begin{align}\n",
    "    x' &= \\frac{x-ut}{\\sqrt{1-u^2/c^2}}\\\\\n",
    "    y' &= y\\\\\n",
    "    z' &= z\\\\\n",
    "    t' &= \\frac{t-ux/c^2}{\\sqrt{1-u^2/c^2}}\n",
    "\\end{align}\n",
    "\n",
    "For convenience, we normally use the Lorentz Factor $\\gamma=1/\\sqrt{1-u^2/c^2}$, which gives\n",
    "\n",
    "\\begin{align}\n",
    "    x' &= \\gamma({x-ut})\\\\\n",
    "    y' &= y\\\\\n",
    "    z' &= z\\\\\n",
    "    t' &= \\gamma(t-ux/c^2)\n",
    "\\end{align}"
   ]
  },
  {
   "cell_type": "code",
   "execution_count": null,
   "id": "48607f9c-a2a1-434c-8c7a-5a3d78e2d26c",
   "metadata": {},
   "outputs": [],
   "source": []
  }
 ],
 "metadata": {
  "kernelspec": {
   "display_name": "Python 3 (ipykernel)",
   "language": "python",
   "name": "python3"
  },
  "language_info": {
   "codemirror_mode": {
    "name": "ipython",
    "version": 3
   },
   "file_extension": ".py",
   "mimetype": "text/x-python",
   "name": "python",
   "nbconvert_exporter": "python",
   "pygments_lexer": "ipython3",
   "version": "3.8.10"
  }
 },
 "nbformat": 4,
 "nbformat_minor": 5
}
