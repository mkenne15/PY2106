{
 "cells": [
  {
   "cell_type": "code",
   "execution_count": 2,
   "id": "3a6f685c-c812-4a56-8c6c-bcdfac171986",
   "metadata": {},
   "outputs": [],
   "source": [
    "import numpy as np\n",
    "import matplotlib.pyplot as plt\n",
    "import astropy.units as u\n",
    "import astropy.constants as c"
   ]
  },
  {
   "cell_type": "markdown",
   "id": "6872b14b-cf50-4775-b2c4-45d29379f4e3",
   "metadata": {},
   "source": [
    "# Equilibrium Temperatures of Planets\n",
    "\n",
    "## Earth\n",
    "Let's very quickly consider the Earth\n",
    "$$\n",
    "    T_{\\rm Earth} = \\frac{1}{2^{1/4}} T_{\\odot}\\sqrt {\\frac{R_{\\odot}}{d_{\\rm \\oplus}}}\n",
    "$$\n",
    "which gives $T_{\\rm Earth}=333$ k or 60$^{\\rm o}$ celsius. That maybe runs a bit high (especially since it's an average, not a maximum), so what assumptions do you think we'd need to properly adjust for this?\n",
    "\n",
    "### Reflection\n",
    "Not all of the light incident on the Earth is absorbed - the ocean and our atmosphere reflect some incident radiation. The fraction reflected is given by the albedo, $a$, of a planet. For Earth, $a \\sim 0.30$. We can account for this using:\n",
    "$$\n",
    "    P_{\\rm abs} = (1-a)\\frac{L_{\\odot}}{4 \\pi d_{\\rm min}^2} \\pi R_{\\rm \\oplus} ^2\n",
    "$$\n",
    "This gives\n",
    "$$\n",
    "    T_{\\rm \\oplus} = \\left( \\frac{1-a}{2} \\right)^{1/4} T_{\\odot}\\sqrt {\\frac{R_{\\odot}}{d_{\\rm \\oplus}}}\n",
    "$$\n",
    "which gives a temperature of $T_{\\rm \\oplus}=304.6$ k or 31.6$^{\\rm o}$ C. So much better already!\n",
    "\n",
    "### Redistribution of energy\n",
    "There are other effects, such as \n",
    "\n",
    "- The continous rotation of Earth. This means the surface exposure to radiation is constantly changing, which will help lower the temperature.\n",
    "- The atmosphere and oceans circulate, which spreads heat energy absorbed around a much larger fraction of the planet than we've used. This will also lower the temperature.\n",
    "- Internal energy of the planey due to cooling since formation helps increase the temperature.\n",
    "\n",
    "Again, as a first order approxmiation, we could say that the first 2 effects mean that the energy absorbed by the Earth is in fact spread over the entire surface of the planet. This means\n",
    "$$\n",
    "    P_{\\rm rad} = \\sigma (4 \\pi R_{\\rm \\oplus}^2) T_{\\rm \\oplus}^4\n",
    "$$\n",
    "This would then give a temperature of\n",
    "$$\n",
    "    T_{\\rm \\oplus} = \\left( 1-a \\right)^{1/4} T_{\\odot}\\sqrt {\\frac{R_{\\odot}}{2 d_{\\rm \\oplus}}}\n",
    "$$\n",
    "This then gives a temperature of $T_{\\rm \\oplus}=256$ k or -17$^{\\rm o}$ C. Which is way too cool - so we've likely overcompensated.\n",
    "\n",
    "### Greenhouse Effect\n",
    "Earth's atmosphere traps some absorbed energy near Earth's surface (\"Greenhouse effect\"). This raises the Earth's temperature to around 15$^{\\rm o}$ C.\n",
    "\n",
    "## Atmospheres\n",
    "One of the key differences between the equilibrium temperatures of the inner rocky planets and the outer gas giants is due to their different albedos. This is mainly down to the chemical composition of their surface. So why are the compositions between the inner planets and the outer planets so different?\n",
    "\n",
    "To understand this, we first need to understand the concept of escape velocity. To do this, consider the question: what velocity is required such that a particle launched from a planets surface will drop to a velocity of 0 at infinite distance? The solution is simply:\n",
    "\n",
    "\\begin{align}\n",
    "    \\frac{1}{2} m v_{\\rm i}^2 - \\frac{GmM}{r_{i}} &= \\frac{1}{2} m v_{\\rm f}^2 - \\frac{GmM}{r_{f}}\\\\\n",
    "    \\frac{1}{2} m v_{\\rm i}^2 - \\frac{GmM}{r_{i}} &= 0\\\\\n",
    "    v_{\\rm i} &= \\sqrt{\\frac{2GM}{r_i}}\n",
    "\\end{align}\n",
    "\n",
    "As such, a particle moving at velocity $ v_{\\rm i}$ when located a distance ${r_i}$ from the centre of a body is destined to escape the gravitational potential of that object. So, now recall the Maxwell-Boltzmann velocity distribution, which has a very long tail at high velocities. It is these particles that are likely to have a velocity higher than the escape velocity for a planet, and will leave, leading to a diminished atmosphere.\n",
    "\n",
    "However, there is another effect here which counters particles escaping - collisions! In a dense atmosphere, a particle only need travel a short distance prior to interacting with another particle, changing its velocity. However, since the atmosphere will gradually get weaker the higher you go, at some point the density will become low enough that particles with a velocity $>v_{\\rm esc}$ will not undergo an interaction prior to escaping. This height is referred to a sthe **exobase**, and the atmosphere above this point is referred to as the **exosphere**.\n",
    "\n",
    "Let's now figure out where the exobase lies. The height, $z_{\\rm ex}$ is given by\n",
    "$$\n",
    "    \\int_{z_{\\rm ex}}^{\\infty} \\sigma n(z) {\\rm d} z = \\sigma N(z_{\\rm ex}) = 1\n",
    "$$\n",
    "where $N(z_{\\rm ex}$ is the total column density above $z_{\\rm ex}$. As such, the exobase occurs approximately at the distance at which $N(z_{\\rm ex}) \\sim \\frac{1}{\\sigma}$. For molecules like O$_2$, $\\sigma \\sim 10^{-18}$ m$^{-2}$, and so the exobase occurs where $N(z_{\\rm ex}) \\sim 10^{18}$ m$^{-2}$. For the Earth, this happens at roughly 500 km. At the exobase, the rms speed of the particles is\n",
    "$$\n",
    "    v_{\\rm rms} = \\left(\\frac{3 k_{\\rm B} T}{m}\\right)^{1/2}\n",
    "$$\n",
    "For appreciable number of gas particles to escape, then $v_{\\rm esc} \\sim v_{\\rm rms}$. This gives the temperature at which a gas is likely to escape.\n",
    "$$\n",
    "   T_{\\rm esc} \\sim \\frac{2}{3}\\frac{GMm}{k_{\\rm B}R} \n",
    "$$\n",
    "So the temperature depends on $\\frac{M}{R}$, as everything else is the same for all planets.\n",
    "In practice, there will be appreciable escape when $v_{\\rm rms} > 1/6 v_{\\rm esc}$, since many particles in the gas have $v>v_{\\rm rms}$.\n",
    "\n",
    "Now that we know this, let's look at the structure of the Solar System. The mass within the sollar system is distributed approximately as follows. First, the Sun has a mass of $M_{\\odot}=2\\times 10 ^{30}$ kg. Next, the planets have masses (relative to the Earth's mass, $M_{\\oplus}$) of \n",
    "\n",
    "| |Mecury | Venus | Earth | Mars | Jupiter | Saturn | Uranus | Neptune |\n",
    "| --- | --- | --- | --- | --- | --- | --- | --- | --- |\n",
    "|Mass($M_{\\oplus}$) | 0.055 | 0.815 |1.0 | 0.107 | 318 | 95 | 14.5 | 17.1 |\n",
    "\n",
    "Finally, for completeness, Pluto has a mass of 0.0022 $M_{\\oplus}$.\n",
    "\n",
    "In total, the planets have a mass $446 M_{\\oplus}=0.0014 M_{\\odot}$, meaning the planets really only account for a rounding error of the solar systems total mass! They follow Keplerian orbits around the Sun.\n",
    "\n",
    "So, let's revisit our Table from above, but for $\\frac{M}{R}$ (with both given in Earth Units)\n",
    "\n",
    "| |Mecury | Venus | Earth | Mars | Jupiter | Saturn | Uranus | Neptune |\n",
    "| --- | --- | --- | --- | --- | --- | --- | --- | --- |\n",
    "|$\\frac{M}{R}$ | 0.14 | 0.86 |1.0 | 0.19 | 28.4 | 10.1 | 3.6 | 4.5 |\n",
    "\n",
    "So the escape temperatures are much higher for the gas giants, especially Jupiter and Neptune, while their actual temperature's are lower than the terrestrial planets (as they are further from the Sun). Because of this, they can retain ligher molecules such as H2 and He, which terrestiral planets lose very easily."
   ]
  },
  {
   "cell_type": "markdown",
   "id": "cd5d5325-0805-483c-b3c9-871a95438965",
   "metadata": {},
   "source": [
    "# The Solar System"
   ]
  },
  {
   "cell_type": "markdown",
   "id": "7e621fa4-d39b-4f9f-ab9c-f1e6baa3ee97",
   "metadata": {},
   "source": [
    "In the last lecture, we briefly looked at the structure of the solar system, noticing that most of the solar systems mass is contained within the Sun. Additionally, by looking at the escape velocity for a gas at temperature T, we could see why the atmosphere's of the Gas Giants can retain the likes of Hydrogen and Helium, while the terrestrial planets only hold on to heavier elements.\n",
    "\n",
    "Next, let's look at the distribution of angular momentum throughout the solar system, to see if that helps in building up a model for the formation of the solar system.\n",
    "\n",
    "## Mass and Angular momentum distribution\n",
    "There are two types of angular momentum associated with motion in the solar system:\n",
    "\n",
    "- Rotational (Earth spinning around its axis), with a momentum of inertia of $I=\\frac{2}{5}mr^2$, and $J_{\\rm rot}=I\\omega_{\\rm rot}$\n",
    "- Orbital (Earth moving around the Sun), with a momentum of inertia of $I=md^2$ if we treat the body as a point source, and $J_{\\rm orb}=I\\omega_{\\rm orb}$\n",
    "\n",
    "Let's look at the various bodies within the solar system, and how much of the solar systems angular momentum the contain.\n",
    "\n",
    "### The Sun\n",
    "There is a very small amount of orbital momentum as it orbits the solar system barycenter, and for this calculation we're going to neglect it. For the rotational angular momentum, $J_{\\rm rot}$, then $m=M_{\\odot}=2\\times 10^{30}$ kg, $r=R_{\\odot}=7\\times 10^8$ m, and has a rotational period of 26 days ($2.25\\times10^6$ s), which means\n",
    "\n",
    "$$\n",
    "    \\omega_{\\rm rot,\\odot} = \\frac{2\\pi}{2.25\\times10^6}= 2.80 \\times 10^{-6} {\\rm rad/s}\n",
    "$$\n",
    "\n",
    "This gives a rotational angular momentum of the Sun of \n",
    "\n",
    "$$\n",
    "    J_{\\rm rot,\\odot}=\\frac{2}{5}M_{\\odot} R_{\\odot}^2 \\omega_{\\rm rot,\\odot} = 1.07\\times10^{42} {\\rm J \\; s}\n",
    "$$"
   ]
  },
  {
   "cell_type": "code",
   "execution_count": 76,
   "id": "ff4972fa-57cb-4ea5-b0a0-93746b5982dc",
   "metadata": {},
   "outputs": [
    {
     "name": "stdout",
     "output_type": "stream",
     "text": [
      "The Sun's rotational angular momentum is 1.0767197674333849e+42 J s\n"
     ]
    }
   ],
   "source": [
    "m = u.solMass\n",
    "r = u.solRad\n",
    "P = 26*u.day\n",
    "\n",
    "omega = (2*np.pi/P)\n",
    "J = 2/5 * m * r**2 * omega\n",
    "print(f\"The Sun's rotational angular momentum is {J.to(u.J*u.s)}\")"
   ]
  },
  {
   "cell_type": "markdown",
   "id": "a6606ced-3fd9-459c-a864-8a58b47aab29",
   "metadata": {},
   "source": [
    "### The Earth\n",
    "So planets have both significant orbital and rotational angular momentum. To put the angular momentum of the Sun into context, let's look at the angular momentum of the Earth. Here, $m=M_{\\oplus}=6\\times10^24$ kg, $r=R_{\\oplus}=6.4\\times 10^6$ m, $P_{\\rm rot} = 1$ day, $\\omega_{\\rm rot} = 7.3\\times10^-5$ rad/s. This means \n",
    "$$\n",
    "    J_{\\rm rot,\\oplus} = \\frac{2}{5}M_{\\oplus} R_{\\oplus}^2 \\omega_{\\rm rot,\\oplus} = 7.06\\times10^{33} {\\rm J \\; s}\n",
    "$$\n",
    "which means the ratio of the Earth's rotational angular momentum to the Sun is\n",
    "$$\n",
    "    \\frac{J_{\\rm rot,\\oplus}}{J_{\\rm rot,\\odot}} = \\frac{7.06\\times10^{33}}{1.07\\times10^{42}}=6.7\\times 10^{-9}\n",
    "$$\n",
    "meaning the Earth's rotational angular momentum is negligible compared to that of the Sun."
   ]
  },
  {
   "cell_type": "code",
   "execution_count": 18,
   "id": "45c4186e-1f62-4528-b97c-0acb7b76138a",
   "metadata": {},
   "outputs": [
    {
     "name": "stdout",
     "output_type": "stream",
     "text": [
      "The Earth's rotational angular momentum is 7.067092438108647e+33 J s\n"
     ]
    }
   ],
   "source": [
    "m = u.earthMass\n",
    "r = u.earthRad\n",
    "P = 1*u.day\n",
    "\n",
    "omega = (2*np.pi/P)\n",
    "J = 2/5 * m * r**2 * omega\n",
    "print(f\"The Earth's rotational angular momentum is {J.to(u.J*u.s)}\")"
   ]
  },
  {
   "cell_type": "markdown",
   "id": "e0ec9ed2-eb35-4fcb-ba56-bfa1d1323556",
   "metadata": {},
   "source": [
    "The orbital angular momentum of the Earth, with a $P_{\\rm orb}=365.25$ days, and $d=1$ AU. This gives an orbital angular momentum of \n",
    "$$\n",
    "    J_{\\rm orb,\\oplus} = M_{\\oplus} d^2 \\omega_{\\rm orb,\\oplus} = 2.66\\times10^{40} {\\rm J \\; s}\n",
    "$$"
   ]
  },
  {
   "cell_type": "code",
   "execution_count": 19,
   "id": "3ca166be-e49e-4d63-b7b8-8175d20c4762",
   "metadata": {},
   "outputs": [
    {
     "name": "stdout",
     "output_type": "stream",
     "text": [
      "The Earth's orbital angular momentum is 2.661084907751392e+40 J s\n"
     ]
    }
   ],
   "source": [
    "m = u.earthMass\n",
    "d = u.au\n",
    "P = u.year\n",
    "\n",
    "omega = (2*np.pi/P)\n",
    "J = m * d**2 * omega\n",
    "print(f\"The Earth's orbital angular momentum is {J.to(u.J*u.s)}\")"
   ]
  },
  {
   "cell_type": "markdown",
   "id": "42c5f058-658f-4dbb-9578-e2ce4e74f446",
   "metadata": {},
   "source": [
    "So the ratio of Earth's orbital to Earth's rotational angular momentum is:\n",
    "$$\n",
    "    \\frac{J_{\\rm orb,\\oplus}}{J_{\\rm rot,\\oplus}} = 2.66\\times10^{40}/7.06\\times10^{33} = 3.7\\times10^6\n",
    "$$\n",
    "meaning the rotational angular momentum of the Earth is negligible.\n",
    "\n",
    "However, the ratio of the Earth's orbital angular momentum to the Sun's rotational angular momentum is \n",
    "$$\n",
    "    \\frac{J_{\\rm orb,\\oplus}}{J_{\\rm rot,\\odot}} = 2.66\\times10^{40}/1.07\\times10^{42} = 0.024\n",
    "$$\n",
    "That's 2.5%, which is an appreciable amount!\n",
    "\n",
    "So, this is true for all of the planets - their rotational angular momentum scales with the square of their radius, while their orbital angular momentum scales with the squrea of their distance to the Sun. For all of these, $d>>R$, meaning the orbital angular momentum is always much, much higher than the rotational angular momentum.\n",
    "\n",
    "So, with that knowledge, let's focus on the orbital angular momentum:\n",
    "$$\n",
    "    J_{\\rm orb} = m d^2 \\omega\n",
    "$$\n",
    "The gas giants have much larger masses, and much larger distances, and similar orbital periods, so we should expect a large fraction of the angular momentum of the solar system to lie with them.\n",
    "\n",
    "So if you go and calculate the orbital angular momenta for all of the gas giants, you'll get that the total is $J_{\\rm orb, giants} = 3.07\\times10^{43}$ J s. This accounts for 96% of the total angular momentum of the solar system."
   ]
  },
  {
   "cell_type": "markdown",
   "id": "8d52690c-9663-457e-aac1-c0e5bf3cacf4",
   "metadata": {},
   "source": [
    "<div class=\"alert alert-block alert-info\">\n",
    "    <b>Summary</b>\n",
    "\n",
    "The orbital motion of the Gas Giants contain 96.5% of the total angular momentum of the solar system, and yet the planets only contain 0.13% of the solar systems mass.\n",
    "    \n",
    "</div>"
   ]
  },
  {
   "cell_type": "markdown",
   "id": "b0f1c085-8150-481e-a98d-d6f86233c6fa",
   "metadata": {},
   "source": [
    "## The Solar System's angular momentum in context\n",
    "\n",
    "So if we look at the specific angular momentum for various star types (where the specific angular momentum $=J/M$, we get the following plot. This shows that for spectral types earlier than F, a nice linear relationship is followed, while for spectral types later than F, there appears to be missing angular momenta from the stars. Finally, the angular momentum of the Sun plus the planets matches the linear relationship. This suggests that planet formation around stars with a spectral type later than F seems quite common."
   ]
  },
  {
   "cell_type": "code",
   "execution_count": 6,
   "id": "e04b8401-1865-4207-86fc-dd85c8efc58f",
   "metadata": {},
   "outputs": [
    {
     "data": {
      "image/png": "[encoded data removed]",
      "text/plain": [
       "<Figure size 600x450 with 1 Axes>"
      ]
     },
     "metadata": {
      "needs_background": "light"
     },
     "output_type": "display_data"
    }
   ],
   "source": [
    "M = [0.0,0.04, 0.17, 0.21, 0.3, 0.45, 0.58, 0.77, 0.88, 1.26, 1.38]\n",
    "L = [15, 15.75, 16.2, 16.7, 17.05, 17.25, 17.5, 17.65, 17.6, 17.85, 18.05]\n",
    "Spec_Type = [\"Sun\",\"G0\", \"F5\", \"F0\", \"A5\", \"A0\", \"B8\", \"B5\", \"B3\", \"B0\", \"O8\"]\n",
    "M_r = np.arange(0.0,1.6,0.1)\n",
    "\n",
    "plt.figure(figsize=[4,3],dpi=150)\n",
    "plt.plot(M,L,'C0.')\n",
    "plt.plot(M_r,16.9+M_r*0.8,'C1--')\n",
    "plt.plot(0.0,17.1,'C2s')\n",
    "plt.text(0.0,17.1+0.05, 'Sol. Sys',fontsize=10)\n",
    "plt.axvline(0.28,linestyle='--',color='k',alpha=0.5)\n",
    "for i, spec in enumerate(Spec_Type):\n",
    "    plt.text(M[i]+0.03,L[i],spec,fontsize=10)\n",
    "plt.xlabel(r\"Log(M/M$_{\\rm \\odot}$)\",fontsize=10)\n",
    "plt.ylabel(r\"Log(J/M) (cm$^2$ s$^{-1}$)\",fontsize=10)\n",
    "plt.xlim(-0.05,1.5)\n",
    "plt.tight_layout()\n",
    "plt.savefig(\"Figures/Ang_Mom_vs_Mass.png\")\n",
    "plt.show()"
   ]
  }
 ],
 "metadata": {
  "kernelspec": {
   "display_name": "Python 3 (ipykernel)",
   "language": "python",
   "name": "python3"
  },
  "language_info": {
   "codemirror_mode": {
    "name": "ipython",
    "version": 3
   },
   "file_extension": ".py",
   "mimetype": "text/x-python",
   "name": "python",
   "nbconvert_exporter": "python",
   "pygments_lexer": "ipython3",
   "version": "3.8.10"
  }
 },
 "nbformat": 4,
 "nbformat_minor": 5
}
