{
 "cells": [
  {
   "cell_type": "markdown",
   "id": "03783533-bc74-409b-9250-e0bce5352b03",
   "metadata": {},
   "source": [
    "# Stars"
   ]
  },
  {
   "cell_type": "markdown",
   "id": "e19115e1-2699-4c59-a956-8aca45711305",
   "metadata": {},
   "source": [
    "### Colours\n",
    "\n",
    "Consider a blackbody which is observed using the same filters as above, and which we know the distance to. Each filter is sensitive to a different part of the spectrum, meaning the same source will appear with different fluxes in each band. The different in absolute magnitudes between the g and i bands will be\n",
    "$$\n",
    "    g-i=-2.5\\log_{10}\\frac{F_{\\rm g} C_{\\rm i}}{F_{\\rm i} C_{\\rm g}}\n",
    "$$\n",
    "where the $C$s in the above equation are the normalising constants for each band above, and for simplicity we have let $F_g= \\int_0^{\\infty} S_g F_{\\rm \\lambda} d\\lambda$ etc. This means \n",
    "$$\n",
    "    g-i = -2.5\\log_{10}\\frac{F_{\\rm g}}{F_{\\rm i}} + C_{\\rm g-i}\n",
    "$$\n",
    "where $C_{\\rm g-i}=C_{\\rm g}-C_{\\rm i}$\n",
    "\n",
    "So, imagine we can measure both $m_{\\rm u}$ and $m_{\\rm r}$ for a bunch of stars. What does this tell us? Consider the code below. It produces two Figures - one with a blackbody of temperature 5000 kelvin and one with a temperature of 8000 kelvin."
   ]
  },
  {
   "cell_type": "markdown",
   "id": "412d4211-1390-492f-a526-8288f06a0789",
   "metadata": {},
   "source": [
    "In the case of 5000 K star, $\\frac{F_{\\rm g}}{F_{\\rm i}}$=1.047, and $g-i$=-0.05 (ignoring the constants). For the 8000 K star, $\\frac{F_{\\rm g}}{F_{\\rm i}}$=2.46, and $g-i$=-0.95. So immediately, this tells us that if we can measure $g$ and $i$ (or another combination of colours), then we can estimate the temperature of the star, and that hotter stars have more negative $g-i$ values.\n",
    "\n",
    "<div class=\"alert alert-block alert-warning\">\n",
    "<b>It is common to write $m_{\\rm g}$ as $g$, or $m_{\\rm i}$ as i.</b>\n",
    "If you are observing in the Johnson Filters, which are U, B, V, R, and I, then $m_{\\rm U}$ is written as $U$, $m_{\\rm V}$ as $V$ etc. This means the colour could be given by $B-V$ etc. This is how Section 3.6 of Carroll writes everything.\n",
    "</div>"
   ]
  },
  {
   "cell_type": "markdown",
   "id": "58665499-e001-4635-9b6c-7336857c3138",
   "metadata": {},
   "source": [
    "## Radii"
   ]
  },
  {
   "cell_type": "markdown",
   "id": "7d1214f8-72f0-4116-ba04-86c67c137c82",
   "metadata": {},
   "source": [
    "If the angular size ($\\alpha$) of and the distance ($D$) to a star are well known, then the radius ($R$) of the star can easily be estimated using\n",
    "$$\n",
    "    \\frac{R}{D} = \\tan{\\left(\\frac{\\alpha}{2}\\right)} \\approx \\frac{\\alpha}{2}\n",
    "$$\n",
    "However, other than the Sun, there is only one other star whose angular diameter has been resolved using direct imaging - Betelgeuse. The distance to Betelgeuse is 131 pc, and its angular size is $0.125\"$. As such, its radius is\n",
    "$$\n",
    "    R = \\frac{d\\alpha}{2} = 1.2\\times10^9 {\\rm km} = 1800 R_{\\odot}\n",
    "$$\n",
    "From the last lecture, we know that there are stars which are much more intrinsically luminous than the Sun. We now know that there are stars that are significantly larger in radius than the Sun."
   ]
  },
  {
   "cell_type": "markdown",
   "id": "2b3337ce-2bcb-4009-b434-3f5d1a44ad58",
   "metadata": {},
   "source": [
    "## Temperatures"
   ]
  },
  {
   "cell_type": "markdown",
   "id": "464ce3a4-6533-4cb8-ab2b-b4c0edd50fca",
   "metadata": {},
   "source": [
    "Finally, if both the radius and the luminosity of a star are known, then we can estimate what the effective temperature of the star would be if it were radiating like a black body by using\n",
    "$$\n",
    "    T_{\\rm eff} = \\left( \\frac{L}{4 \\pi R^2 \\sigma_{\\rm SB}} \\right)^{1/4}\n",
    "$$\n",
    "Of course, we can then calculate what the colour of the star should be based on this black body temperature. If the observed colours are significantly different to the calculated colours, then it tells us that the star is not radiating like a black-body."
   ]
  },
  {
   "cell_type": "markdown",
   "id": "fdd05da4-88ab-47a8-9b3c-0c984aa8ac12",
   "metadata": {},
   "source": [
    "## Masses"
   ]
  },
  {
   "cell_type": "markdown",
   "id": "01b5b83b-2f49-4cb3-83af-8ededd0640f2",
   "metadata": {},
   "source": [
    "Masses are a bit trickier to do, and is mainly done for binary star systems (as you are doing in your current problem set)."
   ]
  },
  {
   "cell_type": "markdown",
   "id": "fd1df258-99ef-41ca-91e2-09b290abc3ad",
   "metadata": {},
   "source": [
    "## Spectral classifiations"
   ]
  },
  {
   "cell_type": "markdown",
   "id": "2ee67f5d-b164-46e4-9cbd-95bbe539baf8",
   "metadata": {},
   "source": [
    "### By Temperature\n",
    "The observed characteristics of stars led to 2 classification schemes in the late 1800's. The first scheme, by Pickering and Fleming related to the strength of the Balmer absorption features of hydrogen, with stars ranked from A (strongest absorption features) to O (weakest absorption features). However, a quick discussion of when we would expect to see Balmer absorption features will show why this order is not particularly. The Balmer absorption features are associated with electrons in the $n=2$ state absorbing photons. Thus, for cold objects, we do not expect to see strong features at these wavelengths, as there will not be many atoms with electrons in this state. As $T$ increases, more H atoms will have electrons in this state, leading to stronger absorption features. However, once hot enough, many of the H atoms will become ionised, leading to a decrease again in this absorption feature. These two competing effects lead to a maximum expected absorption depth at $T=10,000$ K. Thus, if we rank stars by the depth of their H features, then stars with temperatures close to $10,000$ K will be $A$, with both colder and hotter stars then categorised between B-O.\n",
    "\n",
    "This was realised by astronomers at Harvard, led by Annie Cannon, at the start of the 20th century, and the order reshuffled to **OBAFGKM**, such that all the labelling work done by Fleming could be maintained, but such that the stars were now ordered by their temperatures. These stars spanned a temperature range of $40,000 - 3000$ K. Since this time, we have added 2 new classifications to the system: L and T dwarfs (why do you think we didn't know of these stars at the time?).\n",
    "\n",
    "There are further subdivisions to this ordering, such that each letter is subdivided into 9 numbers. That is, G stars can be G1-G9, with G1 the hottest and G9 the coolest. The below table summarises the temperatures for the different classes.\n",
    "\n",
    "| Class | Temperature (K) |\n",
    "| --- | --- | \n",
    "| O | 40,000 |\n",
    "| B | 20,000 |\n",
    "| A | 9,000 |\n",
    "| F | 7,000 |\n",
    "| G | 5,500 |\n",
    "| K | 4,500 |\n",
    "| M | 3,000 |\n",
    "| L | 2,000 |\n",
    "| T | <1,300 |\n",
    "\n",
    "### By Luminosity\n",
    "The above classifications only rely on an objects temperature, but there is another classification we need to recall - luminosity! The six luminosity classes are given as Roman numerals (I, II, III, IV, V, VI), and are assigned empircally on the width of a stars absorption features (I having the narrowest and VI having the widest). We'll talk about this more in another lecture, but it turns out the luminosity class is related to the radius of the object, such that large objects have the most narrow lines, and small objects have broader lines.\n",
    "\n",
    "| Class | Star Size |\n",
    "| --- | --- | \n",
    "| I | supergiant |\n",
    "| II | bright giant |\n",
    "| III | giant |\n",
    "| IV | subgiant |\n",
    "| V | dwarf |\n",
    "| VI | subdwarf |"
   ]
  },
  {
   "cell_type": "markdown",
   "id": "78ae457d-c1b2-40b3-a891-ffe5bc9108e9",
   "metadata": {},
   "source": [
    "## The Hertzsprung-Russell Diagram"
   ]
  },
  {
   "cell_type": "markdown",
   "id": "65fb87a4-5c47-43f0-b302-07e81568ab5b",
   "metadata": {},
   "source": [
    "The tools we have developed for measuring the intrinsic luminosity of objects (by calculating their absolute magnitudes) and for their temperatures (by measuring a stars colour) can be to understand the evolutionary path of stars. First, below is a plot of the colour and absolute magnitudes of all of the stars within the nearest 700 pc to the Sun. There is remarkable structure to this plot, which is worth discussing in significant detail.\n",
    "\n",
    "![HR700pc](Figures/HR_diagram.png)\n",
    "\n",
    "We can understand both axes from their relations to luminosity (and thus radius), and temperature. The x-axis is a proxy for temperature, with hot objects on the right and cold objects on the left, and the y-axis is a proxy for radius, with large giants towards the top and small dwarfs on the bottom. The diagonal strip that runs from the upper left to the lower right defines the main sequence - these are hydrogen burning stars like the Sun."
   ]
  },
  {
   "cell_type": "markdown",
   "id": "d5bc1761-bdda-4fba-9599-6bb8709b37b0",
   "metadata": {},
   "source": [
    "## Photospheres"
   ]
  },
  {
   "cell_type": "markdown",
   "id": "f386bfc8-cf5f-416c-a4fd-146e321af76c",
   "metadata": {},
   "source": [
    "So when we observe light coming from a star, we are looking at light that is coming from a very particular region of the star, often called the photosphere. Let's dive what this actually is. Imagine we have a spherical star that is in hydrostatic equilibrium, where the inward force of gravity is balanced by the outward force due to the internal pressure of the object. The pressure gradient for such an object is given by\n",
    "$$\n",
    "    \\frac{{\\rm d} P}{{\\rm d} r} = -\\frac{GM(r) \\rho}{r^2}\n",
    "$$\n",
    "where $M(r)$ is the mass enclosed at a distance $r$, and $\\rho$ is the local mass density. If we assume the star behaves like an ideal gas, then we know that\n",
    "$$\n",
    "    P = n k_{\\rm B} T = \\frac{ \\rho k_{\\rm B} T }{\\mu m_{\\rm p}}\n",
    "$$\n",
    "where $\\mu$ is the mean molecular mass of the gas, and depends on the mixture of elements and the degree of ionisation of the gas. First, let's use the standard definitions for elements that astronomers use: we care about hydrogen, helium, and metals (everything heavier than helium). The total mass density can then be written as\n",
    "$$\n",
    "    \\rho = \\rho_{\\rm H} + \\rho_{\\rm He} + \\rho_{\\rm metal}\n",
    "$$\n",
    "Normally, we discuss mass fractions: that is\n",
    "\\begin{align}\n",
    "    X &\\equiv \\frac{\\rho_{\\rm H}}{\\rho}\\\\\n",
    "    Y &\\equiv \\frac{\\rho_{\\rm He}}{\\rho}\\\\\n",
    "    Z &\\equiv \\frac{\\rho_{\\rm metal}}{\\rho} = 1 - X - Y\\\\\n",
    "\\end{align}\n",
    "\n",
    "### Pure Hydrogen\n",
    "Imagine a gas composed of pure hydrogen. If completely neutral, then the number density of this gas is $n=\\rho/m_p$ (neglecting the electron mass), while the mean molecular mass would be $\\mu = 1$. If the gas is completely ionised, then $n=2\\rho/m_p$, as we have now separated out the electrons from the protons, doubling the number of particles. The mean molcular mass then becomes $\\mu = 1/2$.\n",
    "\n",
    "### Pure Helium\n",
    "For a pure helium gas which is completely neutrl, then $n=\\rho/(4m_p)$ and $\\mu = 4$. If the gas is completely ionised, we triple the number of particles, as two electrons are freed from each atom, meaning $n=3\\rho/(4m_p)$ and $\\mu = 4/3$.\n",
    "\n",
    "### A gas of metals\n",
    "For a gas made purely of metals, we will write $A$ as the average number of nucleons per atom. The number density is $n=\\rho/(A m_p)$ and the mean molecular mass is $\\mu = 4$ when neutral. If the number of protons and neutrons in each nucleas is roughly equal, then $\\sim A/2$ electrons will be freed when the gas is fully ionised, meaning the number density is $n\\approx\\rho/(2 m_p)$ and the mean molecular mass is $\\mu \\approx 2$, if $A/2 \\gg 1$."
   ]
  },
  {
   "cell_type": "code",
   "execution_count": null,
   "id": "7729feb6-e50d-4dde-abbc-85e0f3071a5d",
   "metadata": {},
   "outputs": [],
   "source": []
  }
 ],
 "metadata": {
  "kernelspec": {
   "display_name": "Python 3 (ipykernel)",
   "language": "python",
   "name": "python3"
  },
  "language_info": {
   "codemirror_mode": {
    "name": "ipython",
    "version": 3
   },
   "file_extension": ".py",
   "mimetype": "text/x-python",
   "name": "python",
   "nbconvert_exporter": "python",
   "pygments_lexer": "ipython3",
   "version": "3.8.10"
  }
 },
 "nbformat": 4,
 "nbformat_minor": 5
}
