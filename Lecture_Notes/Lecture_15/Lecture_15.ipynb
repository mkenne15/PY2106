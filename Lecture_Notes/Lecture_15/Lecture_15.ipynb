{
 "cells": [
  {
   "cell_type": "markdown",
   "id": "03783533-bc74-409b-9250-e0bce5352b03",
   "metadata": {},
   "source": [
    "# Stars"
   ]
  },
  {
   "cell_type": "markdown",
   "id": "3767189d-810d-43e3-a35b-1de1567eb070",
   "metadata": {},
   "source": [
    "In today's lecture, we are going to discuss how observables of stars can be converted into physical properties. Specifically, we'll be looking at\n",
    "\n",
    "- Stellar Radii\n",
    "- Stellar Temperatures\n",
    "\n",
    "We'll also discuss what layer of the star we are looking at when we carry out our observations."
   ]
  },
  {
   "cell_type": "markdown",
   "id": "229c8552-e07a-4ab5-ab60-addd3c0b0d02",
   "metadata": {},
   "source": [
    "## Translating Observables into physical parameters"
   ]
  },
  {
   "cell_type": "markdown",
   "id": "58665499-e001-4635-9b6c-7336857c3138",
   "metadata": {},
   "source": [
    "### Radii"
   ]
  },
  {
   "cell_type": "markdown",
   "id": "7d1214f8-72f0-4116-ba04-86c67c137c82",
   "metadata": {},
   "source": [
    "If the angular size ($\\alpha$) of and the distance ($D$) to a star are well known, then the radius ($R$) of the star can easily be estimated using\n",
    "$$\n",
    "    \\frac{R}{D} = \\tan{\\left(\\frac{\\alpha}{2}\\right)} \\approx \\frac{\\alpha}{2}\n",
    "$$\n",
    "However, other than the Sun, there is only one other star whose angular diameter has been resolved using direct imaging - Betelgeuse. The distance to Betelgeuse is 131 pc, and its angular size is $0.125\"$. As such, its radius is\n",
    "$$\n",
    "    R = \\frac{d\\alpha}{2} = 1.2\\times10^9 {\\rm km} = 1800 R_{\\odot}\n",
    "$$\n",
    "From the last lecture, we know that there are stars which are much more intrinsically luminous than the Sun. We now know that there are stars that are significantly larger in radius than the Sun."
   ]
  },
  {
   "cell_type": "markdown",
   "id": "2b3337ce-2bcb-4009-b434-3f5d1a44ad58",
   "metadata": {},
   "source": [
    "### Temperatures"
   ]
  },
  {
   "cell_type": "markdown",
   "id": "464ce3a4-6533-4cb8-ab2b-b4c0edd50fca",
   "metadata": {},
   "source": [
    "Finally, if both the radius and the luminosity of a star are known, then we can estimate what the effective temperature of the star would be if it were radiating like a black body by using\n",
    "$$\n",
    "    T_{\\rm eff} = \\left( \\frac{L}{4 \\pi R^2 \\sigma_{\\rm SB}} \\right)^{1/4}\n",
    "$$\n",
    "which can be compared to that derived using Wien's displacement law (and also avoids the complication of whether your spectrum is per unit wavelength or per unit frequency). Of course, we can then calculate what the colour of the star should be based on this black body temperature. If the observed colours are significantly different to the calculated colours, then it tells us that the star is not radiating like a black-body."
   ]
  },
  {
   "cell_type": "markdown",
   "id": "fdd05da4-88ab-47a8-9b3c-0c984aa8ac12",
   "metadata": {},
   "source": [
    "### Masses"
   ]
  },
  {
   "cell_type": "markdown",
   "id": "01b5b83b-2f49-4cb3-83af-8ededd0640f2",
   "metadata": {},
   "source": [
    "Masses are a bit trickier to do, and is mainly done for binary star systems (as you are doing in your current problem set)."
   ]
  },
  {
   "cell_type": "markdown",
   "id": "1fa1d556-b266-4797-afc7-65ee6322cc80",
   "metadata": {},
   "source": [
    "## The Photosphere\n",
    "We've talked at length about how observational quantites (magnitude, distance, colour) can be translated into physical quantites (masses, radii, temperatures). However, in doing this, we never discussed what part of a star we are actually viewing when we take a spectrum, or take some photometry. It's important to figure this out. The goal of the first part of this lecture is to shed light (pun intended!) on this topic.\n",
    "\n",
    "First, let's define what the photosphere is. Recall from our discussion about pressure broadening that the mean free path between particle collisions is given by\n",
    "$$\n",
    "    l = \\frac{1}{n\\sigma}\n",
    "$$\n",
    "When discussion photons, a similar expression exists, where $\\sigma$ represents the cross sectional area for photons undergoing absorption or scattering. The **optical depth** $\\tau$ is defined as 1 over this value:\n",
    "$$\n",
    "    \\tau = \\sigma \\int_{0}^{x} n(x') dx' = \\sigma n x \\: {\\rm (if \\: n \\: constant)}\n",
    "$$\n",
    "where we have let the number density vary as a function of distance x. This quantity represents how much light is attunated when passing through a medium. For $\\tau \\ll 1$, then the light is not attunated by the medium, and the medium is referred to as optically thin. If $\\tau \\gg 1$, then the medium is optically thick. \n",
    "\n",
    "When applying this to stars, it means that the inner parts of the star are optically thick, meaning we don't see the light coming from these regions. As you progress outwards from the Suns core, eventually either $n$ or $x$ become small enough that the optical depth drops below 1, in which case the medium becomes optically thin. It is from this region that light is emitted, and which we then observe with our telescopes. This region is called the photosphere. Now, let's use this information to understand both how large the photosphere is, and how this decides a stars luminosity class. \n",
    "\n",
    "### Scale Height of the photosphere\n",
    "Imagine we have a spherical star that is in hydrostatic equilibrium, where the inward force of gravity is balanced by the outward force due to the internal pressure of the object. The pressure gradient for such an object is given by\n",
    "$$\n",
    "    \\frac{{\\rm d} P}{{\\rm d} r} = -\\frac{GM(r) \\rho}{r^2}\n",
    "$$\n",
    "where $M(r)$ is the mass enclosed at a distance $r$, and $\\rho$ is the local mass density. If we assume the star behaves like an ideal gas, then we know that\n",
    "$$\n",
    "    P = n k_{\\rm B} T = \\frac{ \\rho k_{\\rm B} T }{\\mu m_{\\rm p}}\n",
    "$$\n",
    "where $\\mu$ is the mean molecular mass of the gas, and depends on the mixture of elements and the degree of ionisation of the gas. First, let's use the standard definitions for elements that astronomers use: we care about hydrogen, helium, and metals (everything heavier than helium). The total mass density can then be written as\n",
    "$$\n",
    "    \\rho = \\rho_{\\rm H} + \\rho_{\\rm He} + \\rho_{\\rm metal}\n",
    "$$\n",
    "Normally, we discuss mass fractions: that is\n",
    "\\begin{align}\n",
    "    X &\\equiv \\frac{\\rho_{\\rm H}}{\\rho}\\\\\n",
    "    Y &\\equiv \\frac{\\rho_{\\rm He}}{\\rho}\\\\\n",
    "    Z &\\equiv \\frac{\\rho_{\\rm metal}}{\\rho} = 1 - X - Y\\\\\n",
    "\\end{align}\n",
    "\n",
    "**Pure Hydrogen**\n",
    "Imagine a gas composed of pure hydrogen. If completely neutral, then the number density of this gas is $n=\\rho/m_p$ (neglecting the electron mass), while the mean molecular mass would be $\\mu = 1$. If the gas is completely ionised, then $n=2\\rho/m_p$, as we have now separated out the electrons from the protons, doubling the number of particles. The mean molcular mass then becomes $\\mu = 1/2$.\n",
    "\n",
    "**Pure Helium**\n",
    "For a pure helium gas which is completely neutrl, then $n=\\rho/(4m_p)$ and $\\mu = 4$. If the gas is completely ionised, we triple the number of particles, as two electrons are freed from each atom, meaning $n=3\\rho/(4m_p)$ and $\\mu = 4/3$.\n",
    "\n",
    "**A gas of metals**\n",
    "For a gas made purely of metals, we will write $A$ as the average number of nucleons per atom. For a neutral gas, The number density is $n=\\rho/(A m_p)$ and the mean molecular mass is $\\mu = A$. If the number of protons and neutrons in each nucleus is roughly equal, then $\\sim A/2$ electrons will be freed when the gas is fully ionised, meaning the number density is $n\\approx\\rho/(2 m_p)$ and the mean molecular mass is $\\mu \\approx 2$, if $A/2 \\gg 1$.\n",
    "\n",
    "**An ionised mixture**\n",
    "So, if we then want to estimate the number density for a fully ionized gas consisting of hydrogen, helium, and metals, then we can use\n",
    "\\begin{align}\n",
    "    n &\\approx X\\left(\\frac{2\\rho}{m_{p}}\\right)+ Y\\left(\\frac{3\\rho}{4m_{p}}\\right) + X\\left(\\frac{\\rho}{2m_{p}}\\right)\\\\\n",
    "    n &\\approx \\left( 2 X + \\frac{3}{4}Y + \\frac{1}{2}Z\\right) \\frac{\\rho}{m_{p}}\n",
    "\\end{align}\n",
    "and the mean molecular weight would be\n",
    "$$\n",
    "    \\mu = \\left( 2 X + \\frac{3}{4}Y + \\frac{1}{2}Z\\right)^{-1}\n",
    "$$\n",
    "For the Sun, where $X=0.734, Y=0.250, Z=0.016$, then \n",
    "$$\n",
    "    \\mu_{\\odot} = 0.60\n",
    "$$\n",
    "\n",
    "**A neutral mixture**\n",
    "As a reference, let's consider what the mean molecular weight would be for a completely neutral gas:\n",
    "$$\n",
    "    \\mu = \\left( X + \\frac{Y}{4} + \\frac{Z}{A}\\right)^{-1}\n",
    "$$\n",
    "which would give\n",
    "$$\n",
    "    \\mu_{\\rm neutral} = 1.25\n",
    "$$\n",
    "where we've neglected the metal contribution, since they account for so little of the Sun's composition. The key take away here is this: the mean molecular weight is of order 1 for the Sun, regardless of how ionized it is.\n",
    "\n",
    "**The Scale Height**\n",
    "\n",
    "So, if a star is in hydrostatic equilibrium, then we have that\n",
    "$$\n",
    "    \\frac{{\\rm d} P}{{\\rm d} r} = -\\frac{GM(r) \\rho}{r^2} = -g\\rho\n",
    "$$\n",
    "Recalling the ideal gas law from earlier, we can rewrite this as\n",
    "$$\n",
    "     \\frac{{\\rm d} P}{{\\rm d} r} = -\\frac{g \\mu m_{p}}{k_{\\rm B} T} P\n",
    "$$\n",
    "If we then assume that, within the photosphere, that $g$, $\\mu$, and $T$ are all constant, then this equation can be integrated to \n",
    "$$\n",
    "    P \\propto \\exp \\left(- \\frac{g \\mu m_{p}}{k_{\\rm B} T} r \\right)  = \\exp \\left(- \\frac{r}{H} \\right)\n",
    "$$\n",
    "where we've now defined the quantity of the scale height $H$ to be \n",
    "$$\n",
    "    H = \\frac{k_{\\rm B} T}{g \\mu m_p}\n",
    "$$\n",
    "Using solar values for all of these ($T=5800$, $\\mu=0.6$, $g=\\frac{G M_{\\odot}}{R_{\\odot}^2} = 274 \\: {m \\: s^{-2}}$), we get that\n",
    "$$\n",
    "    H \\approx 300 \\: {\\rm km}\n",
    "$$\n",
    "This is height over which the photosphere decays, as the pressure tends towards 0. When compared to the radius of the Sun (700,000km), then we find the scale height is a small fraction of this, which means the approximateon of constant $g$, $\\mu$, and $T$ is reasonable."
   ]
  },
  {
   "cell_type": "code",
   "execution_count": null,
   "id": "7729feb6-e50d-4dde-abbc-85e0f3071a5d",
   "metadata": {},
   "outputs": [],
   "source": []
  }
 ],
 "metadata": {
  "kernelspec": {
   "display_name": "Python 3 (ipykernel)",
   "language": "python",
   "name": "python3"
  },
  "language_info": {
   "codemirror_mode": {
    "name": "ipython",
    "version": 3
   },
   "file_extension": ".py",
   "mimetype": "text/x-python",
   "name": "python",
   "nbconvert_exporter": "python",
   "pygments_lexer": "ipython3",
   "version": "3.11.11"
  }
 },
 "nbformat": 4,
 "nbformat_minor": 5
}
