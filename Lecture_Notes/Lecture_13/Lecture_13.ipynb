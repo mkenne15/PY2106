{
 "cells": [
  {
   "cell_type": "markdown",
   "id": "c9ed2f97-bdf1-4840-99a0-e22f3ba53540",
   "metadata": {
    "tags": []
   },
   "source": [
    "# Quirks of planets\n",
    "\n",
    "## Gas Giants\n",
    "All planets produce heat due to the decay of radioactive nuclei, including the terrestrial planets, but the Gas Giants show excess heat on top of this. Ti figure out why Gas Giants show this, and terrestrial planets do not, let's think about the energy that was released by the gravitational collapse of the disc in to the planets, and how long it should take for bodies to dissipate this heat:\n",
    "$$\n",
    "    \\tau _{\\rm cool} = \\frac{\\rm total \\: energy}{\\rm energy \\: loss \\: rate} \\sim \\frac{V}{A} \\sim \\frac{r^3}{r^2} \\sim {r}\n",
    "$$\n",
    "So, the bigger the planets radius, the longer it takes for it dissipate all of the heat due to contraction. This is the Kelvin-Helmoholtz mechanism. Given this, we would expect Jupiter to still be contracting due to the it's formation.\n",
    "First, let's consider the virial theorem again, which states that:\n",
    "$$\n",
    "    <K>=-\\frac{1}{2}<U>\n",
    "$$\n",
    "$$\n",
    "    <E> = \\frac{1}{2}<U> = \\frac{3}{5}\\frac{GM^2}{r}\n",
    "$$\n",
    "Now, let's look at the time derivative of this:\n",
    "$$\n",
    "    \\frac{dE}{dt} = \\frac{1}{2}\\frac{dU}{dt} = \\frac{1}{2}\\frac{dU}{dr}\\frac{dr}{dt}\n",
    "$$\n",
    "$$\n",
    "    \\frac{dE}{dt} = -\\frac{3GM^2}{10r^2}\\frac{dr}{dt}\n",
    "$$\n",
    "Given that $\\frac{dE}{dt}=P$, we can solve for $\\frac{dr}{dt}$:\n",
    "$$\n",
    "    \\frac{dr}{dt} = -\\frac{10r^2P}{3GM^2}\n",
    "$$\n",
    "So if Jupiter's measured power output per unit area is 7.5 W/m$^2$, then we get a change in radius of $1$mm/year, which we are not sensitive to!\n",
    "\n",
    "Jupiter's heat production can be explained in this way - that is, the excess we see matches what we'd expect from this cooling time for an object of Jupiter's radius. However, Saturn's heat production is too high.\n",
    "- The most likely explanation is that the excess heat in Saturn is generated through the action of the virial theorem continus as He sinks slowly through the H$_2$ atmosphere."
   ]
  },
  {
   "cell_type": "code",
   "execution_count": 4,
   "id": "80fe069b-4dbe-4797-9d1b-ea93ffca4ae2",
   "metadata": {},
   "outputs": [
    {
     "data": {
      "text/latex": [
       "$-1.0770317 \\; \\mathrm{\\frac{mm}{yr}}$"
      ],
      "text/plain": [
       "<Quantity -1.07703166 mm / yr>"
      ]
     },
     "execution_count": 4,
     "metadata": {},
     "output_type": "execute_result"
    }
   ],
   "source": [
    "P_A = 7.5*u.W/u.m**2\n",
    "P = P_A*(4*np.pi*c.R_jup**2)\n",
    "drdt = -(10*c.R_jup**2*P)/(3*c.G*c.M_jup**2)\n",
    "drdt.to(u.mm/u.yr)"
   ]
  },
  {
   "cell_type": "markdown",
   "id": "46f1c801-0cb0-462f-b2aa-4ccf32a0cccd",
   "metadata": {},
   "source": [
    "## Looking for exoplanets"
   ]
  },
  {
   "cell_type": "markdown",
   "id": "e6dbf4e7-6119-4812-8878-a3003b8c41a8",
   "metadata": {},
   "source": [
    "In order to fully test any theory of planet formation, we have to rely on finding exoplanets (as observations of the solar system can only tell us about the current state). So let's talk about the issues with finding exoplanets before continuing. To start, imagine we were on a planet orbiting our nearest neighbour, Proxima Centauri (1.3 pc  ($=270,000$ AU)  away), and we wanted to try and detect Jupiter around the Sun. The maximum angular separation between Jupiter and the Sun as seen from Proxima Cen would be\n",
    "$$\n",
    "    \\theta = \\frac{a}{d} = \\frac{5.4}{270000} = 1.9 \\times 10^{-5} {\\rm rad} = 3.9\"\n",
    "$$\n",
    "where that last number is in arcseconds (and where there are 60 arcseconds in an arcminuter, and 60 arcminutes in a degree). This sort of resolution is very achieveable using a small optical telescope (~4 cm in diameter, more to come on this next year!). So why are exoplanets so hard to detect?\n",
    "\n",
    "Let's consider how bright Jupiter is relative to the Sun at optical wavelengths, where the majority of Jupiter's light is due to reflected Sunlight. Jupiter has an albedo of $A=0.51$, a radius of $7.2\\times10^4$ km, meaning the luminosity of Jupiter is\n",
    "$$\n",
    "    L_{\\rm Jup} = \\frac{L_{\\odot}}{4\\pi a^2} \\pi R_{\\rm Jup}^2 A\n",
    "$$\n",
    "Thus, the ratio of this luminosity relative to the Sun's luminosity is simply\n",
    "$$\n",
    "    \\frac{L_{\\rm Jup}}{L_{\\odot}} = \\frac{A}{4} \\left(\\frac{R_{\\rm Jup}} {A}\\right)^2\n",
    "$$"
   ]
  },
  {
   "cell_type": "markdown",
   "id": "707c0146-0491-437c-9e7e-22fcc4437fdf",
   "metadata": {},
   "source": [
    "## Actual comparisons of results\n",
    "\n",
    "WASP-121 b: TESS: https://arxiv.org/pdf/1909.03000.pdf JWST: https://arxiv.org/abs/2301.03209"
   ]
  },
  {
   "cell_type": "code",
   "execution_count": null,
   "id": "a4cbc52e-fa80-4ea7-8a12-085cfac8d497",
   "metadata": {},
   "outputs": [],
   "source": []
  }
 ],
 "metadata": {
  "kernelspec": {
   "display_name": "Python 3 (ipykernel)",
   "language": "python",
   "name": "python3"
  },
  "language_info": {
   "codemirror_mode": {
    "name": "ipython",
    "version": 3
   },
   "file_extension": ".py",
   "mimetype": "text/x-python",
   "name": "python",
   "nbconvert_exporter": "python",
   "pygments_lexer": "ipython3",
   "version": "3.8.10"
  }
 },
 "nbformat": 4,
 "nbformat_minor": 5
}
