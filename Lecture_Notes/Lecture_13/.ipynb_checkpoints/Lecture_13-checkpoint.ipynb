{
 "cells": [
  {
   "cell_type": "code",
   "execution_count": 2,
   "id": "6f017c4c-ab82-4dad-9eec-cda18ba414cb",
   "metadata": {},
   "outputs": [],
   "source": [
    "import numpy as np\n",
    "import astropy.constants as c\n",
    "import astropy.units as u\n",
    "import matplotlib.pyplot as plt"
   ]
  },
  {
   "cell_type": "markdown",
   "id": "c9ed2f97-bdf1-4840-99a0-e22f3ba53540",
   "metadata": {
    "tags": []
   },
   "source": [
    "# Quirks of planets\n",
    "\n",
    "## Gas Giants\n",
    "The Gas Giants are radiating more power than they absorb in terms of sunlight. For example, Jupiter absorbs $P=3.8\\times10^{17}$ W, but at infrared wavelengths, radiates twice this amount of power. So where is this coming from? To figure out why Gas Giants show this, and terrestrial planets do not, let's think about the energy that was released by the gravitational collapse of the disc in to the planets, and how long it should take for bodies to dissipate this heat:\n",
    "$$\n",
    "    \\tau _{\\rm cool} = \\frac{\\rm total \\: energy}{\\rm energy \\: loss \\: rate} \\sim \\frac{V}{A} \\sim \\frac{r^3}{r^2} \\sim {r}\n",
    "$$\n",
    "So, the bigger the planets radius, the longer it takes for it dissipate all of the heat due to contraction. This is the Kelvin-Helmoholtz mechanism. Given this, we would expect Jupiter to still be contracting due to the it's formation.\n",
    "First, let's consider the virial theorem again, which states that:\n",
    "$$\n",
    "    <K>=-\\frac{1}{2}<U>\n",
    "$$\n",
    "$$\n",
    "    <E> = \\frac{1}{2}<U> = \\frac{3}{5}\\frac{GM^2}{r}\n",
    "$$\n",
    "Now, let's look at the time derivative of this:\n",
    "$$\n",
    "    \\frac{dE}{dt} = \\frac{1}{2}\\frac{dU}{dt} = \\frac{1}{2}\\frac{dU}{dr}\\frac{dr}{dt}\n",
    "$$\n",
    "$$\n",
    "    \\frac{dE}{dt} = -\\frac{3GM^2}{10r^2}\\frac{dr}{dt}\n",
    "$$\n",
    "Given that $\\frac{dE}{dt}=P$, we can solve for $\\frac{dr}{dt}$:\n",
    "$$\n",
    "    \\frac{dr}{dt} = -\\frac{10r^2P}{3GM^2}\n",
    "$$\n",
    "So if Jupiter's measured power output per unit area is 7.5 W/m$^2$, then we get a change in radius of $1$mm/year, which we are not sensitive to!\n",
    "\n",
    "Jupiter's heat production can be explained in this way - that is, the excess we see matches what we'd expect from this cooling time for an object of Jupiter's radius. However, Saturn's heat production is too high.\n",
    "- The most likely explanation is that the excess heat in Saturn is generated through the action of the virial theorem continus as He sinks slowly through the H$_2$ atmosphere."
   ]
  },
  {
   "cell_type": "code",
   "execution_count": 2,
   "id": "80fe069b-4dbe-4797-9d1b-ea93ffca4ae2",
   "metadata": {},
   "outputs": [
    {
     "data": {
      "text/latex": [
       "$-1.0770317 \\; \\mathrm{\\frac{mm}{yr}}$"
      ],
      "text/plain": [
       "<Quantity -1.07703166 mm / yr>"
      ]
     },
     "execution_count": 2,
     "metadata": {},
     "output_type": "execute_result"
    }
   ],
   "source": [
    "P_A = 7.5*u.W/u.m**2\n",
    "P = P_A*(4*np.pi*c.R_jup**2)\n",
    "drdt = -(10*c.R_jup**2*P)/(3*c.G*c.M_jup**2)\n",
    "drdt.to(u.mm/u.yr)"
   ]
  },
  {
   "cell_type": "markdown",
   "id": "46f1c801-0cb0-462f-b2aa-4ccf32a0cccd",
   "metadata": {},
   "source": [
    "# Looking for exoplanets\n",
    "## Direct Imaging"
   ]
  },
  {
   "cell_type": "markdown",
   "id": "e6dbf4e7-6119-4812-8878-a3003b8c41a8",
   "metadata": {},
   "source": [
    "In order to fully test any theory of planet formation, we have to rely on finding exoplanets (as observations of the solar system can only tell us about the current state). So let's talk about the issues with finding exoplanets before continuing. To start, imagine we were on a planet orbiting our nearest neighbour, Proxima Centauri (1.3 pc  ($=270,000$ AU)  away), and we wanted to try and detect Jupiter around the Sun. The maximum angular separation between Jupiter and the Sun as seen from Proxima Cen would be\n",
    "$$\n",
    "    \\theta = \\frac{a}{d} = \\frac{5.4}{270000} = 1.9 \\times 10^{-5} {\\rm rad} = 3.9\"\n",
    "$$\n",
    "where that last number is in arcseconds (and where there are 60 arcseconds in an arcminuter, and 60 arcminutes in a degree). This sort of resolution is very achieveable using a small optical telescope (~4 cm in diameter, more to come on this next year!). So why are exoplanets so hard to detect?\n",
    "\n",
    "Let's consider how bright Jupiter is relative to the Sun at optical wavelengths, where the majority of Jupiter's light is due to reflected Sunlight. Jupiter has an albedo of $A=0.51$, a radius of $7.2\\times10^4$ km, meaning the luminosity of Jupiter is\n",
    "$$\n",
    "    L_{\\rm Jup} = \\frac{L_{\\odot}}{4\\pi a^2} \\pi R_{\\rm Jup}^2 A\n",
    "$$\n",
    "Thus, the ratio of this luminosity relative to the Sun's luminosity is simply\n",
    "$$\n",
    "    \\frac{L_{\\rm Jup}}{L_{\\odot}} = \\frac{A}{4} \\left(\\frac{R_{\\rm Jup}} {a}\\right)^2 = 1\\times10^{-10}\n",
    "$$\n",
    "This means that any image of the solar system taken at optical wavelengths from Proxima Cen will have a very, very small amount contribution due to Jupiter, meaning your telescope would need to be incredibly senstive to tease out the signal."
   ]
  },
  {
   "cell_type": "code",
   "execution_count": 8,
   "id": "8257f76d-0f07-4d17-ba4e-0d253f2bee5b",
   "metadata": {},
   "outputs": [
    {
     "name": "stdout",
     "output_type": "stream",
     "text": [
      "9.985889003523573e-10\n"
     ]
    }
   ],
   "source": [
    "A = 0.51\n",
    "R = 1*c.R_jup\n",
    "a = 5.4*u.au\n",
    "L = A/4*(R/a)**2\n",
    "print(L.to(u.dimensionless_unscaled))"
   ]
  },
  {
   "cell_type": "markdown",
   "id": "e92b66be-a8a7-476f-824a-477cfc52ca0b",
   "metadata": {},
   "source": [
    "So, instead, let's consider observing at a different wavelength. Recall from our discussion about blackbody radiation that, when $h\\nu << kT$, the expression for a black-body can be simplified to\n",
    "$$\n",
    "    u(\\omega,T)d\\omega = \\frac{k T \\omega^2 d\\omega}{\\pi^2 c^3}\n",
    "$$\n",
    "Thus, in the Rayliegh-Jeans tail of the black-body spectra, the ratio of the specific flux from Jupiter to the Sun becomes\n",
    "$$\n",
    "    \\frac{F_{\\rm Jup}}{F_{\\odot}} = \\frac{u_{\\nu, \\rm Jup}}{\\pi u_{\\nu, \\odot}} =  \\frac{T_{\\rm Jup}}{T_{\\rm \\odot}}\n",
    "$$\n",
    "Now, converting these fluxes to luminoisites (that is, accounting for the different surface areas of the Sun and Jupiter), gives\n",
    "$$\n",
    "    \\frac{L_{\\rm Jup}}{L_{\\odot}} = \\frac{4 \\pi R_{\\rm Jup}^2 F_{\\rm Jup}}{4 \\pi R_{\\odot}^2 F_{\\odot}} = \\frac{R_{\\rm Jup}^2 T_{\\rm Jup}}{R_{\\odot}^2 T_{\\rm \\odot}} = 3\\times10^{-4}\n",
    "$$\n",
    "So, if shift our observing window out to longer wavelengths, where we believe we are in the Rayliegh-Jeans tail for both the star and the planet, then we need a significantly less sensitive telescope to tease out the signal of the exoplanet. This is one of the reasons that the JWST observes at far infrared wavelengths!"
   ]
  },
  {
   "cell_type": "code",
   "execution_count": 7,
   "id": "bcc6cf02-e494-4f5c-b94f-b8fe40f11e3e",
   "metadata": {},
   "outputs": [
    {
     "name": "stdout",
     "output_type": "stream",
     "text": [
      "0.000305689115422001\n"
     ]
    }
   ],
   "source": [
    "R_1 = 1*c.R_jup\n",
    "R_2 = 1*u.solRad\n",
    "T_1 = 165*u.K\n",
    "T_2 = 5700*u.K\n",
    "L = R_1**2 * T_1 / (R_2**2 * T_2)\n",
    "print(L.to(u.dimensionless_unscaled))"
   ]
  },
  {
   "cell_type": "markdown",
   "id": "602d6a5b-941d-4776-bb55-58f28889ce0a",
   "metadata": {},
   "source": [
    "This technique, of trying to resolve an exoplanet around a star, is called **direct imaging**. As the above example shows, it is tough to do, as you need either a very sensitive instrument at optical wavelengths, or else to build and launch an infrared telescope (which requires significant cooling) to achieve it. Instead of relying on this, astronomers have been using two other techniques to try and find exoplanets."
   ]
  },
  {
   "cell_type": "markdown",
   "id": "f040254f-4b7c-4d76-97ce-3128405bc628",
   "metadata": {},
   "source": [
    "## Radial velocity studies\n",
    "\n",
    "Consider two bodies which are orbiting their centre-of-mass. The distance from each body to the C.O.M. is given by\n",
    "$$\n",
    "    \\frac{a_{2}}{a_{1}} = \\frac{M_{1}}{M_{2}}\n",
    "$$\n",
    "If the orbital period of the binary is $P$, then we also know\n",
    "$$\n",
    "    P = \\frac{2\\pi a_1}{v_1} = \\frac{2\\pi a_2}{v_2}\n",
    "$$\n",
    "which gives\n",
    "$$\n",
    "    \\frac{v_2}{v_1} = \\frac{M_{1}}{M_{2}}\n",
    "$$\n",
    "So, now consider again the Jupiter/Sun system. The velocity of the Sun around the C.O.M is given by\n",
    "$$\n",
    "    v_{\\odot} = \\frac{M_{\\rm Jup}}{M_{\\odot}}v_{\\rm Jup} = \\frac{M_{\\rm Jup}}{M_{\\odot}}\\frac{2\\pi a_{\\rm Jup}}{P} = 12.9 {\\rm m s^{-1}}\n",
    "$$\n",
    "This velocity leads to a Doppler shift in the absorption lines of the star, which is detectable using modern telescopes that can detect velocity variations of $\\sim 1$km s$^{-1}$. However, there is a caveat. Since the Doppler shift measures the radial component of the velocity, the velocity calculated above would only be measured if the observer is in the same plane as the orbit. As such, what we actually measure is $v \\sin(i)$, where i is the inclination of the system ($90^{\\rm o}$ is edge on, $0^{\\rm o}$ is face on)."
   ]
  },
  {
   "cell_type": "code",
   "execution_count": 9,
   "id": "97c9833a-1f24-4634-a8b3-95dc198beee7",
   "metadata": {},
   "outputs": [
    {
     "name": "stdout",
     "output_type": "stream",
     "text": [
      "12.902293546504039 m / s\n"
     ]
    }
   ],
   "source": [
    "M_j = 1*c.M_jup\n",
    "M_s = 1*u.solMass\n",
    "a = 5.4*u.au\n",
    "P = 11.9*u.year\n",
    "v = M_j/M_s * 2*np.pi*a/P\n",
    "print(v.to(u.m/u.s))"
   ]
  },
  {
   "cell_type": "markdown",
   "id": "9325e6d1-a5f9-41f4-bbff-29076cfdec46",
   "metadata": {},
   "source": [
    "### Mass function\n",
    "\n",
    "When studying binary systems (either planet+star or star+star systems), the masses of the components can be found using the following method. First, let's take Kepler's 3rd law:\n",
    "$$\n",
    "    \\frac{a^3}{P^2} = \\frac{G(M_1+M_2)}{4 \\pi^2}\n",
    "$$\n",
    "Replacing $a$ with $a_1 + a_2$ (that is, total separation is the sum of the separations between each body and the C.O.M. of the system, and by letting $q=M_1/M_2=a_2/a_1=v_2/v_1$, we get\n",
    "$$\n",
    "    \\frac{a_1^3(1+q)^3}{P^2} = \\frac{GM_2(q+1)}{4 \\pi^2}\n",
    "$$\n",
    "Now, letting $a_1=P v_1/2\\pi a_1$ (assuming circular orbits), we get\n",
    "$$\n",
    "    \\frac{P v_1^3 (1+q)^2}{a_1^2 8 \\pi^3} = \\frac{GM_2}{4 \\pi^2}\n",
    "$$\n",
    "Solving, we thus get\n",
    "$$\n",
    "    \\frac{M_2}{(1+q)^2} = \\frac{P v_1^3}{2 \\pi G}\n",
    "$$\n",
    "As mentioned previously, we don't actually measure the velocity of stars when we use the Doppler shift - we only measure their project radial velocit, $K_1 = \\sin(i)v_1$. Thus, writing the above in terms of observables, we get\n",
    "$$\n",
    "    \\frac{M_2 \\sin^3(i)}{(1+q)^2} = \\frac{P K_1^3}{2 \\pi G}\n",
    "$$\n",
    "This equation allows us to measure the mass of the second component of a binary, and thus also the primary mass, if we have an estimate for the mass ratio and the binary inclination."
   ]
  },
  {
   "cell_type": "markdown",
   "id": "53945e21-575e-4890-8938-a5800e6f3fd4",
   "metadata": {},
   "source": [
    "## Transit method\n",
    "\n",
    "Again, consider two bodies which are oribting their centre-of-mass. If the orbital plane lies close to the observers line of sight, then at some stage, the planet will start to pass in directly between the observer and the star. If the cross section of the planet is $\\pi R_2^2$, and the cross section of the star is $\\pi R_1^2$, then the change in flux to the planet blocking part of the star is\n",
    "$$\n",
    "    \\frac{\\delta F}{F} = \\left(\\frac{R_2}{R_1}\\right)^2\n",
    "$$\n",
    "For Jupiter and the Sun, this leads to a maximum decrease in the flux observed from the Sun of\n",
    "$$\n",
    "    \\frac{\\delta F}{F} = 0.01\n",
    "$$"
   ]
  },
  {
   "cell_type": "markdown",
   "id": "707c0146-0491-437c-9e7e-22fcc4437fdf",
   "metadata": {},
   "source": [
    "## Actual comparisons of results\n",
    "\n",
    "WASP-121 b: TESS: https://arxiv.org/pdf/1909.03000.pdf JWST: https://arxiv.org/abs/2301.03209"
   ]
  },
  {
   "cell_type": "code",
   "execution_count": null,
   "id": "a4cbc52e-fa80-4ea7-8a12-085cfac8d497",
   "metadata": {},
   "outputs": [],
   "source": []
  }
 ],
 "metadata": {
  "kernelspec": {
   "display_name": "Python 3 (ipykernel)",
   "language": "python",
   "name": "python3"
  },
  "language_info": {
   "codemirror_mode": {
    "name": "ipython",
    "version": 3
   },
   "file_extension": ".py",
   "mimetype": "text/x-python",
   "name": "python",
   "nbconvert_exporter": "python",
   "pygments_lexer": "ipython3",
   "version": "3.8.10"
  }
 },
 "nbformat": 4,
 "nbformat_minor": 5
}
