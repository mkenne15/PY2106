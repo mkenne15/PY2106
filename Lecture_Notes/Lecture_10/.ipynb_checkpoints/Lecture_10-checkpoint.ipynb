{
 "cells": [
  {
   "cell_type": "markdown",
   "id": "c1f90efe-fcee-43cf-a337-c55e276154c3",
   "metadata": {
    "tags": []
   },
   "source": [
    "# Interaction of radiation and matter - Black-body radiation"
   ]
  },
  {
   "cell_type": "markdown",
   "id": "e1f045fc-986b-4402-8ce0-b068895e5b97",
   "metadata": {
    "tags": []
   },
   "source": [
    "In this lecture, we are going to discuss\n",
    "\n",
    "* Energy density versus specific intensity\n",
    "* Examples of black body radiation\n",
    "* Radiation pressure\n",
    "    * Isotropic radiation\n",
    "    * Directed radiation"
   ]
  },
  {
   "cell_type": "markdown",
   "id": "8bec373a-01c2-446f-8af5-30ca2cb5446d",
   "metadata": {},
   "source": [
    "## Black body radiation\n",
    "### Energy density versus specific intensity"
   ]
  },
  {
   "cell_type": "markdown",
   "id": "c23418f6-4815-4a68-87e7-3d52a05270b5",
   "metadata": {},
   "source": [
    "Often in text books, blackbody radiation will be discussed in terms of the mean intensity $J_{\\nu}$ and the specific intensity $I_{\\nu}$, where\n",
    "$$\n",
    "    J_{\\nu} = \\frac{1}{4 \\pi} \\int I_{\\nu} {\\rm d} \\Omega.\n",
    "$$\n",
    "where $\\Omega$ is the solid angle through which the intensity is emitted. Thus for isotropic radiation, $J_{\\nu}=I_{\\nu}$.In the above discussion (and in the derivation in the supplemental content), we focused on $u(\\omega,T)$, which is the energy density. It can be shown that this is related to the intensity of light by\n",
    "$$\n",
    "    J_{\\nu} = \\frac{c}{4\\pi} u_\\nu\n",
    "$$\n",
    "And so, for isotropically emitted radiation,\n",
    "$$\n",
    "    I_{\\nu} = \\frac{c}{4\\pi}  u_\\nu.\n",
    "$$\n",
    "It is important to remember this distinction whenever talking about black-body radiation."
   ]
  },
  {
   "cell_type": "markdown",
   "id": "84f0c0e0-7ea9-40ac-b930-8154921b314e",
   "metadata": {},
   "source": [
    "Now, let's talk about a few examples of where we see black body radiation in the Universe.\n",
    "\n",
    "### The Cosmic Microwave Background\n",
    "- Shortly after the Big Bang, the Universe was opaque to electromagnetic radiation due to Thomson scattering of photons off free electrons.\n",
    "- Eventually, the Universe sufficiently to allow electrons and protons to recombine into Hydrogren atoms. At this time, the temperature of the background photons was 4,000 K.\n",
    "- Since then, this radiation has been frozen out of interaction with matter, and has redshifted by a factor of ~1,100 due to the expansion of the Universe.\n",
    "\n",
    "The spectrum of the CMB is shown below, and matches perfectly with a black body of temperature 2.725 K, peaking near a wavelength of 2 mm. There is an oustanding agreement between the data and model.\n",
    "\n",
    "![Cavity](Figures/CMB_spectrum.png)\n",
    "\n",
    "### The Sun\n",
    "The Sun has a surface temperature of 5,770 K, and a radius of $7\\times10^8$m. The total power emitted by the Sun is\n",
    "$$\n",
    "    L_{\\odot} = \\epsilon \\sigma A T^4_\\odot=4\\pi R_\\odot^2 \\sigma T^4_\\odot\n",
    "$$\n",
    "$$\n",
    "    L_{\\odot} = 3.9 \\times 10^{24} \\: {\\rm J/s}\n",
    "$$\n",
    "So this tells us that, if you have a measurement of the Luminosity of a star, and you can tell where it's spectrum peaks, then you can determine both the temperature and radius of the star, which is very useful for figuring out the current evolutionary status of a star."
   ]
  },
  {
   "cell_type": "markdown",
   "id": "30f736a8-441a-46b7-b0bb-4b651e796b49",
   "metadata": {},
   "source": [
    "### An example of black body spectra generated using AstroPy"
   ]
  },
  {
   "cell_type": "code",
   "execution_count": 8,
   "id": "fe5ee5ee-d3ec-41eb-8772-9503763097ec",
   "metadata": {},
   "outputs": [
    {
     "data": {
      "image/png": "[encoded data removed]",
      "text/plain": [
       "<Figure size 432x288 with 1 Axes>"
      ]
     },
     "metadata": {
      "needs_background": "light"
     },
     "output_type": "display_data"
    }
   ],
   "source": [
    "import numpy as np\n",
    "import matplotlib.pyplot as plt\n",
    "\n",
    "from astropy.modeling.models import BlackBody\n",
    "from astropy import units as u\n",
    "from astropy import constants as c\n",
    "from astropy.visualization import quantity_support\n",
    "\n",
    "bb1 = BlackBody(temperature=4000*u.K)\n",
    "bb2 = BlackBody(temperature=5000*u.K)\n",
    "bb3 = BlackBody(temperature=6000*u.K)\n",
    "wav = np.arange(1000, 500000) * u.AA\n",
    "freq = c.c/wav\n",
    "flux1 = bb1(wav)\n",
    "flux2 = bb2(wav)\n",
    "flux3 = bb3(wav)\n",
    "\n",
    "with quantity_support():\n",
    "    plt.figure()\n",
    "    plt.plot(freq.to(u.Hz), flux1,label='T=4000K')\n",
    "    plt.plot(freq.to(u.Hz), flux2,'--',label='T=5000K')\n",
    "    plt.plot(freq.to(u.Hz), flux3,'-.',label='T=6000K')\n",
    "    plt.xscale(\"log\")\n",
    "    plt.yscale(\"log\")\n",
    "    plt.legend()\n",
    "    plt.show()"
   ]
  },
  {
   "cell_type": "markdown",
   "id": "c21bdb31-47bd-406f-b32f-7a162818e3aa",
   "metadata": {},
   "source": [
    "## Radiation Pressure"
   ]
  },
  {
   "cell_type": "markdown",
   "id": "534d34bd-0b1c-4dc8-b01c-c1460bb42911",
   "metadata": {},
   "source": [
    "So now we are going to look at a concept which leans on the same analysis and tricks as used when dealing with black body spectra. In our analysis, we found that the energy hitting the wall of a container filled with black body radiation, coming from a volume dV, was\n",
    "$$\n",
    "     dE_{\\rm abs} = u(T) r^2 \\sin \\theta dr d\\theta d\\phi \\frac{\\Delta A \\cos(\\theta)}{4 \\pi r^2}\n",
    "$$\n",
    "$$\n",
    "     dE_{\\rm abs} = u(T) \\frac{\\Delta A }{4 \\pi} \\cos \\theta \\sin \\theta dr d\\theta d\\phi \n",
    "$$\n",
    "\n",
    "### Isotropic Radiation\n",
    "Now, suppose the photons are reflected from the wall, as in the below figure.\n",
    "\n",
    "![Cavity](Figures/Photon_Momentum.png)\n",
    "\n",
    "The change in momentum perpendicular to the wall for photons incident at a angle $\\theta$ is\n",
    "$$\n",
    "    dp_\\perp = \\frac{dE}{c} \\cos \\theta - (-\\frac{dE}{c} \\cos \\theta )\n",
    "$$\n",
    "$$\n",
    "    dp_\\perp = \\frac{2 dE}{c} \\cos \\theta\n",
    "$$\n",
    "$$\n",
    "    dp_\\perp = \\frac{u(T) \\Delta A}{2 \\pi c} \\cos^2 \\theta \\sin \\theta dr d\\theta d\\phi \n",
    "$$\n",
    "If we want the total change from all photons, then we need to integrate over the hemisphere (as done in the previous lecture)\n",
    "$$\n",
    "    \\Delta p_\\perp = \\frac{u(T) \\Delta A}{2 \\pi c} \\int_0^{c \\Delta t} dr \\int_0^{\\pi/2} \\cos^2 \\theta \\sin \\theta d\\theta \\int_0^{2\\pi} d \\phi\n",
    "$$\n",
    "The integral over $\\theta$ becomes $-\\frac{1}{3}cos^3 \\theta$, which when evaluated at the limits gives $\\frac{1}{3}$. So the total expression becomes\n",
    "$$\n",
    "    \\Delta p_\\perp = \\frac{1}{3} u \\Delta A \\Delta t\n",
    "$$\n",
    "$$\n",
    "   \\frac{\\Delta p_\\perp / \\Delta t}{\\Delta A} = \\frac{F_\\perp}{\\Delta A} = P_{\\rm rad} = \\frac{1}{3} u\n",
    "$$\n",
    "This is the pressure exerted due to isotropic radiation.\n",
    "### Directed Radiation\n",
    "If the radiation is not isotropic, but is directed, things need a bit of rearranging.\n",
    "\n",
    "![Cavity](Figures/Photon_Momentum_directed.png)\n",
    "\n",
    "The energy contained within the volume of photons that will hit $\\Delta A$ in $\\Delta t$ is:\n",
    "$$\n",
    "    E = u \\Delta A \\; c \\; \\Delta t = I \\Delta A \\Delta t\n",
    "$$\n",
    "where $I = u c$ is the intensity.\n",
    "$$\n",
    "    \\Delta p_\\perp = \\frac{E}{c}-(-\\frac{E}{c})=\\frac{2E}{c}=\\frac{2}{c}u \\Delta A \\; c \\; \\Delta t\n",
    "$$\n",
    "$$\n",
    "    \\Delta p_\\perp = 2u \\Delta A \\; \\Delta t\n",
    "$$\n",
    "$$\n",
    "   \\frac{\\Delta p_\\perp / \\Delta t}{\\Delta A} = \\frac{F_\\perp}{\\Delta A} = P_{\\rm rad} = 2u = 2\\frac{I}{c}\n",
    "$$\n",
    "\n",
    "If the directed radiation is not reflected, but instead absorbed, then we get that\n",
    "$$\n",
    "    \\Delta p_\\perp = 0-(-\\frac{E}{c})=\\frac{E}{c} \\: , P_{\\rm rad} = u = \\frac{I}{c}\n",
    "$$\n",
    "\n",
    "### Example\n",
    "A comet releases dust, which is pushed radially away from the Sun by the Sun's radiation pressure. Dust particles have a radius  $R$ and a density of $\\rho = 3.5\\times 10^3$ kg m$^{-3}$. These dust particles fully absorb sunlight hitting them.\n",
    "For what $R$ does the graviational force due to the Sun balance the outward force due to radiation pressure?\n",
    "We're going to first treat the Sun as a point source of radiation. We are also going to say that $F_{\\rm rad}$ is outwards and $F_{\\rm grav}$ is inwards.\n",
    "$$\n",
    "    F_{\\rm rad} = P_{\\rm rad} A=\\frac{I}{c} \\pi R^2\n",
    "$$\n",
    "$$\n",
    "    F_{\\rm rad} = \\frac{1}{c}\\frac{L_{\\odot}}{4 \\pi d^2} \\pi R^2\n",
    "$$\n",
    "$$\n",
    "    F_{\\rm rad} = \\frac{1}{c}\\frac{\\sigma 4 \\pi R_{\\odot}^2 T_{\\odot}^4}{4 \\pi d^2} \\pi R^2\n",
    "$$\n",
    "$$\n",
    "    F_{\\rm rad} = \\frac{1}{c}\\frac{\\sigma  R_{\\odot}^2 T_{\\odot}^4}{ d^2} \\pi R^2\n",
    "$$\n",
    "The graviational force is easier to compute:\n",
    "$$\n",
    "    F_{\\rm grav} = \\frac{GM_{\\odot}\\rho \\frac{4}{3}\\pi R^3}{d^2}\n",
    "$$\n",
    "So now if we balance these forces, we get\n",
    "$$\n",
    "    F_{\\rm rad} = F_{\\rm grav}\n",
    "$$\n",
    "$$\n",
    "    \\frac{1}{c}\\frac{\\sigma  R_{\\odot}^2 T_{\\odot}^4}{ d^2} \\pi R^2 = \\frac{GM_{\\odot}\\rho \\frac{4}{3}\\pi R^3}{d^2}\n",
    "$$\n",
    "$$\n",
    "    R = \\frac{3}{4} \\frac{\\sigma R_{\\odot}^2 T_{\\odot}^4}{c G \\rho M_{\\odot}}=5800 {\\rm A} \\left( \\frac{1000 {\\rm kg m^{-3}}}{\\rho} \\right)  = 0.166 {\\rm \\mu m}\n",
    "$$\n",
    "Dust particles with this radius feel no net force - which means they feel no acceleration. As such, they travel in a straight line at constant velocity. Particles with a radius bigger than this have $F_{\\rm grav}>F_{\\rm rad}$, and so curve towards the Sun, while paricle with $R$ less than this value $F_{\\rm grav}<F_{\\rm rad}$, meaning the path curves away from the Sun.\n",
    "\n",
    "The collection of all of these paths forms the dust tail of a comet, see the course attachement for a diagram of this effect."
   ]
  },
  {
   "cell_type": "code",
   "execution_count": null,
   "id": "d366db02-2501-4dd4-8ba7-13ef02072be0",
   "metadata": {},
   "outputs": [],
   "source": []
  }
 ],
 "metadata": {
  "kernelspec": {
   "display_name": "Python 3 (ipykernel)",
   "language": "python",
   "name": "python3"
  },
  "language_info": {
   "codemirror_mode": {
    "name": "ipython",
    "version": 3
   },
   "file_extension": ".py",
   "mimetype": "text/x-python",
   "name": "python",
   "nbconvert_exporter": "python",
   "pygments_lexer": "ipython3",
   "version": "3.8.10"
  }
 },
 "nbformat": 4,
 "nbformat_minor": 5
}
