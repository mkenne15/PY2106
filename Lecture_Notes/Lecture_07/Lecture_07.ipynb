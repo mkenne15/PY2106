{
 "cells": [
  {
   "cell_type": "markdown",
   "id": "ecf72861-9454-4e85-8590-87c7e38512e0",
   "metadata": {
    "tags": []
   },
   "source": [
    "# Interaction of radiation and matter - Emission/Absorption Lines"
   ]
  },
  {
   "cell_type": "markdown",
   "id": "f91e5556-61fe-4d4e-9339-66524a34ec1b",
   "metadata": {},
   "source": [
    "The next section of the course is going to focus on the light which comes from objects within the Universe, such that we can better understand the data we see in our telescopes. To do this, we need to rely on some results from both quantum mechanics and thermodynamics, which I'll highlight as we need them.\n",
    "\n",
    "In this lecture, we are going to discuss\n",
    "\n",
    "* Emission and absorption of photons\n",
    "* Natural Line Broadening\n",
    "* Doppler Effect (recap)\n",
    "\n",
    "## Emission and absorption of photons\n",
    "One of the key results of quantum mechanics is that photons are quantised particles. The effect of this on atoms, ions, and molecules is very important. Consider a 2 level atom as shown below, where the difference between the energy levels is $\\Delta E=h \\nu = \\hbar \\omega$. If the frequency ($\\nu$) of an incoming photon is such that the energy of the photon is equal to this energy difference, then an electron in the lower level $E_i$ can absorb that photon and be excited into the higher energy level $E_j$, meaning the photon is absorbed.\n",
    "\n",
    "![Atoms](Figures/Energy_levels.png)\n",
    "\n",
    "Alternatively, an electron which is already in the excited state $E_j$ can spontaneously drop down to the lower state $E_i$, emitting a photon in the process.\n",
    "\n",
    "## Natural Line Broadening\n",
    "Following Heisenberg's uncertainty principle, there is a relation between the uncertainty in the  energy of an excited ($\\Delta E$) and how long the electron remains in that excited state $\\Delta t$:\n",
    "$$\n",
    "    \\Delta E \\Delta t \\geq \\hbar\n",
    "$$\n",
    "The uncertainty in the energy level can also be expressed as an error in the frequency through\n",
    "$$\n",
    "    \\Delta E_i = (\\delta \\omega_i) \\hbar\n",
    "$$\n",
    "while the uncertainty in the time spent in each level can be written as the state's expected lifetime, $\\tau$:\n",
    "$$\n",
    "    \\Delta t_j = \\tau_j\n",
    "$$\n",
    "Thus, we get that\n",
    "\\begin{align}\n",
    "    \\Delta E_i &\\geq \\frac{\\hbar}{\\Delta t_i}\\\\\n",
    "    (\\delta \\omega_i) \\hbar &\\geq \\frac{\\hbar}{\\tau}\\\\\n",
    "    (\\delta \\nu_i) &\\geq \\frac{1}{2\\pi \\tau}\n",
    "\\end{align}\n",
    "Now, the uncertainty in the error between both levels is simply the sum of the uncertainties in each level, giving\n",
    "\\begin{align}\n",
    "    \\Delta E  &= \\Delta E_i + \\Delta E_j\\\\\n",
    "    \\delta \\nu_i & = \\delta \\nu_i + \\delta \\nu_j\\\\\n",
    "    \\delta \\nu  & \\geq  \\frac{1}{2\\pi}\\left(\\frac{1}{\\tau_i}+\\frac{1}{\\tau_j}\\right) = \\gamma\n",
    "\\end{align}\n",
    "\n",
    "So this means that the width of an emission/absorption feature is related to the life time of the states. This leads to a natural broadening of the feature, with the shape of the feature given by a Lorentzian distribution\n",
    "$$\n",
    "    I(\\nu) = I_0 g(\\nu) = I_0 \\frac{1}{\\pi} \\frac{\\gamma/2}{(\\nu-\\nu_0)^2+(\\gamma/2)^2}\n",
    "$$\n",
    "As an example, consider the Lyman $\\alpha$ transition for Hydrogen (this is the 2-1 energy transition, which occurs at a frequency of $2.47\\times 10^{15}$ Hz). The lifetime of the excited state is $\\sim 10^{-8}$s, and so $\\gamma \\sim 10^8$. The profile for this transition is given below."
   ]
  },
  {
   "cell_type": "code",
   "execution_count": 1,
   "id": "7c2fc98e-511e-49d6-b12c-cf99484107c1",
   "metadata": {},
   "outputs": [
    {
     "data": {
      "image/png": "[encoded data removed]",
      "text/plain": [
       "<Figure size 600x450 with 1 Axes>"
      ]
     },
     "metadata": {
      "needs_background": "light"
     },
     "output_type": "display_data"
    }
   ],
   "source": [
    "import numpy as np\n",
    "import matplotlib.pyplot as plt\n",
    "\n",
    "nu_0 = 2.47e15\n",
    "gamma=1e8\n",
    "d_nu = np.arange(-5e8,5e8,1e6)\n",
    "I_0 = 1\n",
    "\n",
    "I = I_0 * gamma/(2*(np.pi*(d_nu**2 + (gamma/2)**2)))\n",
    "\n",
    "plt.figure(figsize=[4,3],dpi=150)\n",
    "plt.plot(d_nu/nu_0,I)\n",
    "plt.xlabel(r\"$\\frac{\\delta \\nu}{\\nu_0}$\")\n",
    "plt.ylabel(r\"$I$\")\n",
    "plt.savefig(\"Figures/Lorentzian_Dist.png\")\n",
    "plt.show()"
   ]
  },
  {
   "cell_type": "markdown",
   "id": "b293daeb-b374-4210-85c4-1ef7ef04ed65",
   "metadata": {},
   "source": [
    "The above plot shows that $\\frac{\\delta \\nu}{\\nu_0} \\sim 20e-8$ for such transitions - that is, the line is only broadended by about one part in a billion, meaning this effect is really difficult to detect, and other effects which we will now discuss actually dominate this transition.\n",
    "\n",
    "## Doppler broadening\n",
    "\n",
    "In order to understand the next effect, it's necessary to recall the Doppler effect. If we have a source travelling at a velocity of $v$ that is emitting photons with a wavelength of $\\lambda_0$ with a velocity of $c$, then the observed wavelength of the photons to an observer a rest is given by\n",
    "$$\n",
    "    \\lambda = \\lambda_0 \\left(1 + \\frac{v_s}{c}\\right).\n",
    "$$\n",
    "There are thus two important definitions for the doppler effect:\n",
    "\n",
    "1. For a source moving away from us, $v_s$ is positive, which means $\\lambda$ increases relative to $\\lambda_0$ (redshift).\n",
    "2. For a source towards us, $v_s$ is negative, which means $\\lambda$ decreases relative to $\\lambda_0$ (blueshift).\n",
    "\n",
    "In the frequency regime, the above equation becomes (via $\\nu = \\frac{c}{\\lambda})$\n",
    "$$\n",
    "    \\nu = \\frac{\\nu_0} { \\left(1 + \\frac{v_s}{c}\\right) }.\n",
    "$$\n",
    "Finally, it's important to remember that it is only the velocity component along the line of sight which produces a Doppler shift. So if an object is travelling with a velocity $\\textbf{v}$ that can be broken into spherical components $v_r, v_\\theta, v_\\phi$, then it is only the radial compoent which gives rise to a Doppler shift."
   ]
  },
  {
   "cell_type": "code",
   "execution_count": null,
   "id": "8e1de364-2286-4359-b363-fb99d69409f9",
   "metadata": {},
   "outputs": [],
   "source": []
  }
 ],
 "metadata": {
  "kernelspec": {
   "display_name": "Python 3 (ipykernel)",
   "language": "python",
   "name": "python3"
  },
  "language_info": {
   "codemirror_mode": {
    "name": "ipython",
    "version": 3
   },
   "file_extension": ".py",
   "mimetype": "text/x-python",
   "name": "python",
   "nbconvert_exporter": "python",
   "pygments_lexer": "ipython3",
   "version": "3.11.11"
  }
 },
 "nbformat": 4,
 "nbformat_minor": 5
}
