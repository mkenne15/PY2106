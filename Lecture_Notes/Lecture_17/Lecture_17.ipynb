{
 "cells": [
  {
   "cell_type": "markdown",
   "id": "47713a68-aae4-4349-9a3f-400e20d7439a",
   "metadata": {},
   "source": [
    "# Galaxies"
   ]
  },
  {
   "cell_type": "markdown",
   "id": "af735527-5ac4-4d77-b1b0-47c23326ea68",
   "metadata": {},
   "source": [
    "In this lecture, we're going to talk about the Milky Way, and how we know some of its properties (specifically, how many stars are contained within it, and where the galactic centre lies)."
   ]
  },
  {
   "cell_type": "markdown",
   "id": "7853347c-cf55-45cc-8ef2-6f5494306d09",
   "metadata": {},
   "source": [
    "## Star counting"
   ]
  },
  {
   "cell_type": "markdown",
   "id": "ed613943-49a9-4dfc-9388-20a0c9e04581",
   "metadata": {},
   "source": [
    "The first attempts to construct a map of our Galaxy relied on star counting. This relies on the following assumptions\n",
    "\n",
    "- All stars have the same absolute magnitude. We know this isn't true, but if we restrict ourselves to main sequence stars of a given spectral type, then it's not a bad assumption.\n",
    "- The number density of stars is constant within our galaxy.\n",
    "- Interstellar dust does not absorb any light.\n",
    "\n",
    "A star of absolute magnitude $M$ will have an apparanet magnitude of $m$ when located at a distance of\n",
    "$$\n",
    "    d = 10^{0.2(m-M+5)} \\: {\\rm pc}\n",
    "$$\n",
    "Thus, if the Galaxy were infintitely large, we would expect to see stars with an apparent magnitude of $m$ out to an infinite distance, assuming our telescope stared at any given spot on the night sky for long enough. However, if there are no stars beyond some distance, say $d_{\\rm max}$, then there will be no stars fainter than\n",
    "$$\n",
    "    m_{\\rm max} = M+5 \\log (d_{\\rm max}) - 5\n",
    "$$\n",
    "So, if we see (for example) that the maximum apparent magnitude of a G2V star (whose absolute magnitude we know) is some $m$, then we can calulate the maximum distance of the Galaxy in that direction. This counting of stars is a tedious, but necessary job. Early work on this field was done by Caroline and William Herschel, who did the job of counting stars in different directions from Earth, and concluded that Earth is at the centre of a small Galaxy (the exact map they constructed is given below). However, their technique for estimating the shape of the galaxy from counting stars has a fundamental flaw - they did not account for dust within the Milky Way! Specifically, that spur into the map going from right to left in the below picture is not because there are no stars in this direction - rather there is a lot of dust absorbing all the starlight coming from this direction (turns out this is directly towards the Galactic centre).\n",
    "\n",
    "![HR_diagrams](Figures/Herschel-Galaxy.png)"
   ]
  },
  {
   "cell_type": "markdown",
   "id": "65bfc934-43b7-4cde-9076-02e591006247",
   "metadata": {},
   "source": [
    "## Within the Milky Way"
   ]
  },
  {
   "cell_type": "markdown",
   "id": "44093851-1cea-4c0c-8b1b-8649a786e253",
   "metadata": {},
   "source": [
    "Up until now, we've been discussing the temperatures and radii of individual stars, which included a brief discussion of a H-R diagram. Now, we are going to consider clusters of stars, and what their observational properties can tell us about their age.\n",
    "\n",
    "Within the Milky Way, we observe two different types of star clusters: globular clusters, and open clusters. These clusters represent  population of stars which have all formed at the same time, and whose absolute magnitudes are easy to compute (as the size of the cluster is very small relative to the distance from Earth, meaning we can approximate all the stars in the cluster at being the same distance away from us).\n",
    "\n",
    "The below diagrams show the H-R diagrams for one example of each of these, taken from https://www.aanda.org/articles/aa/full_html/2018/08/aa32843-18/aa32843-18.html.\n",
    "\n",
    "![HR_diagrams](Figures/Globular_Cluster.png)\n",
    "![HR_diagrams](Figures/Open_Cluster.png)\n",
    "\n",
    "First, globular clusters (top) contain very few hot stars on the main sequence. This tells us that these regions are very old, as they have been around long enough for all of their stars to evolve off of the main sequence (recall the timescale for stellar evolution equation from the last lecture). In contrast, open clusters tend to be dominated by stars on the main sequence. This means they must be very young, as they still contain hot stars (which have very short life times). \n",
    "\n",
    "The existence of globular clusters allowed Harlow Shapley to come up with a much better model of the Milky Way. First, he noted that all of the observable globular clusters lie in the direction opposite of the constellation Sagittarius. He thus concluded that globular clusters are all orbiting the centre of the Galaxy, which lies in Sagittarius."
   ]
  },
  {
   "cell_type": "markdown",
   "id": "d09b3f54-6a39-4b12-9328-ee22ba933504",
   "metadata": {},
   "source": [
    "## The Milky Way"
   ]
  },
  {
   "cell_type": "markdown",
   "id": "33b6b026-a6cd-43d3-af35-ed90a8cce428",
   "metadata": {},
   "source": [
    "So, armed with this knowledge, what have astronomers deduced regarding the strucutre of the Milky Way? First, it is split into three components: the disc (subdivided into the thin and the thick disc), the bulge, and the halo.\n",
    "\n",
    "### The Bulge\n",
    "The bulge is an approximately spherical region around the galacitc centre with a radius of $R=1$ kpc. It has a mixture of both young and old stars.\n",
    "\n",
    "### The Halo\n",
    "A halo of matter surrounding the Milky Way, with a radius of approximately 100 kpc. It mainly has old stars, and all globular clusters reside within the Halo.\n",
    "\n",
    "The total luminosity of $23\\times10^9$ L$_{\\odot}$, which equates to 23 billions stars if we assume every star is like the Sun (in reality, there are lots more K dwarfs than O stars, so actual number is closer to 200 billion).\n",
    "\n",
    "### The Disc\n",
    "The disc is subdivided into two populations:\n",
    "\n",
    "- The Thin disk: young stars, rich in metals (population I stars, that is young, recently formed). The density of stars as we move upwards through the thin disc falls of as $n(z) = n_{\\rm thin} \\exp (\\frac{-z}{h_{\\rm thin}})$, with a scale height of $h_{\\rm thin}=0.3$ kpc.\n",
    "- The Thick disk: old stars, poorer in metals (population I-population II, older). The density of stars as we move upwards through the thick disc falls of as $n(z) = n_{\\rm thick} \\exp( \\frac{-z}{h_{\\rm thick}})$ with a scale height of $h_{\\rm thick}=1.0$ kpc.\n",
    "\n",
    "Let's briefly consider what the orbits of stars within the disc can tell us about our Universe. Let's start with the following assumed knowledge: the Sun's orbital velocity around the Galactic centre (GC) is $220$ km s$^{-1}$, while the GC lies 8 kpc away from the Sun. Assuming a circular orbit, this implies an orbital period of\n",
    "$$\n",
    "    P_{\\odot} = \\frac{2 \\pi R}{v} = 0.22 \\; {\\rm Gyr}\n",
    "$$\n",
    "Using Kepler's 3rd Law, we can then estimate the amount of mass within the Sun's orbit ($M_{\\rm G}$) (assuming the mass is distributed with spherical symmetry about the GC), giving\n",
    "$$\n",
    "    \\frac{P^2}{a^3} = \\frac{4 \\pi^2}{G(M_{\\rm G} + M_{\\odot})}.\n",
    "$$\n",
    "A simpler version of this law exists:\n",
    "$$\n",
    "    \\frac{P^2}{a^3} = \\frac{1}{(M_{\\rm G} + M_{\\odot})}.\n",
    "$$\n",
    "which is true when $P$ is in years, $a$ is in AU, and $M$ is in solar masses. This gives $M_{\\rm G} = 9.3 \\times 10^{10}$ M$_{\\odot}$. This is very, very large when compared with the known luminosity of the Milky Way of $2.3 \\times 10^{10}$ L$_{\\odot}$ - it suggests there much more mass than what is contributin to the optical light of the Galaxy.\n",
    "\n",
    "Let's build on this further. If we balance the centripetal force and gravitational force felt by a star at a distance $R$ from the GC Milky Way, we get\n",
    "$$\n",
    "    \\frac{v(R)^2}{R} = \\frac{G M(R)}{R}.\n",
    "$$\n",
    "This implies that the mass enclosed within an orbit can be estimated using\n",
    "$$\n",
    "    M(R) = \\frac{v(R)^2R}{G}.\n",
    "$$\n",
    "Within the disc, the brightness falls off exponentially with a length scale of $R_s = 3$ kpc. This implies that, when outside a radius of 3 kpc, we should expect the matter enclosed within an expanding sphere to stay approximately constant, if all of the matter in the Milky Way is contributing to the brightness of the disc. This then implies that the velocity of stars should go as\n",
    "$$\n",
    "    v(R) \\propto \\frac{1}{\\sqrt{R}}.\n",
    "$$\n",
    "That is, the further out into the disc we go, the slower stars should be moving in their orbits. We'll pick up here in the next lecture."
   ]
  },
  {
   "cell_type": "code",
   "execution_count": null,
   "id": "f4530ec4-e834-4f2a-b8e8-4e2d809f2d3d",
   "metadata": {},
   "outputs": [],
   "source": []
  }
 ],
 "metadata": {
  "kernelspec": {
   "display_name": "Python 3 (ipykernel)",
   "language": "python",
   "name": "python3"
  },
  "language_info": {
   "codemirror_mode": {
    "name": "ipython",
    "version": 3
   },
   "file_extension": ".py",
   "mimetype": "text/x-python",
   "name": "python",
   "nbconvert_exporter": "python",
   "pygments_lexer": "ipython3",
   "version": "3.8.10"
  }
 },
 "nbformat": 4,
 "nbformat_minor": 5
}
