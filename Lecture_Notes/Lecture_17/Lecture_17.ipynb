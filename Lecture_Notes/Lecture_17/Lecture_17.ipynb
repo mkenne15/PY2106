{
 "cells": [
  {
   "cell_type": "markdown",
   "id": "2c5af1bf-e0ff-47f5-9c83-dc32a2d7b21b",
   "metadata": {},
   "source": [
    "# Clusters of stars"
   ]
  },
  {
   "cell_type": "markdown",
   "id": "b01afd8e-3749-48e4-bcbd-18703e1bd190",
   "metadata": {},
   "source": [
    "In order to determine the shape of the Milky Way, we typically have to rely on counting stars, which is a tedious job. Early work on this field was done by Caroline and William Herschel, who did the job of counting stars in different directions from Earth, and concluded that Earth is at the centre of a small Galaxy (the exact map they constructed is given below). However, their technique for estimating the shape of the galaxy from counting stars has a fundamental flaw - they did not account for dust within the Milky Way!\n",
    "\n",
    "![HR_diagrams](Figures/Herschel-Galaxy.png)"
   ]
  },
  {
   "cell_type": "markdown",
   "id": "65bfc934-43b7-4cde-9076-02e591006247",
   "metadata": {},
   "source": [
    "## Within the Milky Way"
   ]
  },
  {
   "cell_type": "markdown",
   "id": "44093851-1cea-4c0c-8b1b-8649a786e253",
   "metadata": {},
   "source": [
    "Up until now, we've been discussing the temperatures and radii of individual stars, which included a brief discussion of a H-R diagram. Now, we are going to consider clusters of stars, and what their observational properties can tell us about their age.\n",
    "\n",
    "Within the Milky Way, we observe two different types of star clusters: globular clusters, and open clusters. These clusters represent  population of stars which have all formed at the same time, and whose absolute magnitudes are easy to compute (as the size of the cluster is very small relative to the distance from Earth, meaning we can approximate all the stars in the cluster at being the same distance away from us).\n",
    "\n",
    "The below diagrams show the H-R diagrams for one example of each of these, taken from https://www.aanda.org/articles/aa/full_html/2018/08/aa32843-18/aa32843-18.html.\n",
    "\n",
    "![HR_diagrams](Figures/Globular_Cluster.png)\n",
    "![HR_diagrams](Figures/Open_Cluster.png)\n",
    "\n",
    "First, globular clusters (top) contain very few hot stars on the main sequence. This tells us that these regions are very old, as they have been around long enough for all of their stars to evolve off of the main sequence. In contrast, open clusters tend to be dominated by stars on the main sequence. This means they must be very young, as they still contain hot stars (which have very short life times). \n",
    "\n",
    "The existence of globular clusters allowed Harlow Shapley to come up with a much better model of the Milky Way. First, he noted that all of the observable globular clusters lie in the direction opposite of the constellation Sagittarius. He thus concluded that he globular clusters are all orbiting the centre of the Galaxy, which lies in Sagittarius."
   ]
  },
  {
   "cell_type": "markdown",
   "id": "d09b3f54-6a39-4b12-9328-ee22ba933504",
   "metadata": {},
   "source": [
    "# The Milky Way"
   ]
  },
  {
   "cell_type": "markdown",
   "id": "33b6b026-a6cd-43d3-af35-ed90a8cce428",
   "metadata": {},
   "source": [
    "The Milky Way (r 8kpc) is split into three components: the disc (split into thin and thick), the bulge, and the halo.\n",
    "\n",
    "Thin disk: young stars, rich in metals (population I). $n(z) = n_{thin} exp(-z/h_{thin})$, $h_{thin}=0.3$ kpc\n",
    "Thick disk: old stars, poorer in metals (population I-population II). $n(z) = n_{thin} exp(-z/h_{thin})$, $h_{thin}=1.0$ kpc\n",
    "Bulge: radius of 1 kpc\n",
    "Halo: radius of 100 kpc\n",
    "\n",
    "Total luminosity of $23\\times10^9$ L$_{\\odot}$, which equates to 23 billions stars if we assume every star is like the sun (in reality, lots more K dwarfs than O stars, so actual number is closer to 200 billion)."
   ]
  },
  {
   "cell_type": "code",
   "execution_count": null,
   "id": "f4530ec4-e834-4f2a-b8e8-4e2d809f2d3d",
   "metadata": {},
   "outputs": [],
   "source": []
  }
 ],
 "metadata": {
  "kernelspec": {
   "display_name": "Python 3 (ipykernel)",
   "language": "python",
   "name": "python3"
  },
  "language_info": {
   "codemirror_mode": {
    "name": "ipython",
    "version": 3
   },
   "file_extension": ".py",
   "mimetype": "text/x-python",
   "name": "python",
   "nbconvert_exporter": "python",
   "pygments_lexer": "ipython3",
   "version": "3.8.10"
  }
 },
 "nbformat": 4,
 "nbformat_minor": 5
}
