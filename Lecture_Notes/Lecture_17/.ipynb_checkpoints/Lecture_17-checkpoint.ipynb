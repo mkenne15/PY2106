{
 "cells": [
  {
   "cell_type": "markdown",
   "id": "6872b14b-cf50-4775-b2c4-45d29379f4e3",
   "metadata": {},
   "source": [
    "## Earth\n",
    "Let's very quickly consider the Earth\n",
    "$$\n",
    "    T_{\\rm Earth} = \\frac{1}{2^{1/4}} T_{\\odot}\\sqrt {\\frac{R_{\\odot}}{d_{\\rm \\oplus}}}\n",
    "$$\n",
    "which gives $T_{\\rm Earth}=333$ k or 60$^{\\rm o}$ celsius. That maybe runs a bit high (especially since it's an average, not a maximum), so what assumptions do you think we'd need to properly adjust for this?\n",
    "\n",
    "### Reflection\n",
    "Not all of the light incident on the Earth is absorbed - the ocean and our atmosphere reflect some incident radiation. The fraction reflected is given by the albedo, $a$, of a planet. For Earth, $a \\sim 0.30$. We can account for this using:\n",
    "$$\n",
    "    P_{\\rm abs} = (1-a)\\frac{L_{\\odot}}{4 \\pi d_{\\rm min}^2} \\pi R_{\\rm \\oplus} ^2\n",
    "$$\n",
    "This gives\n",
    "$$\n",
    "    T_{\\rm \\oplus} = \\left( \\frac{1-a}{2} \\right)^{1/4} T_{\\odot}\\sqrt {\\frac{R_{\\odot}}{d_{\\rm \\oplus}}}\n",
    "$$\n",
    "which gives a temperature of $T_{\\rm \\oplus}=304.6$ k or 31.6$^{\\rm o}$ C. So much better already!\n",
    "\n",
    "### Redistribution of energy\n",
    "There are other effects, such as \n",
    "- The continous rotation of Earth. This means the surface exposure to radiation is constantly changing, which will help lower the temperature.\n",
    "- The atmosphere and oceans circulate, which spreads heat energy absorbed around a much larger fraction of the planet than we've used. This will also lower the temperature.\n",
    "- Internal energy of the planey due to cooling since formation helps increase the temperature.\n",
    "\n",
    "Again, as a first order approxmiation, we could say that the first 2 effects mean that the energy absorbed by the Earth is in fact spread over the entire surface of the planet. This means\n",
    "$$\n",
    "    P_{\\rm rad} = \\sigma (4 \\pi R_{\\rm \\oplus}^2) T_{\\rm \\oplus}^4\n",
    "$$\n",
    "This would then give a temperature of\n",
    "$$\n",
    "    T_{\\rm \\oplus} = \\left( 1-a \\right)^{1/4} T_{\\odot}\\sqrt {\\frac{R_{\\odot}}{2 d_{\\rm \\oplus}}}\n",
    "$$\n",
    "This then gives a temperature of $T_{\\rm \\oplus}=256$ k or -17$^{\\rm o}$ C. Which is way too cool - so we've likely overcompensated.\n",
    "\n",
    "### Greenhouse Effect\n",
    "Earth's atmosphere traps some absorbed energy near Earth's surface (\"Greenhouse effect\"). This raises the Earth's temperature to around 15$^{\\rm o}$ C."
   ]
  },
  {
   "cell_type": "markdown",
   "id": "cd5d5325-0805-483c-b3c9-871a95438965",
   "metadata": {},
   "source": [
    "# The Solar System"
   ]
  },
  {
   "cell_type": "markdown",
   "id": "c8f4d460-ef43-4215-9365-244de2e3a694",
   "metadata": {},
   "source": [
    "Since our discussion has brought us naturally to discussing the planets, we're now going to focus on the formation of the solar system for a bit.\n",
    "\n",
    "## Structure\n",
    "The mass within the sollar system is distributed approximately as follows. First, the Sun has a mass of $M_{\\odot}=2\\times 10 ^{30}$ kg. Next, the planets have masses (relative to the Earth's mass, $M_{\\oplus}$) of \n",
    "\n",
    "| |Mecury | Venus | Earth | Mars | Jupiter | Saturn | Uranus | Neptune |\n",
    "| --- | --- | --- | --- | --- | --- | --- | --- | --- |\n",
    "|Mass($M_{\\oplus}$) | 0.055 | 0.815 |1.0 | 0.107 | 318 | 95 | 14.5 | 17.1 |\n",
    "\n",
    "Finally, for completeness, Pluto has a mass of 0.0022 $M_{\\oplus}$.\n",
    "\n",
    "In total, the planets have a mass $446 M_{\\oplus}=0.0014 M_{\\odot}$, meaning the planets really only account for a rounding error of the solar systems total mass! They follow Keplerian orbits around the Sun.\n",
    "\n",
    "## Atmospheres\n",
    "\n",
    "Now, in the previous section, we were discussing the temperatures planets may have due to heating by the Sun, and one of the critical elements which affected the calculation of the temperature was the inclusion of an atmosphere. So, let's consider what atmosphere's planets may have.\n",
    "\n",
    "To escape from a planet with mass $M$ and radius $R$, a gas particle of mass $m$ must be moving upward with a velocity $\\geq$ the escape velocity:\n",
    "$$\n",
    "    v_{\\rm esc} =  \\sqrt{\\frac{2GM}{R}}.\n",
    "$$\n",
    "Now, if the gas in the atmosphere has a temperature $T$, then\n",
    "$$\n",
    "    \\frac{3}{2}kT=\\frac{1}{2}m v_{\\rm rms}^2\n",
    "$$\n",
    "$$\n",
    "    v_{\\rm rms} = \\sqrt{\\frac{3kT}{m}}\n",
    "$$\n",
    "For appreciable number of gas particles to escape, then $v_{\\rm esc} \\sim v_{\\rm rms}$. This gives the temperature at which a gas is likely to escape.\n",
    "$$\n",
    "   T_{\\rm esc} \\sim \\frac{2}{3}\\frac{GMm}{kR} \n",
    "$$\n",
    "So the temperature depends on $\\frac{M}{R}$, as everything else is the same for all planets.\n",
    "In practice, there will be appreciable escape when $v_{\\rm rms} > 1/6 v_{\\rm esc}$, since many particles in the gas have $v>v_{\\rm rms}$.\n",
    "So, let's revisit our Table from above, but for $\\frac{M}{R}$ (with both given in Earth Units)\n",
    "\n",
    "| |Mecury | Venus | Earth | Mars | Jupiter | Saturn | Uranus | Neptune |\n",
    "| --- | --- | --- | --- | --- | --- | --- | --- | --- |\n",
    "|$\\frac{M}{R}$ | 0.14 | 0.86 |1.0 | 0.19 | 28.4 | 10.1 | 3.6 | 4.5 |\n",
    "\n",
    "So the escape temperatures are much higher for the gas giants, especially Jupiter and Neptune, while their actual temperature's are lower than the terrestrial planets (as they are further from the Sun). Because of this, they can retain ligher molecules such as H2 and He, which terrestiral planets lose very easily."
   ]
  },
  {
   "cell_type": "code",
   "execution_count": null,
   "id": "40df1319-5518-4d35-aef6-467ee53c97b3",
   "metadata": {},
   "outputs": [],
   "source": []
  }
 ],
 "metadata": {
  "kernelspec": {
   "display_name": "Python 3 (ipykernel)",
   "language": "python",
   "name": "python3"
  },
  "language_info": {
   "codemirror_mode": {
    "name": "ipython",
    "version": 3
   },
   "file_extension": ".py",
   "mimetype": "text/x-python",
   "name": "python",
   "nbconvert_exporter": "python",
   "pygments_lexer": "ipython3",
   "version": "3.8.10"
  }
 },
 "nbformat": 4,
 "nbformat_minor": 5
}
