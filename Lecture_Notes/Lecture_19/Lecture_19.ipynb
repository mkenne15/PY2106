{
 "cells": [
  {
   "cell_type": "markdown",
   "id": "cd8c3fd6-681e-485e-ab1e-e95f64082bba",
   "metadata": {},
   "source": [
    "## Galaxy spectra"
   ]
  },
  {
   "cell_type": "markdown",
   "id": "223dee3d-0eb1-4abd-830f-36f7e7107353",
   "metadata": {},
   "source": [
    "### Observations\n",
    "So when we turn out telescopes to galaxies, what do we see? At optical wavelengths, we expect to see absorption line spectra coming from all of the stars, and emission line spectra coming from any hot gas.\n",
    "\n",
    "Recall for a moment the absolute magnitude of stars. An O-type main sequence star has an absolute magnitude of $M=-5$, while an M dwarf has $M=+15$. As such, we need 100 million M dwarfs to add up to the luminosity of a single O type star. As such, the spectra of starlight from galaxies are dominated by the most luminous stars.\n",
    "\n",
    "When we look at spiral galaxies, the brightest stars are young, hot main sequence O and B stars. In ellipticals, the brightest stars are evolved red giants. As such, spiral galaxies are bluer than elliptical galaxies. Over time, these stars rapidly evolve, until we are just left with red giants and dwarfs in elliptical galaxies.\n",
    "\n",
    "Finally, 1-2% of galaxies show strong non-thermal spectra. These are active galaxies, and the location of this non-thermal emission is close to the nucleus of the galaxy. These galaxies are often referred to as active galactic nuclei (AGN).\n",
    "\n",
    "### Physics\n",
    "So, if a galaxy is dominated by emission or absorption lines, then we can compute the radial velocity of a galaxy. First, we calculate the redshift of a galaxy, $z \\equiv \\Delta \\lambda / \\lambda$, and then the radial velocity as $v_{\\rm r} = cz$ (in the non-relativistic limit, where $v_{\\rm r} << c$). Since galaxies are resolved objects, we can measure the radial velocity at different points within a galaxy, and this determine how quickly the stars are orbiting within the galaxy (and hence the mass of the galaxy). Let's see an example of this.\n",
    "\n",
    "FIrst, imagine we are looking at a spiral galaxy in which the stars are on perfectly circular orbits. We see the disc at an inclination of $i$, where $i=0^{\\rm o}$ is face-on and $i=90^{\\rm o}$ is edge-on. The intrinsically circular disc will look elliptical due to projection effects, with the inclination dictating the ratio of $q=b/a$ that we measure. The relation to inclination is given by\n",
    "$$\n",
    "    q = \\cos i.\n",
    "$$\n",
    "So, for a face on system, we measure $q=1$ as we see a perfectly circular galaxy. For an edge-on system, we measure $q=0$, as the galaxy simple looks like a line across the sky.\n",
    "\n",
    "Now, if we measure the radial velocity $v_{\\rm r}$ for a point along the long axis of the galaxy (that is, where the radial velocity component is largest), then this is related to the orbital velocity $v_{\\rm c}(R)$ by\n",
    "$$\n",
    "    v_{\\rm r} (R) = v_{\\rm c}(R) \\sin i + v_{\\rm r,0}\n",
    "$$\n",
    "where $v_{\\rm r,0}$ is the radial velocity of the centre of the galaxy (as the galaxy may be moving to or away from us!). Inverting this gives\n",
    "$$\n",
    "    v_{\\rm c}(R) = \\frac{v_{\\rm r} (R) - v_{\\rm r,0}}{\\sin i} = \\frac{v_{\\rm r} (R) - v_{\\rm r,0}}{\\sqrt{1-\\cos^2 i}} = \\frac{v_{\\rm r} (R) - v_{\\rm r,0}}{\\sqrt{1-q^2}} \n",
    "$$\n",
    "Let's now use this to think about M31, Andromeda (Credit: 2002 R. Gendler, Photo by R. Gendler).\n",
    "\n",
    "![M31](Figures/heic0512d.jpg)\n",
    "\n",
    "The distance to Andromeda is $d=700$ kpc, while $q=0.3$. At this distance, an angular size of 1 arcsec corresponds to a distance of $r=3.4$ pc. The centre of M31 is moving toward us with a velocity of $-270$ km s$^{-1}$. At an angular distance of $R=600$ arcsec from the centre, along its apparent long axis, we measure a Doppler shift of $z=-0.00010$, corresponding to a radial velocity of $v_{\\rm r} = -30$ km s$^{-1}$. \n",
    "\n",
    "The actual distance from the centre of M31 to this location is $R=600 \\times 3.4 = 2040$ pc. The orbital speed at this distance is\n",
    "$$\n",
    "    v_{\\rm c}(R) = \\frac{-30 + 270}{\\sqrt{1-0.3^2}} = 250 \\: {\\rm km} \\: {\\rm s^{-1}}\n",
    "$$\n",
    "As we discussed in the last lecture, the measured radial velocity of stars in a galaxy does not fall off with distance as expected (due to dark matter). In fact, the measured radial velocity of Andromeda is approximately the same out to an angular distance of 3 degrees (an actual distance of 36 kpc!). At this distance, the calculated orbital speed is $230$ km s$^{-1}$ (so only slightly less than the orbital speed at 2kpc). This implies a mass of\n",
    "$$\n",
    "    M(R) \\approx \\frac{v_{\\rm c}^2 R}{G} = 4\\times10^{11} \\: {\\rm M_{\\odot}}\n",
    "$$"
   ]
  },
  {
   "cell_type": "markdown",
   "id": "fad1e722-d4cc-4f27-bb6b-f824633d28b3",
   "metadata": {},
   "source": [
    "# Elliptical Galaxies"
   ]
  },
  {
   "cell_type": "markdown",
   "id": "4ffc585c-2de8-4089-923d-59637647c69e",
   "metadata": {},
   "source": [
    "In the previous lecture, we saw how measurements of the radial velocity component of star's velocities in the outer regions of a spiral galaxy allow us to estimate the mass of spiral galaxies. However, such methods cannot be used for elliptical galaxies. This is because the kinematics within elliptical galaxies are very different - stars at comparable distances from the nucleus orbit much slower in ellipticals than in spirals.\n",
    "\n",
    "The key to studying ellipticals lies within the width of the absorption features of their spectra, which are much wider than expected from the temperatures of the stars. The large width of these lines is due to the velocity distribution of the stars within ellipticals. This is characterised by the velocity dispersion, $\\sigma$. The dispersion is low in spiral galaxies as most of the stars are in near-circular orbits within the disc. For elliptical galaxies, stars are often in highly elliptical and randomly oriented orbits, meaning we sample a wide range of velocities (and hence doppler shifts) along any line of sight through an elliptical galaxy.\n",
    "\n",
    "So, for galaxies with high velocity dispersions, we are going to treat the stars within the galaxy like point masses in a gas. Thus, we can think of elliptical galaxies as being pressure dominated. The mean square velocity of the stars within the galaxy is thus a measure of the \"temperature\" of the gas of stars.\n",
    "\n",
    "The velocity dispersion $\\sigma$ can then be used to estimate the mass of the galaxy. Recall (from lecture 4) the Virial theorem, which states that for a self-gravitating system, then\n",
    "$$\n",
    "    2<K> = -<U>\n",
    "$$\n",
    "The total kinetic energy of N stars in the galaxy is\n",
    "$$\n",
    "    K = \\sum_{i=1}^N\\frac{1}{2} m_i v_i^2\n",
    "$$\n",
    "which we can use to write\n",
    "$$\n",
    "    <K> = \\frac{1}{2} M <v^2>\n",
    "$$\n",
    "where $M$ is the total mass within the galaxy. The gravitational potential energy of the galaxy is\n",
    "$$\n",
    "    <U> = -\\frac{GM^2}{r}\n",
    "$$\n",
    "where $r$ is the radius of the system. It is hard to define this for elliptical galaxies, as they don't have clear cut offs. Often, a good approximation is\n",
    "$$\n",
    "    <U> \\approx -0.4 \\frac{GM^2}{r_h}\n",
    "$$\n",
    "where $r_h$ is the half-mass radius of the system (that is, the radius of a sphere which would encompase half the mass of the galaxy). Thus, using the virial theorem, we get\n",
    "\\begin{align}\n",
    "    M<v^2> &= 0.4\\frac{GM^2}{r_h} \\\\\n",
    "    M &\\approx 2.5\\frac{<v^2> r_h}{G} \\\\\n",
    "\\end{align}\n",
    "The issue here is measuring $<v^2>$, as we only measure the velocity component along our line of sight. Additionally, when we measure $\\sigma$, we are measuring the dispersion of the most luminous sources, not the most massive. So we will now assume two things\n",
    "\n",
    "* The velocity dispersion of red giants, which are the most luminous components of an elliptical galaxy, is comparable to the velocity dispersion of all stars.\n",
    "* The velocity dispersion is isotropic (that is, the same in all directions).\n",
    "\n",
    "Thus, we can say $<v^2> = 3\\sigma^2$ (again, see Lecture 4). Thus, the mass of the galaxy is given by\n",
    "$$\n",
    "    M \\approx 7.5 \\frac{\\sigma^2 r_h}{G}.\n",
    "$$\n",
    "Now, the final issues is determining $r_h$. Unfortunately, we have no good way of measuring this, so often we just instead measure the half-light radius, and assume that this is the same as the half-mass radius.\n",
    "\n",
    "## Example: Leo I\n",
    "Leo I lies at a distance of $250 kpc$. The half-light radius is 240 arcsec. At the distance of Leo I, this equates to a physical radius of\n",
    "$$\n",
    "    r_h = 8.9\\times 10^{18} \\: {\\rm m}.\n",
    "$$\n",
    "The velocity dispersion is found to be $8.8$ km s$^{-1}$, and so the mass of Leo I is\n",
    "$$\n",
    "    M \\approx 7.5 \\frac{(8.8\\times 10^3)^2(8.9\\times 10^{18})}{6.67\\times 10^{-11}} = 4\\times 10^7 \\: {\\rm M_{\\odot}}\n",
    "$$\n",
    "The luminosity of Leo I is $L=4.9\\times 10^6$ L$_{\\odot}$, which means the mass-to-light ratio is ~ 8 M$_{\\odot}$/L$_{\\odot}$. Such a high ratio suggests there is a significant amount of dark matter within Leo I."
   ]
  },
  {
   "cell_type": "markdown",
   "id": "6b0ad061-aca2-48a0-b456-a12f743f6e32",
   "metadata": {},
   "source": [
    "# Distances to Galaxies"
   ]
  },
  {
   "cell_type": "markdown",
   "id": "cf6a417b-785e-4033-9cb2-15763163ae38",
   "metadata": {},
   "source": [
    "In order to work out the distances to galaxies, we use a distance ladder. That is, we build up the distance to objects further and further away by first starting with nearby objects. The bottom rungs of the ladder are\n",
    "\n",
    "* Radar: Out to 10 Au, assuming we know precisely what the speed of light is.\n",
    "* Parallax: Out to 1 kpc, assuming we know exactly what 1 AU is.\n",
    "* Spectroscopic Parallax: Out to 10 kpc, assuming we know distances to nearby main sequence stars.\n",
    "\n",
    "For objects further than this, we require standard candles: objects or events where we know the luminosity precisely, and we can measure the flux of. Thus, the distance to such objects is simply\n",
    "$$\n",
    "    d = \\left(\\frac{L}{4 \\pi F}\\right)^{1/2}\n",
    "$$\n",
    "or, in magnitudes,\n",
    "$$\n",
    "    d = 10^{0.2(m-M+5)} \\: {\\rm pc}\n",
    "$$\n",
    "For nearby galaxies, we use Cepheid variables as our standard candles. These are pulsating stars which we have used nearby examples of to calibrating our luminosities. However, they oly get us out to roughly 25 Mpc. To go further, we tend to rely on Type 1a supernovae, with the drawback that these are rare events (and not exactly standard candles)."
   ]
  },
  {
   "cell_type": "markdown",
   "id": "374fa9ba-d3f8-4b83-bdb2-706afef88182",
   "metadata": {},
   "source": [
    "# The Hubble Law"
   ]
  },
  {
   "cell_type": "markdown",
   "id": "50a6514c-72e1-42d0-865c-66f979d001ae",
   "metadata": {},
   "source": [
    "Any introduction course to astronomy would be incomplete without at least briefly discussing Hubble's Law. In the early 1900's Vesto Slipher measured the redshift to 25 nearby spiral galaxies, and found that 21 of them were redshifted. Naively, we would expect the split to be 50/50, so this heavily skewed distribution suggested something was up. To further this work, Edwin Hubble examined if the redshift was related to the distance to the galaxy, and found that the further away a Galaxy is, the higher the redshift. The linear relation he found is known as Hubble's Law, and is given as\n",
    "$$\n",
    "    cz = H_0 d\n",
    "$$\n",
    "where $H_0$ is the Hubble constant. The current best estimate is that, when using standard candles to calculate the distances to galaxies, $H_0$ has a value of\n",
    "$$\n",
    "    H_0 = 70 \\pm 5 \\: {\\rm km}\\: {\\rm s^{-1}}\\: {\\rm Mpc^{-1}}\n",
    "$$\n",
    "In order to understand the physical reasons for this constant, and the idea that the the Universe is expanding, we need to briefly touch on cosmology. For this, we will assume the following is true:\n",
    "\n",
    "* The Universe is homogeneous. That is, it is the same at all locations. Obviously on a local scale this is not true (the Earth is different to the Sun!), but we're talking on a Universe scale.\n",
    "* The Universe is isotropic. That is, it looks the same in all directions.\n",
    "\n",
    "In a such a model, the observation that galaxies are receeding from us is not because we are at the centre of the expansion. Rather, every point of the Universe is expanding at the same time. Consider a loaf of bread with pumpkin seeds in it. As the bread rises in the oven, the distance between all of the seeds increases. However, if you were on one particular seed, and measured the distance to all other seeds, you'd conclude that you are stationary, and all of them are moving away from you."
   ]
  },
  {
   "cell_type": "code",
   "execution_count": null,
   "id": "67ec94fb-c2ba-432a-85d1-4b1873a18537",
   "metadata": {},
   "outputs": [],
   "source": []
  }
 ],
 "metadata": {
  "kernelspec": {
   "display_name": "Python 3 (ipykernel)",
   "language": "python",
   "name": "python3"
  },
  "language_info": {
   "codemirror_mode": {
    "name": "ipython",
    "version": 3
   },
   "file_extension": ".py",
   "mimetype": "text/x-python",
   "name": "python",
   "nbconvert_exporter": "python",
   "pygments_lexer": "ipython3",
   "version": "3.8.10"
  }
 },
 "nbformat": 4,
 "nbformat_minor": 5
}
