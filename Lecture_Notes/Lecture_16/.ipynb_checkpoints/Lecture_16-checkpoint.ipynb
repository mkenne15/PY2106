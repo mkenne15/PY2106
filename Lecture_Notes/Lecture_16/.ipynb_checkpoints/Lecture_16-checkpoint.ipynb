{
 "cells": [
  {
   "cell_type": "markdown",
   "id": "4ea2f525-c42d-4ee5-8441-2ef68038951e",
   "metadata": {},
   "source": [
    "# Stars"
   ]
  },
  {
   "cell_type": "markdown",
   "id": "e0c5220b-6984-4915-a929-a1f83e896eae",
   "metadata": {},
   "source": [
    "In today's lecture, we are going to discuss how stars are classified. This is done by\n",
    "\n",
    "- Their temperature\n",
    "- Their luminosity\n",
    "\n",
    "This leads to the Hertzsprung Russell diagram. We're also going to show that there exists a relation between luminosity and surface pressure, and discuss briefly how stars are powered, and their characteristic timescales for evolution."
   ]
  },
  {
   "cell_type": "markdown",
   "id": "8951ccfa-1998-4744-a63b-e9127458b9f6",
   "metadata": {
    "jp-MarkdownHeadingCollapsed": true,
    "tags": []
   },
   "source": [
    "## Spectral classifiations\n",
    "### By Temperature\n",
    "The observed characteristics of stars led to 2 classification schemes in the late 1800's. The first scheme, by Pickering and Fleming related to the strength of the Balmer absorption features of hydrogen, with stars ranked from A (strongest absorption features) to O (weakest absorption features). However, a quick discussion of when we would expect to see Balmer absorption features will show why this order is not particularly. The Balmer absorption features are associated with electrons in the $n=2$ state absorbing photons. Thus, for cold objects, we do not expect to see strong features at these wavelengths, as there will not be many atoms with electrons in this state. As $T$ increases, more H atoms will have electrons in this state, leading to stronger absorption features. However, once hot enough, many of the H atoms will become ionised, leading to a decrease again in this absorption feature. These two competing effects lead to a maximum expected absorption depth at $T=10,000$ K. Thus, if we rank stars by the depth of their H features, then stars with temperatures close to $10,000$ K will be $A$, with both colder and hotter stars then categorised between B-O.\n",
    "\n",
    "This was realised by astronomers at Harvard, led by Annie Cannon, at the start of the 20th century, and the order reshuffled to **OBAFGKM**, such that all the labelling work done by Fleming could be maintained, but such that the stars were now ordered by their temperatures. These stars spanned a temperature range of $40,000 - 3000$ K. Since this time, we have added 2 new classifications to the system: L and T dwarfs (why do you think we didn't know of these stars at the time?).\n",
    "\n",
    "There are further subdivisions to this ordering, such that each letter is subdivided into 9 numbers. That is, G stars can be G1-G9, with G1 the hottest and G9 the coolest. The below table summarises the temperatures for the different classes.\n",
    "\n",
    "| Class | Temperature (K) |\n",
    "| --- | --- | \n",
    "| O | 40,000 |\n",
    "| B | 20,000 |\n",
    "| A | 9,000 |\n",
    "| F | 7,000 |\n",
    "| G | 5,500 |\n",
    "| K | 4,500 |\n",
    "| M | 3,000 |\n",
    "| L | 2,000 |\n",
    "| T | <1,300 |\n",
    "\n",
    "### By Luminosity\n",
    "The above classifications only rely on an objects temperature, but there is another classification we need to recall - luminosity! The six luminosity classes are given as Roman numerals (I, II, III, IV, V, VI), and are assigned empircally on the width of a stars absorption features (I having the narrowest and VI having the widest) - this was first performed by yet another Harvard astrophysicst - Antonia Maury. We'll talk about this more in another lecture, but it turns out the luminosity class is related to the radius of the object, such that large objects have the most narrow lines, and small objects have broader lines.\n",
    "\n",
    "| Class | Star Size |\n",
    "| --- | --- | \n",
    "| I | supergiant |\n",
    "| II | bright giant |\n",
    "| III | giant |\n",
    "| IV | subgiant |\n",
    "| V | dwarf |\n",
    "| VI | subdwarf |"
   ]
  },
  {
   "cell_type": "markdown",
   "id": "bfacb117-5fca-49b0-9d63-e95f2106ff2c",
   "metadata": {},
   "source": [
    "## The Hertzsprung-Russell Diagram"
   ]
  },
  {
   "cell_type": "markdown",
   "id": "c3a7ee40-1595-4e27-9402-5415fb717714",
   "metadata": {},
   "source": [
    "The tools we have developed for measuring the intrinsic luminosity of objects (by calculating their absolute magnitudes) and for their temperatures (by measuring a stars colour) can be to understand the evolutionary path of stars. First, below is a plot of the colour and absolute magnitudes of all of the stars within the nearest 700 pc to the Sun. There is remarkable structure to this plot, which is worth discussing in significant detail.\n",
    "\n",
    "![HR700pc](Figures/HR_diagram.png)\n",
    "\n",
    "We can understand both axes from their relations to luminosity (and thus radius), and temperature. The x-axis is a proxy for temperature, with hot objects on the right and cold objects on the left, and the y-axis is a proxy for radius, with large giants towards the top and small dwarfs on the bottom. The diagonal strip that runs from the upper left to the lower right defines the main sequence - these are hydrogen burning stars like the Sun."
   ]
  },
  {
   "cell_type": "markdown",
   "id": "1b77ce02-f691-4fc7-9e08-72a9f97ec032",
   "metadata": {
    "tags": []
   },
   "source": [
    "## Luminosity classes and pressure relation\n",
    "In the precious lecture, we stated that the pressure is related to the radius, which we have now shown. The next step is to compare the pressures of different size stars, to justify the ordering of the luminosity classes as given previously.\n",
    "\n",
    "First, let's rewrite the optical depth to be\n",
    "$$\n",
    "    {\\rm d} \\tau = -n(r) \\sigma(r) {\\rm d} r\n",
    "$$\n",
    "where $n$ is the number density and $\\sigma$ the average cross section for interactions. This is often written as\n",
    "$$\n",
    "    {\\rm d} \\tau = -\\rho(r) \\kappa(r) {\\rm d} r.\n",
    "$$\n",
    "where $\\rho$ is the mass density and $\\kappa$ is called the opacity, and is given by\n",
    "$$\n",
    "    \\kappa = \\frac{n\\sigma}{\\rho}\n",
    "$$\n",
    "For the Sun, the opacity is $\\kappa \\sim 3 \\: {\\rm m^2 \\: kg^{-1}}$. Since\n",
    "$$\n",
    "    \\frac{{\\rm d} P}{{\\rm d} r} = -g\\rho\n",
    "$$\n",
    "we can say that\n",
    "$$\n",
    "    \\frac{{\\rm d} P}{{\\rm d} \\tau} = \\frac{{\\rm d} P}{{\\rm d} r} \\frac{{\\rm d} r}{{\\rm d} \\tau} = \\frac{g}{\\kappa}\n",
    "$$\n",
    "If this ratio is constant in a stars atmosphere, then we can say that\n",
    "$$\n",
    "    P \\approx \\frac{g}{\\kappa} \\tau\n",
    "$$\n",
    "If we now just cosider the photosphere, where $\\tau \\sim 1$, then we have that\n",
    "$$\n",
    "    P_{\\rm Phot} \\approx \\frac{g_{\\rm Phot}}{\\kappa_{\\rm Phot}}\n",
    "$$\n",
    "Since stars have similar compositions, it's reasonable to assume that $\\kappa_{\\rm Phot}$ is similar for all of them. This means that the pressure in any stars photosphere depends on $g$, when means when comparing two stars, the ratio of the pressures in their photospheres is approximately\n",
    "$$\n",
    "    \\frac{P_1}{P_2} = \\frac{M_1}{M_2}\\left(\\frac{R_2}{R_1}\\right)^2\n",
    "$$\n",
    "As an example, let's consider the stars Betelgeuse and Proxima Cen. Betelgeuse is a M2 I star, and Proxima Cen is a M5 V star - so they both have a similar temperature, but their luminosities are very different. If we use the known masses and radii for these stars, we find that\n",
    "$$\n",
    "    \\frac{P_{\\rm Betel}}{P_{\\rm Prox}} \\sim 10^{-6}\n",
    "$$\n",
    "which goes to show that Betelgeuse, which has a significantly larger radius than Proxima Cen, has a much lower pressure in its photosphere. This in turn means the amount of pressure broadening in its absorption features is very small compared to Proxima Cen, which is why its luminosity class is I while Proxima Cen's is class V."
   ]
  },
  {
   "cell_type": "markdown",
   "id": "3064f68e-207c-4c03-82a0-b89ca03cd684",
   "metadata": {},
   "source": [
    "## Energy generation in Stars"
   ]
  },
  {
   "cell_type": "markdown",
   "id": "f2d9bbcd-ef8b-4cd7-a53d-0ba60b84d2af",
   "metadata": {},
   "source": [
    "So why do stars emit radiation? Without even knowing the physical process that drives the radiation, we can formulate an equation for it. Consider a thin spherical shell within a star. A luminosity of $L$ moves through the inner face of the surface, and a luminosity of $L+\\delta L$ moves through the outer face, meaning $\\delta L$ power has been created within that thin shell. We can write down this power as \n",
    "$$\n",
    "    \\delta L = (4 \\pi r^2 {\\rm d}r)\\rho \\epsilon(r)\n",
    "$$\n",
    "or, more specifically, the change in luminosity with respect to radius is simply\n",
    "$$\n",
    "    \\frac{{\\rm d} L}{{\\rm d} r} = (4 \\pi r^2) \\rho \\epsilon(r)\n",
    "$$\n",
    "where $\\epsilon(r)$ is the process that is generating this energy.\n",
    "\n",
    "So what is driving this $\\epsilon$?\n",
    "\n",
    "### Gravitational collapse.\n",
    "As we saw with Jupiter, gravitational collapse of an object can lead to emission of energy - the gravitational contraction of Jupiter is what is giving rises to Jupiter's brightness at IR wavelengths. So could this be responsible for the Sun? If it is, what is the timescale for the Sun emitting all of this energy?\n",
    "\n",
    "To answer this, consider the following. The current gravitational potential energy of the sun is\n",
    "$$\n",
    "    U_{\\odot} = -q \\frac{GM_{\\odot}^2}{R_{\\odot}}.\n",
    "$$\n",
    "Where $q$ is some constant. When considering tides, we found that a sphere of uniform density will have $q=\\frac{3}{5}$. In reality, the Sun is not uniformly dense, and a more appropriate value is $q=1.5$. This gives\n",
    "$$\n",
    "    U_{\\odot} = -1.5 \\frac{GM_{\\odot}^2}{R_{\\odot}} = -5.7 \\times 10^{41} \\: {\\rm J}.\n",
    "$$\n",
    "So, assuming that the Sun has collapsed from an initial radius of infinity, this is the total amount of energy that has been converted from potential into kinetic within the Sun, and which the Sun needs to radiate away to cool down. As such, the timescale for emitting this energy is just\n",
    "$$\n",
    "    \\tau = \\frac{|U_{\\odot}|}{L_{\\odot}}=1.5 \\times 10^{15} \\; {\\rm s} = 50 \\; {\\rm Myr}.\n",
    "$$\n",
    "This is a very short timescale, and is at odds with the oldest fossils on Earth.\n",
    "\n",
    "### Nuclear Fusion\n",
    "Consider the mass of 4 hydrogen nuclei, $m=6.6905\\times10^{-27}$ kg, and the mass of 1 helium nuclear, $m=6.6447 \\times 10^{-27}$ kg. There is a mass difference of $\\delta m=0.0458 \\times 10 ^{-27}$ kg - this mass is liberated as energy when 4 hydrogen atoms fuse to form one helium atom. Thus, the energy librated through this is\n",
    "$$\n",
    "    \\Delta E = (\\Delta m) c^2 = 4.1 \\times 10^{-12} \\; {\\rm J}.\n",
    "$$\n",
    "If the Sun were made entirely of hydrogen nuclei, it would have $N_{\\rm H}=M_{\\odot}/m_{\\rm p}=1.2 \\times 10^{57}$ nuclei available to fuse. Assuming all of these H nuclei were converted in He nuclei, then the total amount of energy that could be released by the Sun through fusion is\n",
    "$$\n",
    "    E_{\\rm fus} = \\frac{N_{\\rm H}}{4} \\Delta E = 1.2 \\times 10 ^{45} \\; {\\rm J}\n",
    "$$\n",
    "The time it would take for the Sun to radiate away all of this energy would be\n",
    "$$\n",
    "    \\tau = \\frac{E_{\\rm fus}}{L_{\\odot}}=3.3 \\times 10^{18} \\; {\\rm s} = 100 \\; {\\rm Gyr}.\n",
    "$$\n",
    "This is much longer than the Sun's actual life time - the assumption we've made that all H within the Sun will be converted into He is not true - in reality, only about the inner 10\\% will be. A good rule of thumb is then that for a star of mass $M$, it's approximate liftime is\n",
    "$$\n",
    "    \\tau \\sim 10 \\; {\\rm Gyr} \\left( \\frac{M}{M_{\\odot}} \\right) ^{-3}\n",
    "$$\n",
    "when $M$ is given in solar masses."
   ]
  },
  {
   "cell_type": "code",
   "execution_count": null,
   "id": "25211777-aebf-4743-8e7c-7de6bc6732ce",
   "metadata": {},
   "outputs": [],
   "source": []
  }
 ],
 "metadata": {
  "kernelspec": {
   "display_name": "Python 3 (ipykernel)",
   "language": "python",
   "name": "python3"
  },
  "language_info": {
   "codemirror_mode": {
    "name": "ipython",
    "version": 3
   },
   "file_extension": ".py",
   "mimetype": "text/x-python",
   "name": "python",
   "nbconvert_exporter": "python",
   "pygments_lexer": "ipython3",
   "version": "3.8.10"
  }
 },
 "nbformat": 4,
 "nbformat_minor": 5
}
