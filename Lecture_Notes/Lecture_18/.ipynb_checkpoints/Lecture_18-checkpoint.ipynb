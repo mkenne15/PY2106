{
 "cells": [
  {
   "cell_type": "markdown",
   "id": "2bb4c031-070d-4b8f-850f-f89c4fe6de64",
   "metadata": {},
   "source": [
    "# Galaxy rotation curves"
   ]
  },
  {
   "cell_type": "markdown",
   "id": "d91c5b6b-6425-4ed9-b63c-c61e53fbe4b5",
   "metadata": {},
   "source": [
    "At the very end of the last lecture, we found for a centrally dense galaxy (that is, there is less and less mass enclosed within a sphere of radius $R$ as $R$ increases), the Keplarian velocity of stars should go as\n",
    "$$\n",
    "    v(r) \\propto {1}{r^2}.\n",
    "$$\n",
    "That is, the further out into the Milky Way we look, the slower stars should be orbiting. This is at odds with the observed rotational velocities of stars (not just in the Milky Way, but throughout the Universe), as shown below.\n",
    "\n",
    "![Rotation Curves](Figures/Rotation_curve_of_spiral_galaxy_Messier_33_(Triangulum).png)\n",
    "\n",
    "This shows that the velocity tends towards some near constant value the further out we go. This suggests that the $M$ enclosed must be increasing proportionally to $R$. This is at odds with the luminosities of these regions, as the lminosity of galaxies drops off very quickly with radius. Thus, whatever matter is being enclosed must be dark - thus, **dark matter**. There are a few candidates for particles that fit the required effects of dark matter, but we won't discuss them here."
   ]
  },
  {
   "cell_type": "markdown",
   "id": "986a35d8-4267-4c8e-be1e-3dd2a235aa07",
   "metadata": {},
   "source": [
    "## The nucleus of the Milky Way"
   ]
  },
  {
   "cell_type": "code",
   "execution_count": null,
   "id": "504a2388-fa27-471c-afbe-00c158cc14b8",
   "metadata": {},
   "outputs": [],
   "source": []
  },
  {
   "cell_type": "markdown",
   "id": "1fb0e530-d3a0-4a75-8f73-43bfbf7431d5",
   "metadata": {},
   "source": [
    "# Galaxies"
   ]
  },
  {
   "cell_type": "markdown",
   "id": "ede862df-aedf-435d-ba20-683cc7162f63",
   "metadata": {},
   "source": [
    "Between September 2003 and January 2004, the Hubble space telescope spent a total of 11 days observing an apparently blank patch of sky. The image of this field after combining all of these data together is shown below, and goes to show that it was not such a blank field of space. (Image credit: NASA, ESA, and S. Beckwith (STScI) and the HUDF Team).\n",
    "\n",
    "![HUDF](Figures/heic0611b.jpg)\n",
    "\n",
    "There are a couple of key take aways from this image. First, there are roughly 10,000 galaxies in this image which has a field of view of 3 arcmin X 3 arcmin. Assuming that this patch of sky is not special in anyway (that is, the Universe is isotropic and homogeneous), it implies that there should be 170 billion galaxies covering the entire night sky.\n",
    "\n",
    "Second, there are many different types of galaxies visible in this image with different morphologies and colours. "
   ]
  },
  {
   "cell_type": "markdown",
   "id": "f2216b24-8cb3-4668-afb2-d857be25961a",
   "metadata": {},
   "source": [
    "## Galaxy classes"
   ]
  },
  {
   "cell_type": "markdown",
   "id": "4da21829-9eae-47da-95ef-67e04db78cb7",
   "metadata": {},
   "source": [
    "The first attempt to classify galaxies into distinct types was done by Edwin Hubble, who separated the classes by morphology. In his scheme, there are three main classifications: **elliptical**, **spiral**, and **irregular**. Below shows a typical tuning fork diagram, which shows how the classes are related to each other. (Credit: NASA & ESA). The main limitation of this scheme is that it's restricted to very luminious galaxies, as these are the ones which Hubble could see.\n",
    "![TuningFork](Figures/heic9902o.jpg)\n",
    "\n",
    "Hubble ordered the galaxies in this direction as he assumed that galaxies form as ellipticals and gradually evolve to spirals (which turns out to be wrong...)\n",
    "\n",
    "### Ellipticals\n",
    "Elliptical galaxies are smooth, elliptical blobs with no evidence for dust lanes within them. Assuming they are ellipses, then their shape (semimajor and semiminor axes) can be described by one of:\n",
    "\n",
    "* The axis ratio $q=b/a$\n",
    "* The ellipticity $\\varepsilon = 1- q$\n",
    "* The eccentricity $e = (1-q^2)^{1/2}$ of the galaxy. \n",
    "\n",
    "As such, Hubble labelled elliptical galaxies as E**n**, where n was 10 times the ellipticity (so 0 was circular, 7 is highly elliptical). The surface brightness of elliptical galaxies goes as\n",
    "$$\n",
    "   \\log I \\propto -r^{1/4}\n",
    "$$\n",
    "\n",
    "### Spirals\n",
    "Spiral galaxies have (obviously) spiral arms, which are most easily seen when the systems are viewed face on. The first person to note the spiral structure of these Galaxies was Lord Rosse using the Leviathan of Parsonstown (in Birr). Every spiral galaxy has a bulge, a rotating disc, and spiral arms within the disc (like the Milky Way). There are 3 principle classes:\n",
    "\n",
    "* Sa: large bulge, tightly wound arms, little gas or dust.\n",
    "* Sb: medium bulge, moderately wound arms, some amounts of gas or dust.\n",
    "* Sc: small bulge, lossely wound spiral arms, lots of gas and dust.\n",
    "\n",
    "Additionally, if there is a very obvious bar running across the galaxy, then the classification becomes SB. The surface brightness follows the relation\n",
    "$$\n",
    "    \\log I \\propto -r\n",
    "$$\n",
    "\n",
    "### Irregular\n",
    "These galaxies lack any regular shape. They are rich in gas, and have substantial amounts of ongoing star formation. The small magallenic cloud is such a galaxy.\n",
    "\n",
    "### Dwarf galaxies\n",
    "Small, diffuse galaxies which are low in both surface brightness and total luminosity are not included in the above categories as they could not be seen with telescopes at the time Hubble was classifying galaxies. These **dwarf galaxies** are important, as it appears that, like with M dwarfs for stars, dwarf galaxies are the most common type of galaxy."
   ]
  }
 ],
 "metadata": {
  "kernelspec": {
   "display_name": "Python 3 (ipykernel)",
   "language": "python",
   "name": "python3"
  },
  "language_info": {
   "codemirror_mode": {
    "name": "ipython",
    "version": 3
   },
   "file_extension": ".py",
   "mimetype": "text/x-python",
   "name": "python",
   "nbconvert_exporter": "python",
   "pygments_lexer": "ipython3",
   "version": "3.8.10"
  }
 },
 "nbformat": 4,
 "nbformat_minor": 5
}
