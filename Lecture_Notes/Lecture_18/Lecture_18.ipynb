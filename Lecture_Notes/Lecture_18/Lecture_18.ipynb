{
 "cells": [
  {
   "cell_type": "markdown",
   "id": "1fb0e530-d3a0-4a75-8f73-43bfbf7431d5",
   "metadata": {},
   "source": [
    "# Galaxies"
   ]
  },
  {
   "cell_type": "markdown",
   "id": "ede862df-aedf-435d-ba20-683cc7162f63",
   "metadata": {},
   "source": [
    "Between September 2003 and January 2004, the Hubble space telescope spent a total of 11 days observing an apparently blank patch of sky. The image of this field after combining all of these data together is shown below, and goes to show that it was not such a blank field of space. (Image credit: NASA, ESA, and S. Beckwith (STScI) and the HUDF Team).\n",
    "\n",
    "![HUDF](Figures/heic0611b.jpg)\n",
    "\n",
    "There are a couple of key take aways from this image. First, there are roughly 10,000 galaxies in this image which has a field of view of 3 arcmin X 3 arcmin. Assuming that this patch of sky is not special in anyway (that is, the Universe is isotropic and homogeneous), it implies that there should be 170 billion galaxies covering the entire night sky.\n",
    "\n",
    "Second, there are many different types of galaxies visible in this image with different morphologies and colours. "
   ]
  },
  {
   "cell_type": "markdown",
   "id": "f2216b24-8cb3-4668-afb2-d857be25961a",
   "metadata": {},
   "source": [
    "## Galaxy classes"
   ]
  },
  {
   "cell_type": "markdown",
   "id": "4da21829-9eae-47da-95ef-67e04db78cb7",
   "metadata": {},
   "source": [
    "The first attempt to classify galaxies into distinct types was done by Edwin Hubble, who separated the classes by morphology. In his scheme, there are three main classifications: **elliptical**, **spiral**, and **irregular**. Below shows a typical tuning fork diagram, which shows how the classes are related to each other. (Credit: NASA & ESA). The main limitation of this scheme is that it's restricted to very luminious galaxies, as these are the ones which Hubble could see.\n",
    "![TuningFork](Figures/heic9902o.jpg)\n",
    "\n",
    "Hubble ordered the galaxies in this direction as he assumed that galaxies form as ellipticals and gradually evolve to spirals (which turns out to be wrong...)\n",
    "\n",
    "### Ellipticals\n",
    "Elliptical galaxies are smooth, elliptical blobs with no evidence for dust lanes within them. Assuming they are ellipses, then their shape (semimajor and semiminor axes) can be described by one of:\n",
    "\n",
    "* The axis ratio $q=b/a$\n",
    "* The ellipticity $\\varepsilon = 1- q$\n",
    "* The eccentricity $e = (1-q^2)^{1/2}$ of the galaxy. \n",
    "\n",
    "As such, Hubble labelled elliptical galaxies as E**n**, where n was 10 times the ellipticity (so 0 was circular, 7 is highly elliptical). The surface brightness of elliptical galaxies goes as\n",
    "$$\n",
    "   \\log I \\propto -r^{1/4}\n",
    "$$\n",
    "\n",
    "### Spirals\n",
    "Spiral galaxies have (obviously) spiral arms, which are most easily seen when the systems are viewed face on. The first person to note the spiral structure of these Galaxies was Lord Rosse using the Leviathan of Parsonstown (in Birr). Every spiral galaxy has a bulge, a rotating disc, and spiral arms within the disc (like the Milky Way). There are 3 principle classes:\n",
    "\n",
    "* Sa: large bulge, tightly wound arms, little gas or dust.\n",
    "* Sb: medium bulge, moderately wound arms, some amounts of gas or dust.\n",
    "* Sc: small bulge, lossely wound spiral arms, lots of gas and dust.\n",
    "\n",
    "Additionally, if there is a very obvious bar running across the galaxy, then the classification becomes SB. The surface brightness follows the relation\n",
    "$$\n",
    "    \\log I \\propto -r\n",
    "$$\n",
    "\n",
    "### Irregular\n",
    "These galaxies lack any regular shape. They are rich in gas, and have substantial amounts of ongoing star formation. The small magallenic cloud is such a galaxy.\n",
    "\n",
    "### Dwarf galaxies\n",
    "Small, diffuse galaxies which are low in both surface brightness and total luminosity are not included in the above categories as they could not be seen with telescopes at the time Hubble was classifying galaxies. These **dwarf galaxies** are important, as it appears that, like with M dwarfs for stars, dwarf galaxies are the most common type of galaxy."
   ]
  },
  {
   "cell_type": "markdown",
   "id": "f76c6aa7-d251-4a4e-8cdc-a2bb38c73497",
   "metadata": {},
   "source": [
    "## Galaxy spectra"
   ]
  },
  {
   "cell_type": "markdown",
   "id": "bbef6827-4d56-4b45-9128-291643b862c7",
   "metadata": {},
   "source": [
    "### Observations\n",
    "So when we turn out telescopes to galaxies, what do we see? At optical wavelengths, we expect to see absorption line spectra coming from all of the stars, and emission line spectra coming from any hot gas.\n",
    "\n",
    "Recall for a moment the absolute magnitude of stars. An O-type main sequence star has an absolute magnitude of $M=-5$, while an M dwarf has $M=+15$. As such, we need 100 million M dwarfs to add up to the luminosity of a single O type star. As such, the spectra of starlight from galaxies are dominated by the most luminous stars.\n",
    "\n",
    "When we look at spiral galaxies, the brightest stars are young, hot main sequence O and B stars. In ellipticals, the brightest stars are evolved red giants. As such, spiral galaxies are bluer than elliptical galaxies. This helps us to correctly identify the order of time for Hubble's tuning fork diagram. In spiral galaxies, we see young, hot stars and star formation regions. Over time, these stars rapidly evolve, until we are just left with red giants and dwarfs in elliptical galaxies.\n",
    "\n",
    "Finally, 1-2% of galaxies show strong non-thermal spectra. These are active galaxies, and the location of this non-thermal emission is close to the nucleus of the galaxy. These galaxies are often referred to as active galactic nuclei (AGN).\n",
    "\n",
    "### Physics\n",
    "So, if a galaxy is dominated by emission or absorption lines, then we can compute the radial velocity of a galaxy. First, we calculate the redshift of a galaxy, $z \\equiv \\Delta \\lambda / \\lambda$, and then the radial velocity as $v_{\\rm r} = cz$ (in the non-relativistic limit, where $v_{\\rm r} << c$). Since galaxies are resolved objects, we can measure the radial velocity at different points within a galaxy, and this determine how quickly the stars are orbiting within the galaxy (and hence the mass of the galaxy). Let's see an example of this.\n",
    "\n",
    "FIrst, imagine we are looking at a spiral galaxy in which the stars are on perfectly circular orbits. We see the disc at an inclination of $i$, where $i=0^{\\rm o}$ is face-on and $i=90^{\\rm o}$ is edge-on. The intrinsically circular disc will look elliptical due to projection effects, with the inclination dictating the ratio of $q=b/a$ that we measure. The relation to inclination is given by\n",
    "$$\n",
    "    q = \\cos i.\n",
    "$$\n",
    "So, for a face on system, we measure $q=1$ as we see a perfectly circular galaxy. For an edge-on system, we measure $q=0$, as the galaxy simple looks like a line across the sky.\n",
    "\n",
    "Now, if we measure the radial velocity $v_{\\rm r}$ for a point along the long axis of the galaxy (that is, where the radial velocity component is largest), then this is related to the orbital velocity $v_{\\rm c}(R)$ by\n",
    "$$\n",
    "    v_{\\rm r} (R) = v_{\\rm c}(R) \\sin i + v_{\\rm r,0}\n",
    "$$\n",
    "where $v_{\\rm r,0}$ is the radial velocity of the centre of the galaxy (as the galaxy may be moving to or away from us!). Inverting this gives\n",
    "$$\n",
    "    v_{\\rm c}(R) = \\frac{v_{\\rm r} (R) - v_{\\rm r,0}}{\\sin i} = \\frac{v_{\\rm r} (R) - v_{\\rm r,0}}{\\sqrt{1-\\cos^2 i}} = \\frac{v_{\\rm r} (R) - v_{\\rm r,0}}{\\sqrt{1-q^2}} \n",
    "$$\n",
    "Let's now use this to think about M31, Andromeda (Credit: 2002 R. Gendler, Photo by R. Gendler).\n",
    "\n",
    "![M31](Figures/heic0512d.jpg)\n",
    "\n",
    "The distance to Andromeda is $d=700$ kpc, while $q=0.3$. At this distance, an angular size of 1 arcsec corresponds to a distance of $r=3.4$ pc. The centre of M31 is moving away from us with a velocity of $-270$ km s$^{-1}$. At an angular distance of $R=600$ arcsec from the centre, along its apparent long axis, we measure a Doppler shift of $z=-0.00010$, corresponding to a radial velocity of $v_{\\rm r} = -30$ km s$^{-1}$. \n",
    "\n",
    "The actual distance from the centre of M31 to this location is $R=600 \\times 3.4 = 2040$ pc. The orbital speed at this distance is\n",
    "$$\n",
    "    v_{\\rm c}(R) = \\frac{-30 + 270}{\\sqrt{1-0.3^2}} = 250 \\: {\\rm km} \\: {\\rm s^{-1}}\n",
    "$$\n",
    "As we discussed in the last lecture, the measured radial velocity of stars in a galaxy does not fall off with distance as expected (due to dark matter). In fact, the measured radial velocity of Andromeda is approximately the same out to an angular distance of 3 degrees (an actual distance of 36 kpc!). At this distance, the calculated orbital speed is $230$ km s$^{-1}$ (so only slightly less than the orbital speed at 2kpc). This implies a mass of\n",
    "$$\n",
    "    M(R) \\approx \\frac{v_{\\rm c}^2 R}{G} = 4\\times10^{11} \\: {\\rm M_{\\odot}}\n",
    "$$"
   ]
  },
  {
   "cell_type": "code",
   "execution_count": null,
   "id": "138ecc35-89ef-485d-bac7-623975aa2d15",
   "metadata": {},
   "outputs": [],
   "source": []
  }
 ],
 "metadata": {
  "kernelspec": {
   "display_name": "Python 3 (ipykernel)",
   "language": "python",
   "name": "python3"
  },
  "language_info": {
   "codemirror_mode": {
    "name": "ipython",
    "version": 3
   },
   "file_extension": ".py",
   "mimetype": "text/x-python",
   "name": "python",
   "nbconvert_exporter": "python",
   "pygments_lexer": "ipython3",
   "version": "3.8.10"
  }
 },
 "nbformat": 4,
 "nbformat_minor": 5
}
