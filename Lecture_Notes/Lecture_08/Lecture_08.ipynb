{
 "cells": [
  {
   "cell_type": "markdown",
   "id": "23567f45-39f0-4620-b1e1-fdfe943eb7b2",
   "metadata": {
    "tags": []
   },
   "source": [
    "# Interaction of radiation and matter - Emission/Absorption Lines"
   ]
  },
  {
   "cell_type": "markdown",
   "id": "575c98e6-36b1-4170-83cb-2947b8842a98",
   "metadata": {
    "tags": []
   },
   "source": [
    "In this lecture, we are going to discuss\n",
    "\n",
    "* Doppler Broadening\n",
    "    - Thermal\n",
    "    - Rotational\n",
    "* Pressure Broadening"
   ]
  },
  {
   "cell_type": "markdown",
   "id": "55bd63f2-23aa-4f40-9949-58137e302c21",
   "metadata": {
    "tags": []
   },
   "source": [
    "## Thermal Doppler broadening\n",
    "\n",
    "In order to understand the next effect, it's necessary to recall the Doppler effect. If we have a source travelling at a velocity of $v$ that is emitting photons with a wavelength of $\\lambda_0$ with a velocity of $c$, then the observed wavelength of the photons to an observer a rest is given by\n",
    "$$\n",
    "    \\lambda = \\lambda_0 \\left(1 + \\frac{v_s}{c}\\right).\n",
    "$$\n",
    "There are thus two important definitions for the doppler effect:\n",
    "\n",
    "1. For a source moving away from us, $v_s$ is positive, which means $\\lambda$ increases relative to $\\lambda_0$ (redshift).\n",
    "2. For a source towards us, $v_s$ is negative, which means $\\lambda$ decreases relative to $\\lambda_0$ (blueshift).\n",
    "\n",
    "In the frequency regime, the above equation becomes (via $\\nu = \\frac{c}{\\lambda})$\n",
    "$$\n",
    "    \\nu = \\frac{\\nu_0} { \\left(1 + \\frac{v_s}{c}\\right) }.\n",
    "$$\n",
    "Finally, it's important to remember that it is only the velocity component along the line of sight which produces a Doppler shift. So if an object is travelling with a velocity $\\textbf{v}$ that can be broken into spherical components $v_r, v_\\theta, v_\\phi$, then it is only the radial compoent which gives rise to a Doppler shift.\n",
    "\n",
    "So, let us now consider how this effect may change the width of an absorption/emission feature of an atom. The below figure demonstrates qualitatively what should be expected for a particle that absorbs photons with a frequency of $\\nu_0$, and that has a velocity at different angles to the incoming radiation.\n",
    "\n",
    "![Doppler_Shift](Figures/Doppler_Effect.png)\n",
    "\n",
    "1. If the particle is moving in the same direction as the photons, then in the particles rest frames, it sees photons which have a frequency higher than $\\nu_0$ as having the correct frequency for the transition. As such, if we as an observer are looking at a source through a cloud of particles moving with this velocity, we'll see an absorption feature which has a central frequency higher than what we would expect.\n",
    "2. If the particle is moving in the opposite direction to the photons, then in the particles rest frames, it sees photons which have a frequency less than $\\nu_0$ as having the correct frequency for the transition. As such, if we as an observer are looking at a source through a cloud of particles moving with this velocity, we'll see an absorption feature which has a central frequency lower than what we would expect.\n",
    "3. If the particle is moving perpendicular to the photons, then in the particles rest frames, it sees photons which have a frequency at $\\nu_0$ as having the correct frequency for the transition. As such, if we as an observer are looking at a source through a cloud of particles moving with this velocity, we'll see an absorption feature which has a central frequency at the frequency that we would expect.\n",
    "\n",
    "This simplistic model shows what would happen for a single particle moving in a given direction. In reality, the gas that will give rise to absorption or emission features will be comprised of many particles, with the velocities of the particles following a particular distribution. If the gas is in thermal equilibrium at a temperature of $T$, then the velocity distribution will follow a Maxwell-Boltzmann distribution, given by (from Lecture 13 of PY2104, notes online for those who haven't yet taken this course)\n",
    "$$\n",
    "    P(v)dv = 4\\pi v^2\\left( \\frac{m}{2 \\pi k_{\\rm B} T}\\right)^{3/2} \\exp \\left(\\frac{- mv ^2}{2k_{\\rm B}T}\\right) dv\n",
    "$$\n",
    "The most probable, average, and rms velocities of this distribution are given by\n",
    "\\begin{align}\n",
    "    v_{\\rm max}&=\\left(\\frac{2 k_{\\rm B} T}{m}\\right)^{1/2}\\\\\n",
    "    <v> &= \\left(\\frac{8 k_{\\rm B} T}{\\pi m}\\right)^{1/2} = \\frac{2}{\\sqrt{\\pi}} v_{\\rm max}\\\\\n",
    "    v_{\\rm RMS} &= \\sqrt{\\frac{3 k_{\\rm B} T}{ m}} = \\sqrt{\\frac{3}{2}} v_{\\rm max}\n",
    "\\end{align}"
   ]
  },
  {
   "cell_type": "code",
   "execution_count": 1,
   "id": "563ffeca-f5b0-4f9c-9ebc-305f423944f5",
   "metadata": {},
   "outputs": [
    {
     "data": {
      "image/png": "[encoded data removed]",
      "text/plain": [
       "<Figure size 450x300 with 1 Axes>"
      ]
     },
     "metadata": {
      "needs_background": "light"
     },
     "output_type": "display_data"
    }
   ],
   "source": [
    "import numpy as np\n",
    "import matplotlib.pyplot as plt\n",
    "\n",
    "u = np.arange(0,3,0.01) #in units of eps\n",
    "F = 4/ np.pi**(1/2) * u**2 * np.exp(-u**2)\n",
    "\n",
    "fig, ax = plt.subplots(ncols=1,figsize=[3,2],dpi=150)\n",
    "ax.plot(u,F)\n",
    "ax.set_xlabel(r\"$v/v_{\\rm max}$\")\n",
    "ax.set_ylabel(r\"$P(v)$\")\n",
    "ax.set_xlim(0,3)\n",
    "ax.set_ylim(0,0.85)\n",
    "ax.axvline(1,linestyle='-',color='grey',label=r'$v_{\\rm max}$')\n",
    "ax.axvline(2/np.sqrt(np.pi),linestyle='--',color='grey',label=r'$\\langle v \\rangle$')\n",
    "ax.axvline(np.sqrt(3/2),linestyle='-.',color='grey',label=r'$v_{\\rm rms}$')\n",
    "plt.legend()\n",
    "plt.tight_layout()\n",
    "plt.savefig(\"Figures/Maxwell_Distribution.png\")\n",
    "plt.show()"
   ]
  },
  {
   "cell_type": "markdown",
   "id": "a82b710b-b480-4335-a7e0-ab8b7e0ce70e",
   "metadata": {},
   "source": [
    "Now, the velocity of a particle can be broken into 3 components: $v_r, v_\\theta, v_\\phi$. Assuming the particles move isotropically ($v_r \\sim v_\\theta \\sim v_\\phi$), then we have that\n",
    "$$\n",
    "    < v^2 > = < v_r^2 >+< v_\\theta^2 >+< v_\\phi^2 > = 3 < v_r^2 >\n",
    "$$\n",
    "This gives us that\n",
    "$$\n",
    "    v_{r, {\\rm RMS}} = \\frac{1}{3} v_{\\rm RMS}\n",
    "$$\n",
    "Now, going back to the Doppler equation and plugging this in for our velocity, we find that\n",
    "$$\n",
    "    \\frac{\\delta \\lambda}{\\lambda_0} =  \\sqrt{\\frac{k_{\\rm B} T}{m c^2}}.\n",
    "$$\n",
    "The one issue with the above is that by considering the RMS velocity, we've lost information about whether the radial component of the velocities are pointing away or towards us. As such, we need to multiple this term by 2, which then\n",
    "$$\n",
    "    \\frac{\\delta \\lambda}{\\lambda_0} =  2\\sqrt{\\frac{k_{\\rm B} T}{m c^2}}.\n",
    "$$\n",
    "This is FWHM of the Doppler broadening we should expect due to the velocity distribution of a gas in thermal equilibrium at a temperature of $T$. The intensity profile is given by a Gaussian of the form\n",
    "$$\n",
    "     I(\\nu) = I_0 \\exp \\left[ - \\left(\\frac{c(\\nu-\\nu_0)}{\\nu_0 v_{max}}\\right)^2 \\right]\n",
    "$$\n",
    "where $v_{max}$ is the most probable velocity to occur given the Maxwell-Boltzmann distribution above. (Apologies that $\\nu$, the frequency, and $v$, the velocity, look quite similar).\n",
    "\n",
    "### Example: Hydrogen lines from the Sun\n",
    "The Balmer H$\\alpha$ transition ($n=2 \\to n=1$) transition occurs at a rest wavelength of $6563$ angstroms. The outer layer of the Sun is at a temperature of $T = 5800$ K. Assuming this layer is nearly entirely composed of hydrogen ($m_{\\rm H} = m_{\\rm p} = 1.67\\times 10^{-27}$kg, then the full width at half max of the absorption feature should be $\\delta \\lambda = 0.3$ angstroms.\n",
    "\n",
    "The natural broadening for this line is $\\delta \\lambda = 1.4\\times 10^{-4}$ angstroms, meaning Doppler broadening is 650 times stronger than natural broadening."
   ]
  },
  {
   "cell_type": "markdown",
   "id": "c2b3f346-bebd-4fdd-ae57-dbeb2b4830ee",
   "metadata": {},
   "source": [
    "## Rotational Doppler Broadening\n",
    "\n",
    "There is other types of motion which can give rise to Doppler broadening of a line. This is mainly due to rotation. Imagine we have a body rotating as shown below.\n",
    "\n",
    "![Doppler_Shift](Figures/Doppler_Rotation.png)\n",
    "\n",
    "The width of the line due to this rotation is simply given by\n",
    "$$\n",
    "    \\frac{\\delta \\lambda}{\\lambda} = \\frac{2 v_{\\rm rot, max}} {c} = \\frac{4\\pi R }{P c}\n",
    "$$\n",
    "where $v_{\\rm rot, max}$ is the maximum rotational velocity of the object (so at the equator), and $P$ is the rotational period of the object.\n",
    "\n",
    "Finally, there can also be turbulent broadening of the line, which involves the chaotic, bulk motions of gas rather than random motions within the gas.\n",
    "\n",
    "# Collisional/Pressure Broadening\n",
    "The final effect on absorption/emission features that we are going to talk about is collisional/pressure broadening. This is when we take into account what effect impacts between atoms have on their energy levels (recall the change in effective potential during scattering discussed in PY2101. The difference in the terms are\n",
    "1. Collisional Broadening is when each individual collision is considered.\n",
    "2. Pressure Broadening is when the statistical effect of many collisions is considered.\n",
    "\n",
    "The result of this broadening is very similar to natural broadening. However, a key difference is that this effect depends on the number density of particles in the environment, since this is related to the number of expected collisions which should occur. As such, this effect is stronger in dense environments.\n",
    "\n",
    "In order to get an estimate of the expected width of a collisional broadened line, we can lean on the result from natural line broadening. First, we are going to assume that every collision results in a particle being removed from an excited state. The mean time between collisions, $\\delta t_0$, will now replace the time uncertainty we used in Heisenberg's uncertainty principle when considering natural broadening. Hence, we get that \n",
    "$$\n",
    "    \\delta \\lambda  \\geq  \\frac{\\lambda^2}{2\\pi c \\delta t_0}\n",
    "$$\n",
    "The mean time between collisions is given by\n",
    "$$\n",
    "    \\delta t_0 = \\frac{l}{v}\n",
    "$$\n",
    "where $l$ is the mean free path of the particles and $v$ is the average velocity of the particles. Assuming the average velocity from a Maxwell-Boltzmann distribution gives\n",
    "$$\n",
    "    v = \\left(\\frac{8 k_{\\rm B} T}{\\pi m}\\right)^{1/2}\n",
    "$$\n",
    "So what is the mean free path, $l$? Consider a particle which is travelling at a velocity $v$ in a gas, as shown below. If we define the maximum separation at which we expect an interaction to occur between this particle and any other particle to be $R$, then as the particle travels through the gas, it carves out a cylinder of volume $V=\\sigma x$. $\\sigma$ is known as the cross sectional area of the particle, and is given by $\\sigma=\\pi R^2$. If any particle falls within the area $\\sigma$ as our particle moves, we would expect an interaction. For clarity, I have coloured the particles we expect an interaction to occur with as green, and those for which no interaction is expected as red.\n",
    "\n",
    "![MFP](Figures/Mean_Free_Path.png)\n",
    "\n",
    "The average length between interactions (mean free path) is then given by\n",
    "$$\n",
    "    l = \\frac{x}{N}\n",
    "$$\n",
    "where N is the total number of particles in the system, and is $N=Vn=x\\sigma n$. As such, the mean free path simplifies to\n",
    "$$\n",
    "    l = \\frac{1}{n \\sigma}\n",
    "$$\n",
    "As such, the average time between interactions is given by\n",
    "$$\n",
    "    \\delta t_0 = \\frac{1}{n\\sigma}\\left(\\frac{\\pi m}{8 k_{\\rm B} T}\\right)^{1/2}\n",
    "$$\n",
    "and so the expected width of the emission/absorption feature is given by\n",
    "$$\n",
    "    \\delta \\lambda \\geq  \\frac{\\lambda^2 n \\sigma }{2\\pi c} \\left(\\frac{8 k_{\\rm B} T}{\\pi m}\\right)^{1/2}\n",
    "$$\n",
    "Recalling that for an ideal gas $PV=Nk_{\\rm B}T$, which means $P=nk_{\\rm B}T$, then allows us to substitute in the above to get\n",
    "$$\n",
    "    \\delta \\lambda \\geq  \\frac{\\lambda^2 P \\sigma }{2\\pi c} \\left(\\frac{8 }{\\pi k_{\\rm B} T m}\\right)^{1/2}\n",
    "$$\n",
    "So, in the end, if we neglect Doppler effects, we would expect any line to be broadened due to two components - the natural broadening, and the pressure broadening, both of which can be used to give us physical insight into what's occuring within the medium that is either producing the absorption or emission features."
   ]
  },
  {
   "cell_type": "code",
   "execution_count": null,
   "id": "a1fa5787-a384-485a-ab2a-a3f11e42a55f",
   "metadata": {},
   "outputs": [],
   "source": []
  }
 ],
 "metadata": {
  "kernelspec": {
   "display_name": "Python 3 (ipykernel)",
   "language": "python",
   "name": "python3"
  },
  "language_info": {
   "codemirror_mode": {
    "name": "ipython",
    "version": 3
   },
   "file_extension": ".py",
   "mimetype": "text/x-python",
   "name": "python",
   "nbconvert_exporter": "python",
   "pygments_lexer": "ipython3",
   "version": "3.8.10"
  }
 },
 "nbformat": 4,
 "nbformat_minor": 5
}
