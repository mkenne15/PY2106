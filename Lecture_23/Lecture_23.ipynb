{
 "cells": [
  {
   "cell_type": "markdown",
   "id": "91f02901-1d02-4640-806e-feeb5c97b4c5",
   "metadata": {},
   "source": [
    "# Superluminal Motion"
   ]
  },
  {
   "cell_type": "markdown",
   "id": "7195e606-259e-4366-a076-0fa16edb67e8",
   "metadata": {},
   "source": [
    "Consider a source of radiation moving with velocity $v$ at an angle $\\theta$ to the line of sight toward the observer, as shown below.\n",
    "\n",
    "![Rel_Dop_Shift](Figures/Rel_Doppler_Shift_edit.png)\n",
    "\n",
    "The distance the source has moved across the sky is given by $\\Delta d_{\\rm sky} = v \\sin \\theta \\; \\Delta t$. The distance between the photons emitted at times $t_1$ amd $t_2$ is:\n",
    "$$\n",
    "    \\Delta x = c \\Delta t - v \\cos \\theta \\; \\Delta t = \\Delta t (c -v \\cos \\theta)\n",
    "$$\n",
    "and so the time measured between the arrival of these two photons is\n",
    "$$\n",
    "    \\Delta t_{\\rm arr} = \\frac{\\Delta x}{c} = \\Delta t \\left(1-\\frac{v}{c} \\cos \\theta \\right)\n",
    "$$\n",
    "And so the apparent speed of the object across the plane of the sky is given by\n",
    "$$\n",
    "    v_{\\rm app} = \\frac{\\Delta d_{\\rm sky}}{\\Delta t_{\\rm arr}} = \\frac{v \\sin \\theta}{1-\\frac{v}{c} \\cos \\theta}\n",
    "$$\n",
    "or, in terms of $\\beta = \\frac{v}{c}$\n",
    "$$\n",
    "    \\beta_{\\rm app} = \\frac{\\beta \\sin \\theta}{1- \\beta \\cos \\theta}\n",
    "$$\n",
    "The deduced speed of motion on the sky will differ from the true speed with which the object is moving.\n",
    "\n",
    "In order to find what the maximum value $\\beta_{\\rm app}$ can have is, we can take the derivative with respect to $\\theta$, and set the result equal to 0, giving\n",
    "\\begin{align}\n",
    "    (1 - \\beta \\cos \\theta)(\\beta \\cos \\theta) - \\beta \\sin \\theta (\\beta \\sin \\theta) &= 0\\\\\n",
    "    \\beta \\cos \\theta - \\beta^2 &= 0\\\\\n",
    "    \\cos \\theta &= \\beta\\\\\n",
    "    \\sin \\theta &= \\sqrt{1-\\cos^2 \\theta} = \\frac{1}{\\gamma}\n",
    "\\end{align}\n",
    "This is the angle for which $\\beta_{\\rm app}$ is greatest, for a given $\\beta$. We can work out what this is by plugging in these expressions for $\\cos \\theta$ and $\\sin \\theta$, and we get that\n",
    "$$\n",
    "    \\beta_{\\rm app} = \\frac{\\beta \\frac{1}{\\gamma}}{1- \\beta^2}= \\frac{\\beta}{\\gamma} \\gamma^2 = \\beta \\gamma\n",
    "$$\n",
    "Now, can this ever be greater than 1?\n",
    "\n",
    "\\begin{align}\n",
    "    \\beta \\gamma &> 1\\\\\n",
    "    \\beta^2 \\gamma^2 &> 1 \\\\\n",
    "    \\beta^2 \\left(\\frac{1}{1-\\beta^2} \\right) &> 1\\\\\n",
    "    \\beta^2 &> 1-\\beta^2\\\\\n",
    "    2\\beta^2 &> 1\\\\\n",
    "    \\beta &> \\frac{1}{\\sqrt{2}} = 0.707\\\\\n",
    "\\end{align}\n",
    "\n",
    "So, the observed apparent speed on the sky, $\\beta_{\\rm app}$, can be $>1$ ($v_{\\rm app}>c$) when $\\beta>0.707$ and the angle the object is moving at is at the correct angle to maximise this effect. The below plots show how both this angle and $\\beta_{\\rm app}$ depend on $\\beta$."
   ]
  },
  {
   "cell_type": "code",
   "execution_count": 8,
   "id": "b105a7d9-9a14-4ff9-8603-0b665f41eddf",
   "metadata": {},
   "outputs": [
    {
     "data": {
      "image/png": "[encoded data removed]",
      "text/plain": [
       "<Figure size 864x432 with 2 Axes>"
      ]
     },
     "metadata": {
      "needs_background": "light"
     },
     "output_type": "display_data"
    }
   ],
   "source": [
    "import numpy as np\n",
    "import matplotlib.pyplot as plt\n",
    "\n",
    "beta = np.arange(0.6,1.0,0.01)\n",
    "\n",
    "theta = np.arccos(beta)\n",
    "beta_app = beta*np.sin(theta)/(1-beta*np.cos(theta))\n",
    "\n",
    "fix, ax = plt.subplots(nrows=1, ncols=2, figsize=[12,6])\n",
    "ax[0].plot(beta,theta/np.pi*180)\n",
    "ax[1].plot(beta,beta_app)\n",
    "ax[0].set_xlabel(r\"$\\beta$\")\n",
    "ax[1].set_xlabel(r\"$\\beta$\")\n",
    "ax[0].set_ylabel(r\"$\\theta$ which maximises $\\beta_{\\rm app}$ ($^{\\rm o}$)\")\n",
    "ax[1].set_ylabel(r\"$\\beta_{\\rm app}$\")\n",
    "plt.show()"
   ]
  },
  {
   "cell_type": "markdown",
   "id": "454d94dd-3d92-4aab-88d8-3853193daeb0",
   "metadata": {},
   "source": [
    "Typical apparent speeds for features moving outward along jets in quasars are 3-10 c. This super lumioncal motion is clearly a relativistic effect. look back at how we derived this  - where does the relativity come in? It arises in the first line - we have assumed that the speed of the emitted photons is taken to always be c, even though they are emitted by a moving source."
   ]
  },
  {
   "cell_type": "markdown",
   "id": "88329b65-8840-4cd6-b330-73fdb37ce4ec",
   "metadata": {},
   "source": [
    "# Relativistic Momentum and Energy"
   ]
  },
  {
   "cell_type": "markdown",
   "id": "ba4d93dd-805e-4616-8b48-9e7bb07731dc",
   "metadata": {
    "tags": []
   },
   "source": [
    "Any quantity involving units of length and/or time will be affected by relativity. Momentum and energy are no exception. The relativistic momentum is given by\n",
    "$$\n",
    "    {\\bf p} = \\gamma m {\\bf v}\n",
    "$$\n",
    "When $v<<c$, then $\\gamma \\rightarrow 1$ and ${\\bf p} = m {\\bf v}$. Somes times thougth about in terms of an effective mass, where $m_{\\rm eff}=\\gamma m$.\n",
    "\n",
    "For energy,\n",
    "- Rest Energy $E_0 = mc^2$.\n",
    "- Total Energy $E = \\gamma mc^2$.\n",
    "- Kinetic Energy $K = E - E_0=(\\gamma - 1)mc^2$ (assuming an absence of a potential energy).\n",
    "\n",
    "We can't use the same trick to ensure this reduces to the classical result, as when $v<<c$, then $\\gamma \\rightarrow 1$ and then $(\\gamma - 1)\\rightarrow 0$, and $K \\rightarrow 0$. As such, we need to treat the approximations a bit more carefully. Starting with $\\gamma = (1-\\frac{v^2}{c^2})^{-1/2}$. We can use\n",
    "$$\n",
    "    (1+x)^n \\approx 1+nx\n",
    "$$\n",
    "when x is small. Using this for $\\gamma$ gives:\n",
    "\\begin{align}\n",
    "    \\gamma & \\approx 1+\\left(-\\frac{1}{2}\\right)\\left(-\\frac{v^2}{c^2}\\right)\\\\\n",
    "    & \\approx 1+\\frac{1}{2}\\frac{v^2}{c^2}\n",
    "\\end{align}\n",
    "So when $v<<c$, we are going to get\n",
    "\\begin{align}\n",
    "    K &= (\\gamma - 1)mc^2\\\\\n",
    "      &\\approx \\left(1+\\frac{1}{2}\\frac{v^2}{c^2} - 1 \\right)mc^2\\\\\n",
    "      &\\approx \\left(\\frac{1}{2}mv^2 \\right)\n",
    "\\end{align}\n",
    "which is the expected relation, (which is always a good thing to check).\n",
    "\n",
    "We can also find a relationship between the momentum and the kinetic energy.\n",
    "\\begin{align}\n",
    "    {\\bf p} &= \\gamma m {\\bf v}\\\\\n",
    "    K &= (\\gamma - 1)mc^2\n",
    "\\end{align}\n",
    "Remembering that $\\gamma$ is dependant on $v$, we can then use $v$ to relate these two equations. This eventually gives\n",
    "$$\n",
    "    p^2 c^2 = K^2 + 2 K mc^2\n",
    "$$\n",
    "Now, if we use $K=E-mc^2$, then we can get expressions for both $K^2$ and $2 K mc^2$:\n",
    "\\begin{align}\n",
    "    K^2 &= E^2 - 2Emc^2+m^2c^4\\\\\n",
    "    2Kmc^2 &= 2Emc^2 - 2m^2c^4\\\\\n",
    "\\end{align}\n",
    "Plugging these in, we then get:\n",
    "\n",
    "\\begin{align}\n",
    "    p^2 c^2 &= (E^2 - 2Emc^2+m^2c^4) + (2Emc^2 - 2m^2c^4)\\\\\n",
    "    E^2 &= p^2c^2+m^2c^4\n",
    "\\end{align}\n",
    "\n",
    "## Example: What is the total energy of a 2.53 MeV electron?\n",
    "So, the energy in the title refers to the the kinetic energy of the electron. Now\n",
    "$$\n",
    "    E = mc^2+k\n",
    "$$\n",
    "with $m=9.11\\times10^{-31}$ kg. $mc^2=8.18\\times10^{-14}$ J $=0.51 MeV$. So\n",
    "$$\n",
    "    E = 0.511+2.53=3.04 \\: {\\rm MeV}\n",
    "$$\n",
    "The electron's Lorentz factor is \n",
    "\n",
    "\\begin{align}\n",
    "    E &= \\gamma mc^2\\\\\n",
    "    \\gamma &= \\frac{E}{mc^2}=\\frac{3.040}{0.511}=5.94\n",
    "\\end{align}\n",
    "\n",
    "## Example: A very energetic cosmic-ray proton has K=$3\\times 10^{20}$ eV. What is the proton's Lorentz factor? How long does it take for this proton to travel across the Milky Way? How long does this same journey take in the protons rest frame?\n",
    "$$\n",
    "    \\gamma = \\frac{E}{mc^2}=\\frac{mc^2+K}{mc^2} = 1+\\frac{K}{mc^2}\n",
    "$$\n",
    "So now using $m=1.67\\times10^{-27}$ kg, we get that\n",
    "$$\n",
    "    \\gamma = 3.2\\times10^{11}\n",
    "$$\n",
    "which is a huge Lorentz factor - meaning the proton is travelling very, very close to the speed of light. \n",
    "\n",
    "Next, we want to find out how long it takes for the proton to travel across the Milky Way in our frame of reference. The Milky Way has a diameter of $30$ kpc. In light years, this is\n",
    "$$\n",
    "    D = 30\\times10^3 {\\rm \\: pc} \\times \\frac{3.26 {\\rm \\: ly}}{{\\rm pc}} = 9.78\\times10^4 {\\rm \\: ly}\n",
    "$$\n",
    "Since the proton is travelleing nearly at the speed of light, it takes $9.78\\times10^4$ years. \n",
    "\n",
    "How long does this take in the rest frame of the proton? We can simply use the time dilation formula for this. Recalling the definition of proper time (the shortest time interval is experienced in the frame in which the clock is at rest) means we would expect the time to be significantly shorter in the proton's rest frame.\n",
    "\n",
    "$\\Delta t$ = $\\gamma \\Delta t'$\n",
    "where the unprimed frame is the Earth's frame, and the primed frame is the rest frame of the proton.\n",
    "So\n",
    "$$\n",
    "    \\Delta t' = \\frac{\\Delta t}{\\gamma} = \\frac{9.78\\times10^4 {\\rm \\: years}}{3.2\\times10^{11}} = 9.7 {\\rm s}\n",
    "$$"
   ]
  },
  {
   "cell_type": "code",
   "execution_count": null,
   "id": "a9e27c57-cd5b-4f91-a47a-92be301cc756",
   "metadata": {},
   "outputs": [],
   "source": []
  }
 ],
 "metadata": {
  "kernelspec": {
   "display_name": "Python 3 (ipykernel)",
   "language": "python",
   "name": "python3"
  },
  "language_info": {
   "codemirror_mode": {
    "name": "ipython",
    "version": 3
   },
   "file_extension": ".py",
   "mimetype": "text/x-python",
   "name": "python",
   "nbconvert_exporter": "python",
   "pygments_lexer": "ipython3",
   "version": "3.8.10"
  }
 },
 "nbformat": 4,
 "nbformat_minor": 5
}
